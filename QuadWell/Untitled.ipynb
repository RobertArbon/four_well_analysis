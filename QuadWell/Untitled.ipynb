{
 "cells": [
  {
   "cell_type": "code",
   "execution_count": 97,
   "metadata": {
    "collapsed": false
   },
   "outputs": [],
   "source": [
    "from __future__ import print_function\n",
    "%matplotlib inline\n",
    "import numpy as np\n",
    "import matplotlib.pyplot as plt\n",
    "import scipy.stats.distributions\n",
    "from msmbuilder.example_datasets import load_quadwell\n",
    "from msmbuilder.example_datasets import quadwell_eigs\n",
    "from msmbuilder.cluster import NDGrid\n",
    "from msmbuilder.msm import MarkovStateModel\n",
    "from sklearn.pipeline import Pipeline\n",
    "from sklearn.model_selection import GridSearchCV\n",
    "import seaborn as sns\n",
    "import pandas as pd"
   ]
  },
  {
   "cell_type": "code",
   "execution_count": 30,
   "metadata": {
    "collapsed": false
   },
   "outputs": [],
   "source": [
    "grids = np.arange(20, 100, 1)\n",
    "gmrq4 = np.zeros(grids.shape[0])\n",
    "for row, i in enumerate(grids):\n",
    "    gmrq4[row] = quadwell_eigs(i)[0][:4].sum()"
   ]
  },
  {
   "cell_type": "code",
   "execution_count": 71,
   "metadata": {
    "collapsed": false
   },
   "outputs": [],
   "source": [
    "dataset = [t for t in load_quadwell(random_state=i).trajectories for i in np.arange(10,110,10)]"
   ]
  },
  {
   "cell_type": "code",
   "execution_count": 158,
   "metadata": {
    "collapsed": true
   },
   "outputs": [],
   "source": [
    "dataset_sh = [t[:10] for t in dataset]"
   ]
  },
  {
   "cell_type": "code",
   "execution_count": 91,
   "metadata": {
    "collapsed": false
   },
   "outputs": [],
   "source": [
    "u, rv = quadwell_eigs(300)"
   ]
  },
  {
   "cell_type": "code",
   "execution_count": 92,
   "metadata": {
    "collapsed": false
   },
   "outputs": [
    {
     "name": "stderr",
     "output_type": "stream",
     "text": [
      "/Users/robert_arbon/anaconda/envs/ml4dyn/lib/python3.5/site-packages/ipykernel/__main__.py:1: RuntimeWarning: invalid value encountered in log\n",
      "  if __name__ == '__main__':\n"
     ]
    },
    {
     "data": {
      "text/plain": [
       "[<matplotlib.lines.Line2D at 0x11ef2da90>]"
      ]
     },
     "execution_count": 92,
     "metadata": {},
     "output_type": "execute_result"
    },
    {
     "data": {
      "image/png": "[encoded data removed]",
      "text/plain": [
       "<matplotlib.figure.Figure at 0x11f0547b8>"
      ]
     },
     "metadata": {},
     "output_type": "display_data"
    }
   ],
   "source": [
    "ts = -1/np.log(u[1:])\n",
    "plt.plot(ts[:10]/ts[1:11], marker='o', ls='')\n",
    "# plt.yscale('log')"
   ]
  },
  {
   "cell_type": "code",
   "execution_count": 198,
   "metadata": {
    "collapsed": false
   },
   "outputs": [
    {
     "data": {
      "text/plain": [
       "<matplotlib.legend.Legend at 0x126aeac18>"
      ]
     },
     "execution_count": 198,
     "metadata": {},
     "output_type": "execute_result"
    },
    {
     "data": {
      "image/png": "[encoded data removed]",
      "text/plain": [
       "<matplotlib.figure.Figure at 0x127d4c2b0>"
      ]
     },
     "metadata": {},
     "output_type": "display_data"
    }
   ],
   "source": [
    "sns.distplot(np.concatenate(dataset), label='all', kde=True, hist=False)\n",
    "sns.distplot(np.concatenate(dataset[:10]), label='portion', kde=True, hist=False)\n",
    "plt.legend()"
   ]
  },
  {
   "cell_type": "code",
   "execution_count": 160,
   "metadata": {
    "collapsed": true
   },
   "outputs": [],
   "source": [
    "pipeline = Pipeline([\n",
    "    ('grid', NDGrid(min=-1.2, max=1.2)),\n",
    "    ('msm', MarkovStateModel(n_timescales=3, reversible_type='transpose', verbose=False)),\n",
    "])\n"
   ]
  },
  {
   "cell_type": "code",
   "execution_count": null,
   "metadata": {
    "collapsed": false
   },
   "outputs": [],
   "source": [
    "search = GridSearchCV(pipeline, cv=2, refit=False, \n",
    "                      param_grid={'grid__n_bins_per_feature': list(np.arange(2,50,1))})\n",
    "search.fit(dataset[:15])"
   ]
  },
  {
   "cell_type": "code",
   "execution_count": 204,
   "metadata": {
    "collapsed": false
   },
   "outputs": [],
   "source": [
    "df = pd.DataFrame(search.cv_results_)"
   ]
  },
  {
   "cell_type": "code",
   "execution_count": 205,
   "metadata": {
    "collapsed": false
   },
   "outputs": [
    {
     "data": {
      "text/html": [
       "<div>\n",
       "<style>\n",
       "    .dataframe thead tr:only-child th {\n",
       "        text-align: right;\n",
       "    }\n",
       "\n",
       "    .dataframe thead th {\n",
       "        text-align: left;\n",
       "    }\n",
       "\n",
       "    .dataframe tbody tr th {\n",
       "        vertical-align: top;\n",
       "    }\n",
       "</style>\n",
       "<table border=\"1\" class=\"dataframe\">\n",
       "  <thead>\n",
       "    <tr style=\"text-align: right;\">\n",
       "      <th></th>\n",
       "      <th>mean_fit_time</th>\n",
       "      <th>mean_score_time</th>\n",
       "      <th>mean_test_score</th>\n",
       "      <th>mean_train_score</th>\n",
       "      <th>param_grid__n_bins_per_feature</th>\n",
       "      <th>params</th>\n",
       "      <th>rank_test_score</th>\n",
       "      <th>split0_test_score</th>\n",
       "      <th>split0_train_score</th>\n",
       "      <th>split1_test_score</th>\n",
       "      <th>split1_train_score</th>\n",
       "      <th>std_fit_time</th>\n",
       "      <th>std_score_time</th>\n",
       "      <th>std_test_score</th>\n",
       "      <th>std_train_score</th>\n",
       "    </tr>\n",
       "  </thead>\n",
       "  <tbody>\n",
       "    <tr>\n",
       "      <th>0</th>\n",
       "      <td>0.007882</td>\n",
       "      <td>0.011395</td>\n",
       "      <td>1.000000</td>\n",
       "      <td>1.000000</td>\n",
       "      <td>2</td>\n",
       "      <td>{'grid__n_bins_per_feature': 2}</td>\n",
       "      <td>48</td>\n",
       "      <td>1.000000</td>\n",
       "      <td>1.000000</td>\n",
       "      <td>1.000000</td>\n",
       "      <td>1.000000</td>\n",
       "      <td>0.000363</td>\n",
       "      <td>0.001470</td>\n",
       "      <td>0.0</td>\n",
       "      <td>0.0</td>\n",
       "    </tr>\n",
       "    <tr>\n",
       "      <th>1</th>\n",
       "      <td>0.009143</td>\n",
       "      <td>0.004559</td>\n",
       "      <td>1.886981</td>\n",
       "      <td>1.886981</td>\n",
       "      <td>3</td>\n",
       "      <td>{'grid__n_bins_per_feature': 3}</td>\n",
       "      <td>46</td>\n",
       "      <td>1.886981</td>\n",
       "      <td>1.886981</td>\n",
       "      <td>1.886981</td>\n",
       "      <td>1.886981</td>\n",
       "      <td>0.003157</td>\n",
       "      <td>0.000159</td>\n",
       "      <td>0.0</td>\n",
       "      <td>0.0</td>\n",
       "    </tr>\n",
       "    <tr>\n",
       "      <th>2</th>\n",
       "      <td>0.004323</td>\n",
       "      <td>0.004373</td>\n",
       "      <td>1.847980</td>\n",
       "      <td>1.847980</td>\n",
       "      <td>4</td>\n",
       "      <td>{'grid__n_bins_per_feature': 4}</td>\n",
       "      <td>47</td>\n",
       "      <td>1.847980</td>\n",
       "      <td>1.847980</td>\n",
       "      <td>1.847980</td>\n",
       "      <td>1.847980</td>\n",
       "      <td>0.000210</td>\n",
       "      <td>0.000170</td>\n",
       "      <td>0.0</td>\n",
       "      <td>0.0</td>\n",
       "    </tr>\n",
       "    <tr>\n",
       "      <th>3</th>\n",
       "      <td>0.005351</td>\n",
       "      <td>0.004512</td>\n",
       "      <td>2.504572</td>\n",
       "      <td>2.504572</td>\n",
       "      <td>5</td>\n",
       "      <td>{'grid__n_bins_per_feature': 5}</td>\n",
       "      <td>45</td>\n",
       "      <td>2.504572</td>\n",
       "      <td>2.504572</td>\n",
       "      <td>2.504572</td>\n",
       "      <td>2.504572</td>\n",
       "      <td>0.000471</td>\n",
       "      <td>0.000006</td>\n",
       "      <td>0.0</td>\n",
       "      <td>0.0</td>\n",
       "    </tr>\n",
       "    <tr>\n",
       "      <th>4</th>\n",
       "      <td>0.005283</td>\n",
       "      <td>0.005517</td>\n",
       "      <td>2.627931</td>\n",
       "      <td>2.627931</td>\n",
       "      <td>6</td>\n",
       "      <td>{'grid__n_bins_per_feature': 6}</td>\n",
       "      <td>44</td>\n",
       "      <td>2.627931</td>\n",
       "      <td>2.627931</td>\n",
       "      <td>2.627931</td>\n",
       "      <td>2.627931</td>\n",
       "      <td>0.000842</td>\n",
       "      <td>0.000318</td>\n",
       "      <td>0.0</td>\n",
       "      <td>0.0</td>\n",
       "    </tr>\n",
       "  </tbody>\n",
       "</table>\n",
       "</div>"
      ],
      "text/plain": [
       "   mean_fit_time  mean_score_time  mean_test_score  mean_train_score  \\\n",
       "0       0.007882         0.011395         1.000000          1.000000   \n",
       "1       0.009143         0.004559         1.886981          1.886981   \n",
       "2       0.004323         0.004373         1.847980          1.847980   \n",
       "3       0.005351         0.004512         2.504572          2.504572   \n",
       "4       0.005283         0.005517         2.627931          2.627931   \n",
       "\n",
       "  param_grid__n_bins_per_feature                           params  \\\n",
       "0                              2  {'grid__n_bins_per_feature': 2}   \n",
       "1                              3  {'grid__n_bins_per_feature': 3}   \n",
       "2                              4  {'grid__n_bins_per_feature': 4}   \n",
       "3                              5  {'grid__n_bins_per_feature': 5}   \n",
       "4                              6  {'grid__n_bins_per_feature': 6}   \n",
       "\n",
       "   rank_test_score  split0_test_score  split0_train_score  split1_test_score  \\\n",
       "0               48           1.000000            1.000000           1.000000   \n",
       "1               46           1.886981            1.886981           1.886981   \n",
       "2               47           1.847980            1.847980           1.847980   \n",
       "3               45           2.504572            2.504572           2.504572   \n",
       "4               44           2.627931            2.627931           2.627931   \n",
       "\n",
       "   split1_train_score  std_fit_time  std_score_time  std_test_score  \\\n",
       "0            1.000000      0.000363        0.001470             0.0   \n",
       "1            1.886981      0.003157        0.000159             0.0   \n",
       "2            1.847980      0.000210        0.000170             0.0   \n",
       "3            2.504572      0.000471        0.000006             0.0   \n",
       "4            2.627931      0.000842        0.000318             0.0   \n",
       "\n",
       "   std_train_score  \n",
       "0              0.0  \n",
       "1              0.0  \n",
       "2              0.0  \n",
       "3              0.0  \n",
       "4              0.0  "
      ]
     },
     "execution_count": 205,
     "metadata": {},
     "output_type": "execute_result"
    }
   ],
   "source": [
    "df.head()"
   ]
  },
  {
   "cell_type": "code",
   "execution_count": 206,
   "metadata": {
    "collapsed": false
   },
   "outputs": [
    {
     "data": {
      "text/plain": [
       "<matplotlib.legend.Legend at 0x126dca198>"
      ]
     },
     "execution_count": 206,
     "metadata": {},
     "output_type": "execute_result"
    },
    {
     "data": {
      "image/png": "[encoded data removed]",
      "text/plain": [
       "<matplotlib.figure.Figure at 0x126b08160>"
      ]
     },
     "metadata": {},
     "output_type": "display_data"
    }
   ],
   "source": [
    "plt.errorbar(df['param_grid__n_bins_per_feature'], df['mean_test_score'],yerr=df['std_test_score'], label='test')\n",
    "plt.errorbar(df['param_grid__n_bins_per_feature'], df['mean_train_score'],yerr=df['std_train_score'], label='train')\n",
    "plt.legend()"
   ]
  },
  {
   "cell_type": "code",
   "execution_count": 138,
   "metadata": {
    "collapsed": false
   },
   "outputs": [],
   "source": [
    "df.sort_values(by='mean_test_score', inplace=True, ascending=False)"
   ]
  },
  {
   "cell_type": "code",
   "execution_count": 139,
   "metadata": {
    "collapsed": false
   },
   "outputs": [
    {
     "data": {
      "text/plain": [
       "<matplotlib.legend.Legend at 0x120900e48>"
      ]
     },
     "execution_count": 139,
     "metadata": {},
     "output_type": "execute_result"
    },
    {
     "data": {
      "image/png": "[encoded data removed]",
      "text/plain": [
       "<matplotlib.figure.Figure at 0x120890860>"
      ]
     },
     "metadata": {},
     "output_type": "display_data"
    }
   ],
   "source": [
    "plt.errorbar(np.arange(len(df)), df['mean_test_score'],yerr=df['std_test_score'], label='test')\n",
    "plt.errorbar(np.arange(len(df)), df['mean_train_score'],yerr=df['std_train_score'], label='train')\n",
    "plt.legend()"
   ]
  },
  {
   "cell_type": "code",
   "execution_count": null,
   "metadata": {
    "collapsed": true
   },
   "outputs": [],
   "source": []
  }
 ],
 "metadata": {
  "kernelspec": {
   "display_name": "Python 3",
   "language": "python",
   "name": "python3"
  },
  "language_info": {
   "codemirror_mode": {
    "name": "ipython",
    "version": 3
   },
   "file_extension": ".py",
   "mimetype": "text/x-python",
   "name": "python",
   "nbconvert_exporter": "python",
   "pygments_lexer": "ipython3",
   "version": "3.5.2"
  }
 },
 "nbformat": 4,
 "nbformat_minor": 2
}
