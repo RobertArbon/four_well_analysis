{
 "cells": [
  {
   "cell_type": "code",
   "execution_count": 1,
   "metadata": {
    "collapsed": false
   },
   "outputs": [
    {
     "name": "stderr",
     "output_type": "stream",
     "text": [
      "/Users/robert_arbon/anaconda/envs/ml4dyn/lib/python3.5/site-packages/sklearn/cross_validation.py:41: DeprecationWarning: This module was deprecated in version 0.18 in favor of the model_selection module into which all the refactored classes and functions are moved. Also note that the interface of the new CV iterators are different from that of this module. This module will be removed in 0.20.\n",
      "  \"This module will be removed in 0.20.\", DeprecationWarning)\n",
      "/Users/robert_arbon/anaconda/envs/ml4dyn/lib/python3.5/site-packages/sklearn/grid_search.py:42: DeprecationWarning: This module was deprecated in version 0.18 in favor of the model_selection module into which all the refactored classes and functions are moved. This module will be removed in 0.20.\n",
      "  DeprecationWarning)\n"
     ]
    }
   ],
   "source": [
    "import pandas as pd\n",
    "import numpy as np\n",
    "from osprey.config import Config\n",
    "import seaborn as sns\n",
    "import matplotlib.pyplot as plt\n",
    "%matplotlib inline\n",
    "from os.path import join"
   ]
  },
  {
   "cell_type": "code",
   "execution_count": 2,
   "metadata": {
    "collapsed": false
   },
   "outputs": [
    {
     "name": "stdout",
     "output_type": "stream",
     "text": [
      "Loading config file:     ./config-shuffle.yaml...\n",
      "Loading trials database: sqlite:///osprey-trials.db...\n"
     ]
    }
   ],
   "source": [
    "\n",
    "df = Config(join('./', 'config-shuffle.yaml')).trial_results()\n",
    "df['data_fraction'] = 0.005"
   ]
  },
  {
   "cell_type": "code",
   "execution_count": 3,
   "metadata": {
    "collapsed": false
   },
   "outputs": [
    {
     "data": {
      "text/html": [
       "<div>\n",
       "<style>\n",
       "    .dataframe thead tr:only-child th {\n",
       "        text-align: right;\n",
       "    }\n",
       "\n",
       "    .dataframe thead th {\n",
       "        text-align: left;\n",
       "    }\n",
       "\n",
       "    .dataframe tbody tr th {\n",
       "        vertical-align: top;\n",
       "    }\n",
       "</style>\n",
       "<table border=\"1\" class=\"dataframe\">\n",
       "  <thead>\n",
       "    <tr style=\"text-align: right;\">\n",
       "      <th></th>\n",
       "      <th>completed</th>\n",
       "      <th>config_sha1</th>\n",
       "      <th>elapsed</th>\n",
       "      <th>host</th>\n",
       "      <th>id</th>\n",
       "      <th>mean_test_score</th>\n",
       "      <th>mean_train_score</th>\n",
       "      <th>n_test_samples</th>\n",
       "      <th>n_train_samples</th>\n",
       "      <th>parameters</th>\n",
       "      <th>project_name</th>\n",
       "      <th>started</th>\n",
       "      <th>status</th>\n",
       "      <th>test_scores</th>\n",
       "      <th>traceback</th>\n",
       "      <th>train_scores</th>\n",
       "      <th>user</th>\n",
       "      <th>data_fraction</th>\n",
       "    </tr>\n",
       "  </thead>\n",
       "  <tbody>\n",
       "    <tr>\n",
       "      <th>196</th>\n",
       "      <td>2017-12-17 00:26:33.214340</td>\n",
       "      <td>dec0253b485970a8f5583bd563ac6e5027079b78</td>\n",
       "      <td>1970-01-01 00:00:03.673543</td>\n",
       "      <td>MacBook-Pro-3.local</td>\n",
       "      <td>298</td>\n",
       "      <td>1.173087</td>\n",
       "      <td>3.114805</td>\n",
       "      <td>[398, 398, 398, 398, 398, 398, 398, 398, 398, ...</td>\n",
       "      <td>[396, 396, 396, 396, 396, 396, 396, 396, 396, ...</td>\n",
       "      <td>{'msm__sparse': False, 'msm__count_mode': 'sli...</td>\n",
       "      <td>split</td>\n",
       "      <td>2017-12-17 00:26:29.540797</td>\n",
       "      <td>SUCCEEDED</td>\n",
       "      <td>[1.1277327771983625, 1.0995539952736142, 1.222...</td>\n",
       "      <td>None</td>\n",
       "      <td>[3.3364295026189965, 3.269087510786302, 3.1175...</td>\n",
       "      <td>robert_arbon</td>\n",
       "      <td>0.005</td>\n",
       "    </tr>\n",
       "    <tr>\n",
       "      <th>197</th>\n",
       "      <td>2017-12-17 00:26:36.889086</td>\n",
       "      <td>dec0253b485970a8f5583bd563ac6e5027079b78</td>\n",
       "      <td>1970-01-01 00:00:03.550614</td>\n",
       "      <td>MacBook-Pro-3.local</td>\n",
       "      <td>299</td>\n",
       "      <td>1.247005</td>\n",
       "      <td>3.181095</td>\n",
       "      <td>[398, 398, 398, 398, 398, 398, 398, 398, 398, ...</td>\n",
       "      <td>[396, 396, 396, 396, 396, 396, 396, 396, 396, ...</td>\n",
       "      <td>{'msm__sparse': False, 'msm__count_mode': 'sli...</td>\n",
       "      <td>split</td>\n",
       "      <td>2017-12-17 00:26:33.338472</td>\n",
       "      <td>SUCCEEDED</td>\n",
       "      <td>[1.1286849851030878, 1.2002986830432143, 1.083...</td>\n",
       "      <td>None</td>\n",
       "      <td>[3.2176414110317553, 3.325809849850531, 3.4036...</td>\n",
       "      <td>robert_arbon</td>\n",
       "      <td>0.005</td>\n",
       "    </tr>\n",
       "    <tr>\n",
       "      <th>198</th>\n",
       "      <td>2017-12-17 00:26:40.028509</td>\n",
       "      <td>dec0253b485970a8f5583bd563ac6e5027079b78</td>\n",
       "      <td>1970-01-01 00:00:03.048470</td>\n",
       "      <td>MacBook-Pro-3.local</td>\n",
       "      <td>300</td>\n",
       "      <td>1.175551</td>\n",
       "      <td>3.155913</td>\n",
       "      <td>[398, 398, 398, 398, 398, 398, 398, 398, 398, ...</td>\n",
       "      <td>[396, 396, 396, 396, 396, 396, 396, 396, 396, ...</td>\n",
       "      <td>{'msm__sparse': False, 'msm__count_mode': 'sli...</td>\n",
       "      <td>split</td>\n",
       "      <td>2017-12-17 00:26:36.980039</td>\n",
       "      <td>SUCCEEDED</td>\n",
       "      <td>[1.1048955759230468, 1.404159972029136, 1.1518...</td>\n",
       "      <td>None</td>\n",
       "      <td>[3.170904031857687, 3.216056439078603, 2.91903...</td>\n",
       "      <td>robert_arbon</td>\n",
       "      <td>0.005</td>\n",
       "    </tr>\n",
       "    <tr>\n",
       "      <th>199</th>\n",
       "      <td>2017-12-17 00:26:43.312718</td>\n",
       "      <td>dec0253b485970a8f5583bd563ac6e5027079b78</td>\n",
       "      <td>1970-01-01 00:00:03.189598</td>\n",
       "      <td>MacBook-Pro-3.local</td>\n",
       "      <td>301</td>\n",
       "      <td>1.172327</td>\n",
       "      <td>3.216362</td>\n",
       "      <td>[398, 398, 398, 398, 398, 398, 398, 398, 398, ...</td>\n",
       "      <td>[396, 396, 396, 396, 396, 396, 396, 396, 396, ...</td>\n",
       "      <td>{'msm__sparse': False, 'msm__count_mode': 'sli...</td>\n",
       "      <td>split</td>\n",
       "      <td>2017-12-17 00:26:40.123120</td>\n",
       "      <td>SUCCEEDED</td>\n",
       "      <td>[1.2172856481224377, 1.0220893898866137, 1.091...</td>\n",
       "      <td>None</td>\n",
       "      <td>[3.061933685248229, 3.257737727255495, 3.38964...</td>\n",
       "      <td>robert_arbon</td>\n",
       "      <td>0.005</td>\n",
       "    </tr>\n",
       "    <tr>\n",
       "      <th>200</th>\n",
       "      <td>2017-12-17 00:26:46.803583</td>\n",
       "      <td>dec0253b485970a8f5583bd563ac6e5027079b78</td>\n",
       "      <td>1970-01-01 00:00:03.236189</td>\n",
       "      <td>MacBook-Pro-3.local</td>\n",
       "      <td>302</td>\n",
       "      <td>1.237464</td>\n",
       "      <td>3.259083</td>\n",
       "      <td>[398, 398, 398, 398, 398, 398, 398, 398, 398, ...</td>\n",
       "      <td>[396, 396, 396, 396, 396, 396, 396, 396, 396, ...</td>\n",
       "      <td>{'msm__sparse': False, 'msm__count_mode': 'sli...</td>\n",
       "      <td>split</td>\n",
       "      <td>2017-12-17 00:26:43.567394</td>\n",
       "      <td>SUCCEEDED</td>\n",
       "      <td>[1.58272084223212, 1.1487047937200023, 1.25921...</td>\n",
       "      <td>None</td>\n",
       "      <td>[3.4371187881608902, 3.132341143458952, 3.2743...</td>\n",
       "      <td>robert_arbon</td>\n",
       "      <td>0.005</td>\n",
       "    </tr>\n",
       "  </tbody>\n",
       "</table>\n",
       "</div>"
      ],
      "text/plain": [
       "                      completed                               config_sha1  \\\n",
       "196  2017-12-17 00:26:33.214340  dec0253b485970a8f5583bd563ac6e5027079b78   \n",
       "197  2017-12-17 00:26:36.889086  dec0253b485970a8f5583bd563ac6e5027079b78   \n",
       "198  2017-12-17 00:26:40.028509  dec0253b485970a8f5583bd563ac6e5027079b78   \n",
       "199  2017-12-17 00:26:43.312718  dec0253b485970a8f5583bd563ac6e5027079b78   \n",
       "200  2017-12-17 00:26:46.803583  dec0253b485970a8f5583bd563ac6e5027079b78   \n",
       "\n",
       "                        elapsed                 host   id  mean_test_score  \\\n",
       "196  1970-01-01 00:00:03.673543  MacBook-Pro-3.local  298         1.173087   \n",
       "197  1970-01-01 00:00:03.550614  MacBook-Pro-3.local  299         1.247005   \n",
       "198  1970-01-01 00:00:03.048470  MacBook-Pro-3.local  300         1.175551   \n",
       "199  1970-01-01 00:00:03.189598  MacBook-Pro-3.local  301         1.172327   \n",
       "200  1970-01-01 00:00:03.236189  MacBook-Pro-3.local  302         1.237464   \n",
       "\n",
       "     mean_train_score                                     n_test_samples  \\\n",
       "196          3.114805  [398, 398, 398, 398, 398, 398, 398, 398, 398, ...   \n",
       "197          3.181095  [398, 398, 398, 398, 398, 398, 398, 398, 398, ...   \n",
       "198          3.155913  [398, 398, 398, 398, 398, 398, 398, 398, 398, ...   \n",
       "199          3.216362  [398, 398, 398, 398, 398, 398, 398, 398, 398, ...   \n",
       "200          3.259083  [398, 398, 398, 398, 398, 398, 398, 398, 398, ...   \n",
       "\n",
       "                                       n_train_samples  \\\n",
       "196  [396, 396, 396, 396, 396, 396, 396, 396, 396, ...   \n",
       "197  [396, 396, 396, 396, 396, 396, 396, 396, 396, ...   \n",
       "198  [396, 396, 396, 396, 396, 396, 396, 396, 396, ...   \n",
       "199  [396, 396, 396, 396, 396, 396, 396, 396, 396, ...   \n",
       "200  [396, 396, 396, 396, 396, 396, 396, 396, 396, ...   \n",
       "\n",
       "                                            parameters project_name  \\\n",
       "196  {'msm__sparse': False, 'msm__count_mode': 'sli...        split   \n",
       "197  {'msm__sparse': False, 'msm__count_mode': 'sli...        split   \n",
       "198  {'msm__sparse': False, 'msm__count_mode': 'sli...        split   \n",
       "199  {'msm__sparse': False, 'msm__count_mode': 'sli...        split   \n",
       "200  {'msm__sparse': False, 'msm__count_mode': 'sli...        split   \n",
       "\n",
       "                        started     status  \\\n",
       "196  2017-12-17 00:26:29.540797  SUCCEEDED   \n",
       "197  2017-12-17 00:26:33.338472  SUCCEEDED   \n",
       "198  2017-12-17 00:26:36.980039  SUCCEEDED   \n",
       "199  2017-12-17 00:26:40.123120  SUCCEEDED   \n",
       "200  2017-12-17 00:26:43.567394  SUCCEEDED   \n",
       "\n",
       "                                           test_scores traceback  \\\n",
       "196  [1.1277327771983625, 1.0995539952736142, 1.222...      None   \n",
       "197  [1.1286849851030878, 1.2002986830432143, 1.083...      None   \n",
       "198  [1.1048955759230468, 1.404159972029136, 1.1518...      None   \n",
       "199  [1.2172856481224377, 1.0220893898866137, 1.091...      None   \n",
       "200  [1.58272084223212, 1.1487047937200023, 1.25921...      None   \n",
       "\n",
       "                                          train_scores          user  \\\n",
       "196  [3.3364295026189965, 3.269087510786302, 3.1175...  robert_arbon   \n",
       "197  [3.2176414110317553, 3.325809849850531, 3.4036...  robert_arbon   \n",
       "198  [3.170904031857687, 3.216056439078603, 2.91903...  robert_arbon   \n",
       "199  [3.061933685248229, 3.257737727255495, 3.38964...  robert_arbon   \n",
       "200  [3.4371187881608902, 3.132341143458952, 3.2743...  robert_arbon   \n",
       "\n",
       "     data_fraction  \n",
       "196          0.005  \n",
       "197          0.005  \n",
       "198          0.005  \n",
       "199          0.005  \n",
       "200          0.005  "
      ]
     },
     "execution_count": 3,
     "metadata": {},
     "output_type": "execute_result"
    }
   ],
   "source": [
    "df.tail()\n"
   ]
  },
  {
   "cell_type": "code",
   "execution_count": 4,
   "metadata": {
    "collapsed": true
   },
   "outputs": [],
   "source": [
    "df = df.loc[:, ['parameters', 'test_scores', 'train_scores', 'data_fraction', 'project_name']]"
   ]
  },
  {
   "cell_type": "code",
   "execution_count": 5,
   "metadata": {
    "collapsed": true
   },
   "outputs": [],
   "source": [
    "variables = ['msm__score_k', 'msm__score_method', 'cluster__n_bins_per_feature']\n",
    "for variable in variables: \n",
    "    df[variable] = df['parameters'].apply(lambda x: x[variable])\n",
    "del df['parameters']"
   ]
  },
  {
   "cell_type": "code",
   "execution_count": 6,
   "metadata": {
    "collapsed": true
   },
   "outputs": [],
   "source": [
    "for x in ['test', 'train']:\n",
    "    df[x+'_scores_std'] = df[x+'_scores'].apply(lambda x: np.std(x))\n",
    "    df[x+'_scores_median'] = df[x+'_scores'].apply(lambda x: np.median(x))\n",
    "    del df[x+'_scores']"
   ]
  },
  {
   "cell_type": "code",
   "execution_count": 7,
   "metadata": {
    "collapsed": false
   },
   "outputs": [
    {
     "data": {
      "text/html": [
       "<div>\n",
       "<style>\n",
       "    .dataframe thead tr:only-child th {\n",
       "        text-align: right;\n",
       "    }\n",
       "\n",
       "    .dataframe thead th {\n",
       "        text-align: left;\n",
       "    }\n",
       "\n",
       "    .dataframe tbody tr th {\n",
       "        vertical-align: top;\n",
       "    }\n",
       "</style>\n",
       "<table border=\"1\" class=\"dataframe\">\n",
       "  <thead>\n",
       "    <tr style=\"text-align: right;\">\n",
       "      <th></th>\n",
       "      <th>data_fraction</th>\n",
       "      <th>project_name</th>\n",
       "      <th>msm__score_k</th>\n",
       "      <th>msm__score_method</th>\n",
       "      <th>cluster__n_bins_per_feature</th>\n",
       "      <th>test_scores_std</th>\n",
       "      <th>test_scores_median</th>\n",
       "      <th>train_scores_std</th>\n",
       "      <th>train_scores_median</th>\n",
       "    </tr>\n",
       "  </thead>\n",
       "  <tbody>\n",
       "    <tr>\n",
       "      <th>0</th>\n",
       "      <td>0.005</td>\n",
       "      <td>rs_1</td>\n",
       "      <td>4</td>\n",
       "      <td>vamp2</td>\n",
       "      <td>10</td>\n",
       "      <td>0.037584</td>\n",
       "      <td>2.998554</td>\n",
       "      <td>0.036347</td>\n",
       "      <td>2.981903</td>\n",
       "    </tr>\n",
       "    <tr>\n",
       "      <th>1</th>\n",
       "      <td>0.005</td>\n",
       "      <td>rs_1</td>\n",
       "      <td>4</td>\n",
       "      <td>vamp2</td>\n",
       "      <td>20</td>\n",
       "      <td>0.037138</td>\n",
       "      <td>3.065565</td>\n",
       "      <td>0.034957</td>\n",
       "      <td>3.053872</td>\n",
       "    </tr>\n",
       "    <tr>\n",
       "      <th>2</th>\n",
       "      <td>0.005</td>\n",
       "      <td>rs_1</td>\n",
       "      <td>4</td>\n",
       "      <td>vamp2</td>\n",
       "      <td>30</td>\n",
       "      <td>0.037392</td>\n",
       "      <td>3.082849</td>\n",
       "      <td>0.034557</td>\n",
       "      <td>3.071677</td>\n",
       "    </tr>\n",
       "    <tr>\n",
       "      <th>3</th>\n",
       "      <td>0.005</td>\n",
       "      <td>rs_1</td>\n",
       "      <td>4</td>\n",
       "      <td>vamp2</td>\n",
       "      <td>40</td>\n",
       "      <td>0.038435</td>\n",
       "      <td>3.089360</td>\n",
       "      <td>0.035423</td>\n",
       "      <td>3.077011</td>\n",
       "    </tr>\n",
       "    <tr>\n",
       "      <th>4</th>\n",
       "      <td>0.005</td>\n",
       "      <td>rs_1</td>\n",
       "      <td>4</td>\n",
       "      <td>vamp2</td>\n",
       "      <td>50</td>\n",
       "      <td>0.038053</td>\n",
       "      <td>3.091582</td>\n",
       "      <td>0.035126</td>\n",
       "      <td>3.078625</td>\n",
       "    </tr>\n",
       "  </tbody>\n",
       "</table>\n",
       "</div>"
      ],
      "text/plain": [
       "   data_fraction project_name  msm__score_k msm__score_method  \\\n",
       "0          0.005         rs_1             4             vamp2   \n",
       "1          0.005         rs_1             4             vamp2   \n",
       "2          0.005         rs_1             4             vamp2   \n",
       "3          0.005         rs_1             4             vamp2   \n",
       "4          0.005         rs_1             4             vamp2   \n",
       "\n",
       "   cluster__n_bins_per_feature  test_scores_std  test_scores_median  \\\n",
       "0                           10         0.037584            2.998554   \n",
       "1                           20         0.037138            3.065565   \n",
       "2                           30         0.037392            3.082849   \n",
       "3                           40         0.038435            3.089360   \n",
       "4                           50         0.038053            3.091582   \n",
       "\n",
       "   train_scores_std  train_scores_median  \n",
       "0          0.036347             2.981903  \n",
       "1          0.034957             3.053872  \n",
       "2          0.034557             3.071677  \n",
       "3          0.035423             3.077011  \n",
       "4          0.035126             3.078625  "
      ]
     },
     "execution_count": 7,
     "metadata": {},
     "output_type": "execute_result"
    }
   ],
   "source": [
    "df.head()"
   ]
  },
  {
   "cell_type": "code",
   "execution_count": 8,
   "metadata": {
    "collapsed": true
   },
   "outputs": [],
   "source": [
    "import pickle\n",
    "exact_values = pickle.load(open('../vamp_exact_values.pickl', 'rb'))"
   ]
  },
  {
   "cell_type": "code",
   "execution_count": 9,
   "metadata": {
    "collapsed": false
   },
   "outputs": [],
   "source": [
    "exact_values.head()\n",
    "vamp2_k4 = exact_values.loc[(exact_values['k']==4) & (exact_values['method']=='vamp2'), 'score']"
   ]
  },
  {
   "cell_type": "code",
   "execution_count": 10,
   "metadata": {
    "collapsed": false
   },
   "outputs": [
    {
     "data": {
      "text/plain": [
       "array(['rs_1', 'rs_42', 'rs_None', 'split'], dtype=object)"
      ]
     },
     "execution_count": 10,
     "metadata": {},
     "output_type": "execute_result"
    }
   ],
   "source": [
    "project_names= df['project_name'].unique()\n",
    "project_names.sort()\n",
    "project_names"
   ]
  },
  {
   "cell_type": "code",
   "execution_count": 11,
   "metadata": {
    "collapsed": false
   },
   "outputs": [
    {
     "data": {
      "text/html": [
       "<div>\n",
       "<style>\n",
       "    .dataframe thead tr:only-child th {\n",
       "        text-align: right;\n",
       "    }\n",
       "\n",
       "    .dataframe thead th {\n",
       "        text-align: left;\n",
       "    }\n",
       "\n",
       "    .dataframe tbody tr th {\n",
       "        vertical-align: top;\n",
       "    }\n",
       "</style>\n",
       "<table border=\"1\" class=\"dataframe\">\n",
       "  <thead>\n",
       "    <tr style=\"text-align: right;\">\n",
       "      <th></th>\n",
       "      <th>data_fraction</th>\n",
       "      <th>project_name</th>\n",
       "      <th>msm__score_k</th>\n",
       "      <th>msm__score_method</th>\n",
       "      <th>cluster__n_bins_per_feature</th>\n",
       "      <th>test_scores_std</th>\n",
       "      <th>test_scores_median</th>\n",
       "      <th>train_scores_std</th>\n",
       "      <th>train_scores_median</th>\n",
       "    </tr>\n",
       "  </thead>\n",
       "  <tbody>\n",
       "    <tr>\n",
       "      <th>8</th>\n",
       "      <td>0.005</td>\n",
       "      <td>rs_1</td>\n",
       "      <td>4</td>\n",
       "      <td>vamp2</td>\n",
       "      <td>90</td>\n",
       "      <td>0.037849</td>\n",
       "      <td>3.093484</td>\n",
       "      <td>0.034997</td>\n",
       "      <td>3.086562</td>\n",
       "    </tr>\n",
       "    <tr>\n",
       "      <th>105</th>\n",
       "      <td>0.005</td>\n",
       "      <td>rs_42</td>\n",
       "      <td>4</td>\n",
       "      <td>vamp2</td>\n",
       "      <td>60</td>\n",
       "      <td>0.037743</td>\n",
       "      <td>3.092145</td>\n",
       "      <td>0.037793</td>\n",
       "      <td>3.095203</td>\n",
       "    </tr>\n",
       "    <tr>\n",
       "      <th>71</th>\n",
       "      <td>0.005</td>\n",
       "      <td>rs_None</td>\n",
       "      <td>4</td>\n",
       "      <td>vamp2</td>\n",
       "      <td>220</td>\n",
       "      <td>0.045508</td>\n",
       "      <td>3.099793</td>\n",
       "      <td>0.048172</td>\n",
       "      <td>3.084367</td>\n",
       "    </tr>\n",
       "    <tr>\n",
       "      <th>200</th>\n",
       "      <td>0.005</td>\n",
       "      <td>split</td>\n",
       "      <td>4</td>\n",
       "      <td>vamp2</td>\n",
       "      <td>500</td>\n",
       "      <td>0.141163</td>\n",
       "      <td>1.213363</td>\n",
       "      <td>0.116301</td>\n",
       "      <td>3.234991</td>\n",
       "    </tr>\n",
       "  </tbody>\n",
       "</table>\n",
       "</div>"
      ],
      "text/plain": [
       "     data_fraction project_name  msm__score_k msm__score_method  \\\n",
       "8            0.005         rs_1             4             vamp2   \n",
       "105          0.005        rs_42             4             vamp2   \n",
       "71           0.005      rs_None             4             vamp2   \n",
       "200          0.005        split             4             vamp2   \n",
       "\n",
       "     cluster__n_bins_per_feature  test_scores_std  test_scores_median  \\\n",
       "8                             90         0.037849            3.093484   \n",
       "105                           60         0.037743            3.092145   \n",
       "71                           220         0.045508            3.099793   \n",
       "200                          500         0.141163            1.213363   \n",
       "\n",
       "     train_scores_std  train_scores_median  \n",
       "8            0.034997             3.086562  \n",
       "105          0.037793             3.095203  \n",
       "71           0.048172             3.084367  \n",
       "200          0.116301             3.234991  "
      ]
     },
     "execution_count": 11,
     "metadata": {},
     "output_type": "execute_result"
    }
   ],
   "source": [
    "best_idx = df.groupby(['project_name'])['test_scores_median'].transform(max) == df['test_scores_median']\n",
    "\n",
    "best_df = df.loc[best_idx, :].sort_values(by=['project_name',  'msm__score_method', 'msm__score_k'])\n",
    "best_df.head()"
   ]
  },
  {
   "cell_type": "code",
   "execution_count": 12,
   "metadata": {
    "collapsed": false
   },
   "outputs": [
    {
     "data": {
      "image/png": "[encoded data removed]",
      "text/plain": [
       "<matplotlib.figure.Figure at 0x1185b0cc0>"
      ]
     },
     "metadata": {},
     "output_type": "display_data"
    }
   ],
   "source": [
    "\n",
    "with sns.plotting_context('paper', font_scale=1.5):\n",
    "    sns.set_style('whitegrid')\n",
    "    g = sns.FacetGrid(data=df, row='project_name', row_order=project_names, sharey='row')\n",
    "    g.map(plt.errorbar, 'cluster__n_bins_per_feature', 'test_scores_median','test_scores_std')\n",
    "    g.set(ylabel='MedCV (VAMP-2)', xlabel='cluster')\n",
    "    g.set_titles(\"random seed: {row_name}\")\n",
    "    for i, ax in enumerate(g.axes.flatten()):\n",
    "        ax.hlines(vamp2_k4, 0, 500, color='k', alpha=0.8)\n",
    "        idx = (best_df['project_name']==project_names[i]) \n",
    "\n",
    "        x = best_df.loc[idx, 'cluster__n_bins_per_feature']\n",
    "        y = best_df.loc[idx, 'test_scores_median']\n",
    "        ax.scatter(x, y, marker='x', s=50, c='k')\n",
    "\n",
    "        label = 'Optimum:\\n{} clusters'.format(x.values[0])\n",
    "        ax.annotate(label,\n",
    "                xy=(x, y), xycoords='data',\n",
    "                xytext=(.1, .1),  textcoords='axes fraction', \n",
    "                arrowprops=dict(arrowstyle=\"->\",\n",
    "                                connectionstyle=\"arc3\"),\n",
    "                )\n",
    "    plt.savefig('../figures/shuffle_vs_no_shuffle.png', transparent=True)"
   ]
  },
  {
   "cell_type": "code",
   "execution_count": null,
   "metadata": {
    "collapsed": true
   },
   "outputs": [],
   "source": []
  }
 ],
 "metadata": {
  "kernelspec": {
   "display_name": "Python 3",
   "language": "python",
   "name": "python3"
  },
  "language_info": {
   "codemirror_mode": {
    "name": "ipython",
    "version": 3
   },
   "file_extension": ".py",
   "mimetype": "text/x-python",
   "name": "python",
   "nbconvert_exporter": "python",
   "pygments_lexer": "ipython3",
   "version": "3.5.2"
  }
 },
 "nbformat": 4,
 "nbformat_minor": 2
}
