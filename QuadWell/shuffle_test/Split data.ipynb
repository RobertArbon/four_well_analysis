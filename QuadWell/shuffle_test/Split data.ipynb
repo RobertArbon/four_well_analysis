{
 "cells": [
  {
   "cell_type": "code",
   "execution_count": 32,
   "metadata": {
    "collapsed": true
   },
   "outputs": [],
   "source": [
    "import numpy as np\n",
    "from glob import glob\n",
    "from os.path import join"
   ]
  },
  {
   "cell_type": "code",
   "execution_count": 31,
   "metadata": {
    "collapsed": false
   },
   "outputs": [],
   "source": [
    "in_dirs = ['../data/000.5pc','../data/001.9pc', '../data/007.1pc', '../data/026.6pc', '../data/100.0pc']\n",
    "out_dirs = [x+'-split' for x in in_dirs]\n",
    "\n",
    "files = ['quad_well_{:02d}.npy'.format(x) for x in range(99)]"
   ]
  },
  {
   "cell_type": "code",
   "execution_count": 5,
   "metadata": {
    "collapsed": false
   },
   "outputs": [],
   "source": []
  },
  {
   "cell_type": "code",
   "execution_count": 8,
   "metadata": {
    "collapsed": false
   },
   "outputs": [],
   "source": [
    "tau = 25"
   ]
  },
  {
   "cell_type": "code",
   "execution_count": 38,
   "metadata": {
    "collapsed": false
   },
   "outputs": [],
   "source": [
    "def split_and_save(tau, in_dir, out_dir, fname):\n",
    "    print(in_dir, fname)\n",
    "    x = np.load(join(in_dir, fname))\n",
    "    for i in range(x.shape[0]-tau):\n",
    "        np.save(join(out_dir, 'traj-{:06d}.npy'.format(i)), x[[i,i+tau],:])"
   ]
  },
  {
   "cell_type": "code",
   "execution_count": null,
   "metadata": {
    "collapsed": false,
    "scrolled": true
   },
   "outputs": [
    {
     "name": "stdout",
     "output_type": "stream",
     "text": [
      "../data/000.5pc quad_well_00.npy\n",
      "../data/000.5pc quad_well_01.npy\n",
      "../data/000.5pc quad_well_02.npy\n",
      "../data/000.5pc quad_well_03.npy\n",
      "../data/000.5pc quad_well_04.npy\n",
      "../data/000.5pc quad_well_05.npy\n",
      "../data/000.5pc quad_well_06.npy\n",
      "../data/000.5pc quad_well_07.npy\n",
      "../data/000.5pc quad_well_08.npy\n",
      "../data/000.5pc quad_well_09.npy\n",
      "../data/000.5pc quad_well_10.npy\n",
      "../data/000.5pc quad_well_11.npy\n",
      "../data/000.5pc quad_well_12.npy\n",
      "../data/000.5pc quad_well_13.npy\n",
      "../data/000.5pc quad_well_14.npy\n",
      "../data/000.5pc quad_well_15.npy\n",
      "../data/000.5pc quad_well_16.npy\n",
      "../data/000.5pc quad_well_17.npy\n",
      "../data/000.5pc quad_well_18.npy\n",
      "../data/000.5pc quad_well_19.npy\n",
      "../data/000.5pc quad_well_20.npy\n",
      "../data/000.5pc quad_well_21.npy\n",
      "../data/000.5pc quad_well_22.npy\n",
      "../data/000.5pc quad_well_23.npy\n",
      "../data/000.5pc quad_well_24.npy\n",
      "../data/000.5pc quad_well_25.npy\n",
      "../data/000.5pc quad_well_26.npy\n",
      "../data/000.5pc quad_well_27.npy\n",
      "../data/000.5pc quad_well_28.npy\n",
      "../data/000.5pc quad_well_29.npy\n",
      "../data/000.5pc quad_well_30.npy\n",
      "../data/000.5pc quad_well_31.npy\n",
      "../data/000.5pc quad_well_32.npy\n",
      "../data/000.5pc quad_well_33.npy\n",
      "../data/000.5pc quad_well_34.npy\n",
      "../data/000.5pc quad_well_35.npy\n",
      "../data/000.5pc quad_well_36.npy\n",
      "../data/000.5pc quad_well_37.npy\n",
      "../data/000.5pc quad_well_38.npy\n",
      "../data/000.5pc quad_well_39.npy\n",
      "../data/000.5pc quad_well_40.npy\n",
      "../data/000.5pc quad_well_41.npy\n",
      "../data/000.5pc quad_well_42.npy\n",
      "../data/000.5pc quad_well_43.npy\n",
      "../data/000.5pc quad_well_44.npy\n",
      "../data/000.5pc quad_well_45.npy\n",
      "../data/000.5pc quad_well_46.npy\n",
      "../data/000.5pc quad_well_47.npy\n",
      "../data/000.5pc quad_well_48.npy\n",
      "../data/000.5pc quad_well_49.npy\n",
      "../data/000.5pc quad_well_50.npy\n",
      "../data/000.5pc quad_well_51.npy\n",
      "../data/000.5pc quad_well_52.npy\n",
      "../data/000.5pc quad_well_53.npy\n",
      "../data/000.5pc quad_well_54.npy\n",
      "../data/000.5pc quad_well_55.npy\n",
      "../data/000.5pc quad_well_56.npy\n",
      "../data/000.5pc quad_well_57.npy\n",
      "../data/000.5pc quad_well_58.npy\n",
      "../data/000.5pc quad_well_59.npy\n",
      "../data/000.5pc quad_well_60.npy\n",
      "../data/000.5pc quad_well_61.npy\n",
      "../data/000.5pc quad_well_62.npy\n",
      "../data/000.5pc quad_well_63.npy\n",
      "../data/000.5pc quad_well_64.npy\n",
      "../data/000.5pc quad_well_65.npy\n",
      "../data/000.5pc quad_well_66.npy\n",
      "../data/000.5pc quad_well_67.npy\n",
      "../data/000.5pc quad_well_68.npy\n",
      "../data/000.5pc quad_well_69.npy\n",
      "../data/000.5pc quad_well_70.npy\n",
      "../data/000.5pc quad_well_71.npy\n",
      "../data/000.5pc quad_well_72.npy\n",
      "../data/000.5pc quad_well_73.npy\n",
      "../data/000.5pc quad_well_74.npy\n",
      "../data/000.5pc quad_well_75.npy\n",
      "../data/000.5pc quad_well_76.npy\n",
      "../data/000.5pc quad_well_77.npy\n",
      "../data/000.5pc quad_well_78.npy\n",
      "../data/000.5pc quad_well_79.npy\n",
      "../data/000.5pc quad_well_80.npy\n",
      "../data/000.5pc quad_well_81.npy\n",
      "../data/000.5pc quad_well_82.npy\n",
      "../data/000.5pc quad_well_83.npy\n",
      "../data/000.5pc quad_well_84.npy\n",
      "../data/000.5pc quad_well_85.npy\n",
      "../data/000.5pc quad_well_86.npy\n",
      "../data/000.5pc quad_well_87.npy\n",
      "../data/000.5pc quad_well_88.npy\n",
      "../data/000.5pc quad_well_89.npy\n",
      "../data/000.5pc quad_well_90.npy\n",
      "../data/000.5pc quad_well_91.npy\n",
      "../data/000.5pc quad_well_92.npy\n",
      "../data/000.5pc quad_well_93.npy\n",
      "../data/000.5pc quad_well_94.npy\n",
      "../data/000.5pc quad_well_95.npy\n",
      "../data/000.5pc quad_well_96.npy\n",
      "../data/000.5pc quad_well_97.npy\n",
      "../data/000.5pc quad_well_98.npy\n",
      "../data/001.9pc quad_well_00.npy\n",
      "../data/001.9pc quad_well_01.npy\n",
      "../data/001.9pc quad_well_02.npy\n"
     ]
    }
   ],
   "source": [
    "for i, in_dir in enumerate(in_dirs):\n",
    "    out_dir = out_dirs[i]\n",
    "    for fname in files:\n",
    "        split_and_save(tau, in_dir, out_dir, fname)"
   ]
  },
  {
   "cell_type": "code",
   "execution_count": null,
   "metadata": {
    "collapsed": true
   },
   "outputs": [],
   "source": []
  }
 ],
 "metadata": {
  "kernelspec": {
   "display_name": "Python 3",
   "language": "python",
   "name": "python3"
  },
  "language_info": {
   "codemirror_mode": {
    "name": "ipython",
    "version": 3
   },
   "file_extension": ".py",
   "mimetype": "text/x-python",
   "name": "python",
   "nbconvert_exporter": "python",
   "pygments_lexer": "ipython3",
   "version": "3.5.2"
  }
 },
 "nbformat": 4,
 "nbformat_minor": 2
}
