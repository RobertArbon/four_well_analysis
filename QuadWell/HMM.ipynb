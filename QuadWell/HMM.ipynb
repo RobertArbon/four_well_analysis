{
 "cells": [
  {
   "cell_type": "code",
   "execution_count": 12,
   "metadata": {
    "collapsed": true
   },
   "outputs": [],
   "source": [
    "from bhmm.hidden.api import forward"
   ]
  },
  {
   "cell_type": "code",
   "execution_count": 73,
   "metadata": {
    "collapsed": false
   },
   "outputs": [],
   "source": [
    "from pyemma.msm import MaximumLikelihoodMSM, MaximumLikelihoodHMSM\n",
    "from msmbuilder.cluster import NDGrid\n",
    "from sklearn.pipeline import Pipeline\n",
    "import pickle\n",
    "from glob import glob\n",
    "import numpy as np\n",
    "import matplotlib.pyplot as plt\n",
    "import seaborn as sns\n",
    "%matplotlib inline\n",
    "\n",
    "# traj_paths = glob('data/000.5pc/*.npy')\n",
    "# X = [np.load(traj_path) for traj_path in traj_paths]\n",
    "\n",
    "xmin, xmax = -1.2, 1.2\n",
    "tau = 25\n",
    "k_opt=6\n",
    "m_opt = 200\n",
    "\n",
    "data_pc = '001.9pc'\n",
    "\n",
    "#                   ('cluster',NDGrid(min=xmin, max=xmax, n_bins_per_feature=200)),\n",
    "#                   ('msm', MaximumLikelihoodMSM(lag=1, score_method='vamp1'))])\n",
    "\n",
    "\n",
    "# pickle.dump(model, open('model_lag1.pickl', 'wb'))\n",
    "\n"
   ]
  },
  {
   "cell_type": "code",
   "execution_count": 74,
   "metadata": {
    "collapsed": false
   },
   "outputs": [],
   "source": [
    "X = [np.load(x) for x in glob('data/'+data_pc+'/*npy')]"
   ]
  },
  {
   "cell_type": "code",
   "execution_count": 83,
   "metadata": {
    "collapsed": false
   },
   "outputs": [],
   "source": [
    "m_opt = int(np.sqrt(len(X)*X[0].shape[0]))\n",
    "cluster = NDGrid(min=xmin, max=xmax, n_bins_per_feature=m_opt)\n",
    "dtrajs = cluster.fit_transform(X)"
   ]
  },
  {
   "cell_type": "code",
   "execution_count": 160,
   "metadata": {
    "collapsed": false
   },
   "outputs": [],
   "source": [
    "train = dtrajs[:50]\n",
    "test = dtrajs[50:]"
   ]
  },
  {
   "cell_type": "code",
   "execution_count": 165,
   "metadata": {
    "collapsed": false
   },
   "outputs": [
    {
     "data": {
      "text/plain": [
       "MaximumLikelihoodMSM(connectivity='largest', count_mode='sliding',\n",
       "           dt_traj='1 step', lag=25, maxerr=1e-08, maxiter=1000000,\n",
       "           reversible=True, score_k=10, score_method='VAMP2', sparse=False,\n",
       "           statdist_constraint=None)"
      ]
     },
     "execution_count": 165,
     "metadata": {},
     "output_type": "execute_result"
    }
   ],
   "source": [
    "msminit = MaximumLikelihoodMSM(lag=25)\n",
    "msminit.fit(train)"
   ]
  },
  {
   "cell_type": "code",
   "execution_count": 167,
   "metadata": {
    "collapsed": false
   },
   "outputs": [
    {
     "name": "stdout",
     "output_type": "stream",
     "text": [
      "49\n"
     ]
    }
   ],
   "source": [
    "ttrain = msminit.dtrajs_active\n",
    "ttest = []\n",
    "for x in test:\n",
    "    try:\n",
    "        ttest.append(msminit._full2active[x])\n",
    "    except:\n",
    "        pass\n",
    "print(len(ttest))"
   ]
  },
  {
   "cell_type": "code",
   "execution_count": 168,
   "metadata": {
    "collapsed": true
   },
   "outputs": [],
   "source": []
  },
  {
   "cell_type": "code",
   "execution_count": 174,
   "metadata": {
    "collapsed": false
   },
   "outputs": [],
   "source": [
    "M = MaximumLikelihoodHMSM(lag=25, nstates=4, msm_init=msminit)\n",
    "M.fit(train)\n",
    "obs_prob = M.observation_probabilities\n",
    "T = M.transition_matrix\n",
    "pi = M.pi"
   ]
  },
  {
   "cell_type": "code",
   "execution_count": 177,
   "metadata": {
    "collapsed": false
   },
   "outputs": [
    {
     "name": "stdout",
     "output_type": "stream",
     "text": [
      "-348470.55853994156\n"
     ]
    }
   ],
   "source": [
    "loglik = 0\n",
    "for obs in ttest:\n",
    "    p_obs = obs_prob[:, obs].T\n",
    "    loglik += forward(T, p_obs, pi)[0]\n",
    "    \n",
    "print(loglik)  "
   ]
  },
  {
   "cell_type": "code",
   "execution_count": 15,
   "metadata": {
    "collapsed": true
   },
   "outputs": [],
   "source": [
    "# # def forward(A, pobs, pi, T=None, alpha_out=None):\n",
    "# \"\"\"Compute P( obs | A, B, pi ) and all forward coefficients.\n",
    "\n",
    "# Parameters\n",
    "# ----------\n",
    "# A : ndarray((N,N), dtype = float)\n",
    "#     transition matrix of the hidden states\n",
    "# pobs : ndarray((T,N), dtype = float)\n",
    "#     pobs[t,i] is the observation probability for observation at time t given hidden state i\n",
    "# pi : ndarray((N), dtype = float)\n",
    "#     initial distribution of hidden states\n",
    "# T : int, optional, default = None\n",
    "#     trajectory length. If not given, T = pobs.shape[0] will be used.\n",
    "# alpha_out : ndarray((T,N), dtype = float), optional, default = None\n",
    "#     containter for the alpha result variables. If None, a new container will be created.\n",
    "\n",
    "# Returns\n",
    "# -------\n",
    "# logprob : float\n",
    "#     The probability to observe the sequence `ob` with the model given\n",
    "#     by `A`, `B` and `pi`.\n",
    "# alpha : ndarray((T,N), dtype = float), optional, default = None\n",
    "#     alpha[t,i] is the ith forward coefficient of time t. These can be\n",
    "#     used in many different algorithms related to HMMs.\n",
    "\n",
    "# \"\"\""
   ]
  },
  {
   "cell_type": "code",
   "execution_count": 204,
   "metadata": {
    "collapsed": true
   },
   "outputs": [],
   "source": [
    "from sklearn.model_selection import ShuffleSplit\n",
    "cv = ShuffleSplit(n_splits=20)"
   ]
  },
  {
   "cell_type": "code",
   "execution_count": 205,
   "metadata": {
    "collapsed": false
   },
   "outputs": [
    {
     "data": {
      "text/plain": [
       "array([[ 0.,  0.,  0.,  0.,  0.,  0.,  0.,  0.,  0.,  0.,  0.,  0.,  0.,\n",
       "         0.,  0.,  0.,  0.,  0.,  0.,  0.],\n",
       "       [ 0.,  0.,  0.,  0.,  0.,  0.,  0.,  0.,  0.,  0.,  0.,  0.,  0.,\n",
       "         0.,  0.,  0.,  0.,  0.,  0.,  0.],\n",
       "       [ 0.,  0.,  0.,  0.,  0.,  0.,  0.,  0.,  0.,  0.,  0.,  0.,  0.,\n",
       "         0.,  0.,  0.,  0.,  0.,  0.,  0.],\n",
       "       [ 0.,  0.,  0.,  0.,  0.,  0.,  0.,  0.,  0.,  0.,  0.,  0.,  0.,\n",
       "         0.,  0.,  0.,  0.,  0.,  0.,  0.]])"
      ]
     },
     "execution_count": 205,
     "metadata": {},
     "output_type": "execute_result"
    }
   ],
   "source": [
    "ks = np.arange(2,6)\n",
    "k = 2\n",
    "scores = np.zeros((ks.shape[0], cv.n_splits))\n",
    "scores"
   ]
  },
  {
   "cell_type": "code",
   "execution_count": 206,
   "metadata": {
    "collapsed": false
   },
   "outputs": [
    {
     "name": "stdout",
     "output_type": "stream",
     "text": [
      "2\n",
      "\t 0\n",
      "\t 1\n",
      "\t 2\n",
      "\t 3\n",
      "\t 4\n",
      "\t 5\n",
      "\t 6\n",
      "\t 7\n",
      "\t 8\n",
      "\t 9\n",
      "\t 10\n",
      "\t 11\n",
      "\t 12\n",
      "\t 13\n",
      "\t 14\n",
      "\t 15\n",
      "\t 16\n",
      "\t 17\n",
      "\t 18\n",
      "\t 19\n",
      "3\n",
      "\t 0\n",
      "\t 1\n",
      "\t 2\n",
      "\t 3\n",
      "\t 4\n",
      "\t 5\n",
      "\t 6\n",
      "\t 7\n",
      "\t 8\n",
      "\t 9\n",
      "\t 10\n",
      "\t 11\n",
      "\t 12\n",
      "\t 13\n",
      "\t 14\n",
      "\t 15\n",
      "\t 16\n",
      "\t 17\n",
      "\t 18\n",
      "\t 19\n",
      "4\n",
      "\t 0\n",
      "\t 1\n",
      "\t 2\n",
      "\t 3\n",
      "\t 4\n",
      "\t 5\n",
      "\t 6\n",
      "\t 7\n",
      "\t 8\n",
      "\t 9\n",
      "\t 10\n",
      "\t 11\n",
      "\t 12\n",
      "\t 13\n",
      "\t 14\n",
      "\t 15\n",
      "\t 16\n",
      "\t 17\n",
      "\t 18\n",
      "\t 19\n",
      "5\n",
      "\t 0\n",
      "\t 1\n",
      "\t 2\n",
      "\t 3\n",
      "\t 4\n",
      "\t 5\n",
      "\t 6\n",
      "\t 7\n",
      "\t 8\n",
      "\t 9\n",
      "\t 10\n",
      "\t 11\n",
      "\t 12\n",
      "\t 13\n",
      "\t 14\n",
      "\t 15\n",
      "\t 16\n",
      "\t 17\n",
      "\t 18\n",
      "\t 19\n"
     ]
    }
   ],
   "source": [
    "for kdx, k in enumerate(ks):\n",
    "    print(k)\n",
    "    for idx, (train_idx, test_idx) in enumerate(cv.split(dtrajs)):\n",
    "        train = [dtrajs[i] for i in train_idx]\n",
    "        train = [dtrajs[i] for i in test_idx]\n",
    "        print('\\t', idx)\n",
    "        # initialize MInit\n",
    "        Minit = MaximumLikelihoodMSM(lag=25)\n",
    "        Minit.fit(train)\n",
    "\n",
    "        # Map new trajectories\n",
    "        ttrain = Minit.dtrajs_active\n",
    "        ttest = []\n",
    "        for x in test:\n",
    "            try:\n",
    "                ttest.append(Minit._full2active[x])\n",
    "            except:\n",
    "                pass\n",
    "\n",
    "        # Fit HMM\n",
    "        M = MaximumLikelihoodHMSM(lag=25, nstates=k, msm_init=Minit)\n",
    "        M.fit(train)\n",
    "        obs_prob = M.observation_probabilities\n",
    "        T = M.transition_matrix\n",
    "        pi = M.pi\n",
    "\n",
    "        # Get log likelihood \n",
    "        loglik = 0\n",
    "        for obs in ttest:\n",
    "            p_obs = obs_prob[:, obs].T\n",
    "            loglik += forward(T, p_obs, pi)[0]\n",
    "\n",
    "        scores[kdx][idx] = loglik\n",
    "    \n",
    "    \n",
    "    \n",
    "\n",
    "    \n"
   ]
  },
  {
   "cell_type": "code",
   "execution_count": 207,
   "metadata": {
    "collapsed": false
   },
   "outputs": [],
   "source": [
    "scores_med = np.median(scores, axis=1)\n",
    "scores_std = np.std(scores, axis=1)\n",
    "data = {'k':ks, 'll_med':scores_med, 'll_err': scores_std}"
   ]
  },
  {
   "cell_type": "code",
   "execution_count": 208,
   "metadata": {
    "collapsed": false
   },
   "outputs": [],
   "source": [
    "import pandas as pd\n",
    "df = pd.DataFrame(data)"
   ]
  },
  {
   "cell_type": "code",
   "execution_count": 215,
   "metadata": {
    "collapsed": false
   },
   "outputs": [
    {
     "data": {
      "text/plain": [
       "(1, 6)"
      ]
     },
     "execution_count": 215,
     "metadata": {},
     "output_type": "execute_result"
    },
    {
     "data": {
      "image/png": "[encoded data removed]",
      "text/plain": [
       "<matplotlib.figure.Figure at 0x11f65ccf8>"
      ]
     },
     "metadata": {},
     "output_type": "display_data"
    }
   ],
   "source": [
    "plt.errorbar(df['k'],df['ll_med'])\n",
    "plt.xlim((1,6))\n",
    "# plt.ylim"
   ]
  },
  {
   "cell_type": "code",
   "execution_count": 214,
   "metadata": {
    "collapsed": false
   },
   "outputs": [
    {
     "data": {
      "text/plain": [
       "array([[ -388141.04520672,  -385855.19477492,  -385923.12110862,\n",
       "         -388205.78870628,  -387023.13722101,  -362656.70822057,\n",
       "         -362965.66179208,  -387359.3303403 ,  -363043.73121826,\n",
       "         -371341.03193405,  -387060.65385971, -6814387.01141145,\n",
       "         -386530.63539616,  -362609.81352878,  -386984.96759922,\n",
       "         -354817.59412266,  -378106.82081307,  -389345.63631973,\n",
       "         -355057.17073293,  -361362.98264001],\n",
       "       [ -357488.20507602,  -189054.61804623,  -345522.18925013,\n",
       "         -298388.5744526 ,  -382841.42509664,  -338430.67742427,\n",
       "         -366499.29036628,  -382343.87173055,  -322169.45697089,\n",
       "         -303623.69030453,  -374514.71543644,  -381328.72351913,\n",
       "         -373694.21128686,  -368884.89191661,  -347133.17931563,\n",
       "         -369416.05671826,  -367188.89298249,  -375465.51662898,\n",
       "         -371716.67538025,  -363585.53870668],\n",
       "       [ -351674.50868746,  -356447.05437913,  -345405.38452926,\n",
       "         -334682.46013492,  -333737.42102126,  -374987.92585911,\n",
       "         -352028.28957561,  -359674.21531097,  -355972.26479883,\n",
       "         -333171.26858705,  -363776.75438349,  -344052.28133485,\n",
       "         -333981.15977034,  -376923.86994677,  -368082.00023726,\n",
       "         -374803.78711702,  -359367.6006354 ,  -349577.01907346,\n",
       "         -337997.61977985,  -313730.07748308],\n",
       "       [             -inf,  -359223.26354549,              -inf,\n",
       "                     -inf,              -inf,  -340107.18740494,\n",
       "                     -inf,              -inf,              -inf,\n",
       "                     -inf,  -344502.62756649,  -338302.33208   ,\n",
       "                     -inf,              -inf,              -inf,\n",
       "         -332664.66965325,              -inf,              -inf,\n",
       "                     -inf,              -inf]])"
      ]
     },
     "execution_count": 214,
     "metadata": {},
     "output_type": "execute_result"
    }
   ],
   "source": [
    "scores"
   ]
  },
  {
   "cell_type": "code",
   "execution_count": null,
   "metadata": {
    "collapsed": true
   },
   "outputs": [],
   "source": []
  }
 ],
 "metadata": {
  "kernelspec": {
   "display_name": "Python 3",
   "language": "python",
   "name": "python3"
  },
  "language_info": {
   "codemirror_mode": {
    "name": "ipython",
    "version": 3
   },
   "file_extension": ".py",
   "mimetype": "text/x-python",
   "name": "python",
   "nbconvert_exporter": "python",
   "pygments_lexer": "ipython3",
   "version": "3.5.2"
  }
 },
 "nbformat": 4,
 "nbformat_minor": 2
}
