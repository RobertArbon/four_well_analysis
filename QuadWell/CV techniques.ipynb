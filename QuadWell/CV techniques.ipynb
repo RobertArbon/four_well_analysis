{
 "cells": [
  {
   "cell_type": "code",
   "execution_count": 2,
   "metadata": {
    "collapsed": false
   },
   "outputs": [],
   "source": [
    "import pandas as pd\n",
    "import numpy as np\n",
    "import seaborn as sns\n",
    "import matplotlib.pyplot as plt\n",
    "%matplotlib inline\n",
    "from os.path import join\n",
    "import pickle\n",
    "from sklearn.model_selection import KFold, cross_val_score, ShuffleSplit\n"
   ]
  },
  {
   "cell_type": "code",
   "execution_count": 3,
   "metadata": {
    "collapsed": false
   },
   "outputs": [
    {
     "name": "stderr",
     "output_type": "stream",
     "text": [
      "/Users/robert_arbon/anaconda/envs/ml4dyn/lib/python3.5/site-packages/sklearn/cross_validation.py:44: DeprecationWarning: This module was deprecated in version 0.18 in favor of the model_selection module into which all the refactored classes and functions are moved. Also note that the interface of the new CV iterators are different from that of this module. This module will be removed in 0.20.\n",
      "  \"This module will be removed in 0.20.\", DeprecationWarning)\n",
      "/Users/robert_arbon/anaconda/envs/ml4dyn/lib/python3.5/site-packages/sklearn/grid_search.py:43: DeprecationWarning: This module was deprecated in version 0.18 in favor of the model_selection module into which all the refactored classes and functions are moved. This module will be removed in 0.20.\n",
      "  DeprecationWarning)\n",
      "/Users/robert_arbon/anaconda/envs/ml4dyn/lib/python3.5/site-packages/statsmodels/compat/pandas.py:56: FutureWarning: The pandas.core.datetools module is deprecated and will be removed in a future version. Please use the pandas.tseries module instead.\n",
      "  from pandas.core import datetools\n"
     ]
    },
    {
     "data": {
      "text/plain": [
       "Pipeline(steps=[('cluster', NDGrid(max=1.2, min=-1.2, n_bins_per_feature=200)), ('msm', MaximumLikelihoodMSM(connectivity='largest', count_mode='sliding',\n",
       "           dt_traj='1 step', lag=25, maxerr=1e-08, maxiter=1000000,\n",
       "           mincount_connectivity='1/n', reversible=True, score_k=10,\n",
       "           score_method='VAMP2', sparse=False, statdist_constraint=None))])"
      ]
     },
     "execution_count": 3,
     "metadata": {},
     "output_type": "execute_result"
    }
   ],
   "source": [
    "model = pickle.load(open('model.pickl', 'rb'))\n",
    "model"
   ]
  },
  {
   "cell_type": "code",
   "execution_count": 4,
   "metadata": {
    "collapsed": false
   },
   "outputs": [],
   "source": [
    "paths = ['data/000.5pc/quad_well_{:02d}.npy'.format(x) for x in range(100)]\n",
    "# paths\n",
    "X = [np.load(x) for x in paths]"
   ]
  },
  {
   "cell_type": "code",
   "execution_count": 5,
   "metadata": {
    "collapsed": false
   },
   "outputs": [
    {
     "data": {
      "text/plain": [
       "Pipeline(steps=[('cluster', NDGrid(max=1.2, min=-1.2, n_bins_per_feature=200)), ('msm', MaximumLikelihoodMSM(connectivity='largest', count_mode='sliding',\n",
       "           dt_traj='1 step', lag=25, maxerr=1e-08, maxiter=1000000,\n",
       "           mincount_connectivity='1/n', reversible=True, score_k=4,\n",
       "           score_method='VAMP2', sparse=False, statdist_constraint=None))])"
      ]
     },
     "execution_count": 5,
     "metadata": {},
     "output_type": "execute_result"
    }
   ],
   "source": [
    "model.set_params(cluster__n_bins_per_feature=200)\n",
    "model.set_params(msm__score_k=4)"
   ]
  },
  {
   "cell_type": "code",
   "execution_count": 6,
   "metadata": {
    "collapsed": false
   },
   "outputs": [],
   "source": [
    "data = {'score_method':[], 'cv_method': [], 'n_splits': [], 'MCV': [], 'MCV_err': []}\n",
    "score_methods = ['vamp1', 'vamp2', 'vampe']\n",
    "cv_methods = {'KFold': KFold(), 'ShuffleSplit': ShuffleSplit(test_size=.5, random_state=42)}\n",
    "n_splits = np.arange(5,21)"
   ]
  },
  {
   "cell_type": "code",
   "execution_count": 7,
   "metadata": {
    "collapsed": false
   },
   "outputs": [
    {
     "name": "stdout",
     "output_type": "stream",
     "text": [
      "vamp1 KFold 5, vamp1 KFold 6, vamp1 KFold 7, vamp1 KFold 8, vamp1 KFold 9, vamp1 KFold 10, vamp1 KFold 11, vamp1 KFold 12, vamp1 KFold 13, vamp1 KFold 14, vamp1 KFold 15, vamp1 KFold 16, vamp1 KFold 17, vamp1 KFold 18, vamp1 KFold 19, vamp1 KFold 20, vamp1 ShuffleSplit 5, vamp1 ShuffleSplit 6, vamp1 ShuffleSplit 7, vamp1 ShuffleSplit 8, vamp1 ShuffleSplit 9, vamp1 ShuffleSplit 10, vamp1 ShuffleSplit 11, vamp1 ShuffleSplit 12, vamp1 ShuffleSplit 13, vamp1 ShuffleSplit 14, vamp1 ShuffleSplit 15, vamp1 ShuffleSplit 16, vamp1 ShuffleSplit 17, vamp1 ShuffleSplit 18, vamp1 ShuffleSplit 19, vamp1 ShuffleSplit 20, vamp2 KFold 5, vamp2 KFold 6, vamp2 KFold 7, vamp2 KFold 8, vamp2 KFold 9, vamp2 KFold 10, vamp2 KFold 11, vamp2 KFold 12, vamp2 KFold 13, vamp2 KFold 14, vamp2 KFold 15, vamp2 KFold 16, vamp2 KFold 17, vamp2 KFold 18, vamp2 KFold 19, vamp2 KFold 20, vamp2 ShuffleSplit 5, vamp2 ShuffleSplit 6, vamp2 ShuffleSplit 7, vamp2 ShuffleSplit 8, vamp2 ShuffleSplit 9, vamp2 ShuffleSplit 10, vamp2 ShuffleSplit 11, vamp2 ShuffleSplit 12, vamp2 ShuffleSplit 13, vamp2 ShuffleSplit 14, vamp2 ShuffleSplit 15, vamp2 ShuffleSplit 16, vamp2 ShuffleSplit 17, vamp2 ShuffleSplit 18, vamp2 ShuffleSplit 19, vamp2 ShuffleSplit 20, vampe KFold 5, vampe KFold 6, vampe KFold 7, vampe KFold 8, vampe KFold 9, vampe KFold 10, vampe KFold 11, vampe KFold 12, vampe KFold 13, vampe KFold 14, vampe KFold 15, vampe KFold 16, vampe KFold 17, vampe KFold 18, vampe KFold 19, vampe KFold 20, vampe ShuffleSplit 5, vampe ShuffleSplit 6, vampe ShuffleSplit 7, vampe ShuffleSplit 8, vampe ShuffleSplit 9, vampe ShuffleSplit 10, vampe ShuffleSplit 11, vampe ShuffleSplit 12, vampe ShuffleSplit 13, vampe ShuffleSplit 14, vampe ShuffleSplit 15, vampe ShuffleSplit 16, vampe ShuffleSplit 17, vampe ShuffleSplit 18, vampe ShuffleSplit 19, vampe ShuffleSplit 20, "
     ]
    }
   ],
   "source": [
    "\n",
    "for score_method in score_methods:\n",
    "    model.set_params(msm__score_method=score_method)\n",
    "    model.set_params(msm__score_k=4)    \n",
    "    for k, v in cv_methods.items():\n",
    "        for n in n_splits:\n",
    "            print(score_method, k, n, end=', ')\n",
    "            \n",
    "            v.n_splits=n\n",
    "            scores = cross_val_score(model, X, cv=v)\n",
    "            data['score_method'].append(score_method)\n",
    "            data['cv_method'].append(k)\n",
    "            data['n_splits'].append(n)\n",
    "            data['MCV'].append(np.mean(scores))\n",
    "            data['MCV_err'].append(np.std(scores))\n",
    "\n"
   ]
  },
  {
   "cell_type": "code",
   "execution_count": 8,
   "metadata": {
    "collapsed": false
   },
   "outputs": [
    {
     "data": {
      "text/html": [
       "<div>\n",
       "<style>\n",
       "    .dataframe thead tr:only-child th {\n",
       "        text-align: right;\n",
       "    }\n",
       "\n",
       "    .dataframe thead th {\n",
       "        text-align: left;\n",
       "    }\n",
       "\n",
       "    .dataframe tbody tr th {\n",
       "        vertical-align: top;\n",
       "    }\n",
       "</style>\n",
       "<table border=\"1\" class=\"dataframe\">\n",
       "  <thead>\n",
       "    <tr style=\"text-align: right;\">\n",
       "      <th></th>\n",
       "      <th>MCV</th>\n",
       "      <th>MCV_err</th>\n",
       "      <th>cv_method</th>\n",
       "      <th>n_splits</th>\n",
       "      <th>score_method</th>\n",
       "    </tr>\n",
       "  </thead>\n",
       "  <tbody>\n",
       "    <tr>\n",
       "      <th>0</th>\n",
       "      <td>3.438385</td>\n",
       "      <td>0.053466</td>\n",
       "      <td>KFold</td>\n",
       "      <td>5</td>\n",
       "      <td>vamp1</td>\n",
       "    </tr>\n",
       "    <tr>\n",
       "      <th>1</th>\n",
       "      <td>3.437630</td>\n",
       "      <td>0.050577</td>\n",
       "      <td>KFold</td>\n",
       "      <td>6</td>\n",
       "      <td>vamp1</td>\n",
       "    </tr>\n",
       "    <tr>\n",
       "      <th>2</th>\n",
       "      <td>3.405880</td>\n",
       "      <td>0.086966</td>\n",
       "      <td>KFold</td>\n",
       "      <td>7</td>\n",
       "      <td>vamp1</td>\n",
       "    </tr>\n",
       "    <tr>\n",
       "      <th>3</th>\n",
       "      <td>3.413761</td>\n",
       "      <td>0.104927</td>\n",
       "      <td>KFold</td>\n",
       "      <td>8</td>\n",
       "      <td>vamp1</td>\n",
       "    </tr>\n",
       "    <tr>\n",
       "      <th>4</th>\n",
       "      <td>3.414530</td>\n",
       "      <td>0.095119</td>\n",
       "      <td>KFold</td>\n",
       "      <td>9</td>\n",
       "      <td>vamp1</td>\n",
       "    </tr>\n",
       "  </tbody>\n",
       "</table>\n",
       "</div>"
      ],
      "text/plain": [
       "        MCV   MCV_err cv_method  n_splits score_method\n",
       "0  3.438385  0.053466     KFold         5        vamp1\n",
       "1  3.437630  0.050577     KFold         6        vamp1\n",
       "2  3.405880  0.086966     KFold         7        vamp1\n",
       "3  3.413761  0.104927     KFold         8        vamp1\n",
       "4  3.414530  0.095119     KFold         9        vamp1"
      ]
     },
     "execution_count": 8,
     "metadata": {},
     "output_type": "execute_result"
    }
   ],
   "source": [
    "df = pd.DataFrame(data)\n",
    "df.head()"
   ]
  },
  {
   "cell_type": "code",
   "execution_count": 13,
   "metadata": {
    "collapsed": false
   },
   "outputs": [
    {
     "data": {
      "text/plain": [
       "<seaborn.axisgrid.FacetGrid at 0x11ebbf470>"
      ]
     },
     "execution_count": 13,
     "metadata": {},
     "output_type": "execute_result"
    },
    {
     "data": {
      "image/png": "[encoded data removed]",
      "text/plain": [
       "<matplotlib.figure.Figure at 0x116b11ef0>"
      ]
     },
     "metadata": {},
     "output_type": "display_data"
    }
   ],
   "source": [
    "g = sns.FacetGrid(data=df, col='score_method', hue='cv_method', sharey=False)\n",
    "g.map(plt.errorbar, 'n_splits', 'MCV', 'MCV_err').add_legend()"
   ]
  },
  {
   "cell_type": "code",
   "execution_count": null,
   "metadata": {
    "collapsed": true
   },
   "outputs": [],
   "source": []
  }
 ],
 "metadata": {
  "kernelspec": {
   "display_name": "Python 3",
   "language": "python",
   "name": "python3"
  },
  "language_info": {
   "codemirror_mode": {
    "name": "ipython",
    "version": 3
   },
   "file_extension": ".py",
   "mimetype": "text/x-python",
   "name": "python",
   "nbconvert_exporter": "python",
   "pygments_lexer": "ipython3",
   "version": "3.5.2"
  }
 },
 "nbformat": 4,
 "nbformat_minor": 2
}
