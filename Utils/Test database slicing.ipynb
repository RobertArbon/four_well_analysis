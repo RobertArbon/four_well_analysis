{
 "cells": [
  {
   "cell_type": "code",
   "execution_count": 26,
   "metadata": {
    "collapsed": true
   },
   "outputs": [],
   "source": [
    "from osprey.trials import make_session, Trial\n"
   ]
  },
  {
   "cell_type": "code",
   "execution_count": 27,
   "metadata": {
    "collapsed": false,
    "scrolled": false
   },
   "outputs": [
    {
     "name": "stdout",
     "output_type": "stream",
     "text": [
      "Loading config file:     config.yaml...\n",
      "Loading trials database: sqlite:///osprey-trails.db...\n",
      "Loading trials database: sqlite:///osprey-trails.db...\n"
     ]
    }
   ],
   "source": [
    "# Imports\n",
    "from osprey.config import Config\n",
    "\n",
    "# Load Configuation File\n",
    "my_config = 'config.yaml'\n",
    "config = Config(my_config)\n",
    "\n",
    "# Retrieve Trial Results\n",
    "df = config.trial_results()\n",
    "db1 = config.trials()\n",
    "history = db1.query(Trial).all() \n",
    "\n",
    "\n",
    "\n"
   ]
  },
  {
   "cell_type": "code",
   "execution_count": 28,
   "metadata": {
    "collapsed": false
   },
   "outputs": [],
   "source": [
    "# new_name = config.get_value('trials/uri').split('/')[-1]\n",
    "# new_name = new_name.replace('.', '-5.')"
   ]
  },
  {
   "cell_type": "code",
   "execution_count": 29,
   "metadata": {
    "collapsed": false
   },
   "outputs": [],
   "source": [
    "# df2 = df.groupby('project_name').apply(lambda x: x.sample(5))\n",
    "# df2.index = df2.index.droplevel()"
   ]
  },
  {
   "cell_type": "code",
   "execution_count": 33,
   "metadata": {
    "collapsed": false
   },
   "outputs": [
    {
     "name": "stdout",
     "output_type": "stream",
     "text": [
      "{}\n",
      "{}\n",
      "{}\n",
      "{}\n",
      "{}\n",
      "{}\n",
      "{}\n",
      "{}\n",
      "{}\n",
      "{}\n",
      "{}\n",
      "{}\n",
      "{}\n",
      "{}\n",
      "{}\n"
     ]
    }
   ],
   "source": [
    "for name, group in df.groupby('project_name'):\n",
    "    # Sample the group \n",
    "    sample = group.sample(5)\n",
    "    keep = sample['id'].values \n",
    "    \n",
    "    # Make a new session based on project name: \n",
    "    db2 = make_session('sqlite:///../osprey-trials-5.db', project_name=name)\n",
    "    # Get the relevant trial objects from original db\n",
    "    save_trials  = [t for t in history if t.project_name==name and t.id in keep and t.status=='SUCCEEDED']\n",
    "    \n",
    "    # merge them into new db\n",
    "    for trial in save_trials:\n",
    "        db2.merge(trial)\n",
    "    db2.commit()\n",
    "    db2.close()"
   ]
  },
  {
   "cell_type": "code",
   "execution_count": null,
   "metadata": {
    "collapsed": false
   },
   "outputs": [],
   "source": [
    "my_config = 'config2.yaml'\n",
    "config2 = Config(my_config)\n",
    "df2 = config2.trial_results()"
   ]
  },
  {
   "cell_type": "code",
   "execution_count": null,
   "metadata": {
    "collapsed": false
   },
   "outputs": [],
   "source": [
    "df2.shape"
   ]
  },
  {
   "cell_type": "code",
   "execution_count": null,
   "metadata": {
    "collapsed": false
   },
   "outputs": [],
   "source": [
    "df2.head()"
   ]
  },
  {
   "cell_type": "code",
   "execution_count": null,
   "metadata": {
    "collapsed": true
   },
   "outputs": [],
   "source": []
  }
 ],
 "metadata": {
  "kernelspec": {
   "display_name": "Python 3",
   "language": "python",
   "name": "python3"
  },
  "language_info": {
   "codemirror_mode": {
    "name": "ipython",
    "version": 3
   },
   "file_extension": ".py",
   "mimetype": "text/x-python",
   "name": "python",
   "nbconvert_exporter": "python",
   "pygments_lexer": "ipython3",
   "version": "3.5.2"
  }
 },
 "nbformat": 4,
 "nbformat_minor": 2
}
