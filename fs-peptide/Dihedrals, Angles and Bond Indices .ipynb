{
 "cells": [
  {
   "cell_type": "markdown",
   "metadata": {
    "collapsed": true
   },
   "source": [
    "# Angles and Bonds\n",
    "\n",
    "Investigates use of angles and bonds as features and splits them according to residue/backbone\n"
   ]
  },
  {
   "cell_type": "code",
   "execution_count": 8,
   "metadata": {
    "collapsed": true
   },
   "outputs": [],
   "source": [
    "from simtk.openmm import app\n",
    "from simtk import unit\n",
    "import parmed as pmd\n",
    "import numpy as np"
   ]
  },
  {
   "cell_type": "code",
   "execution_count": 2,
   "metadata": {
    "collapsed": false
   },
   "outputs": [],
   "source": [
    "pdb = app.PDBFile('../Data/top.pdb')\n",
    "forcefield = app.ForceField('amber99sbildn.xml')\n",
    "system = forcefield.createSystem(pdb.topology, nonbondedMethod=app.CutoffNonPeriodic,\n",
    "    nonbondedCutoff=1.0*unit.nanometers)\n",
    "struct = pmd.openmm.load_topology(pdb.topology, system)"
   ]
  },
  {
   "cell_type": "markdown",
   "metadata": {},
   "source": [
    "Check the Amber masks are correct"
   ]
  },
  {
   "cell_type": "code",
   "execution_count": 3,
   "metadata": {
    "collapsed": false
   },
   "outputs": [
    {
     "name": "stdout",
     "output_type": "stream",
     "text": [
      "<Structure 109 atoms; 23 residues; 108 bonds; parametrized>\n",
      "<Structure 155 atoms; 23 residues; 108 bonds; parametrized>\n",
      "<Structure 264 atoms; 23 residues; 263 bonds; parametrized>\n"
     ]
    }
   ],
   "source": [
    "print(struct['@N,CA,HA,C,O'])\n",
    "print(struct['!@N,CA,HA,C,O'])\n",
    "print(struct)"
   ]
  },
  {
   "cell_type": "markdown",
   "metadata": {},
   "source": [
    "Get the bonds.  Put all the bonds that are not strictly in the residue in the backbone"
   ]
  },
  {
   "cell_type": "code",
   "execution_count": 4,
   "metadata": {
    "collapsed": false
   },
   "outputs": [
    {
     "name": "stdout",
     "output_type": "stream",
     "text": [
      "155\n",
      "108\n",
      "263\n"
     ]
    }
   ],
   "source": [
    "re_bonds = [x for x in struct.view['!(@N,CA,HA,C,O)'].bonds]\n",
    "all_bonds = [x for x in struct.bonds]\n",
    "bb_bonds = list(set(all_bonds).difference(set(re_bonds)))\n",
    "print(len(bb_bonds))\n",
    "print(len(re_bonds))\n",
    "print(len(all_bonds))"
   ]
  },
  {
   "cell_type": "code",
   "execution_count": 5,
   "metadata": {
    "collapsed": false
   },
   "outputs": [
    {
     "data": {
      "text/plain": [
       "[<Bond <Atom CH3 [2]; In ACE 0>--<Atom H1 [3]; In ACE 0>; type=<BondType; k=340.000, req=1.090>>,\n",
       " <Bond <Atom CH3 [2]; In ACE 0>--<Atom H2 [4]; In ACE 0>; type=<BondType; k=340.000, req=1.090>>,\n",
       " <Bond <Atom CH3 [2]; In ACE 0>--<Atom H3 [5]; In ACE 0>; type=<BondType; k=340.000, req=1.090>>,\n",
       " <Bond <Atom CB [10]; In ALA 1>--<Atom HB1 [11]; In ALA 1>; type=<BondType; k=340.000, req=1.090>>,\n",
       " <Bond <Atom CB [10]; In ALA 1>--<Atom HB2 [12]; In ALA 1>; type=<BondType; k=340.000, req=1.090>>,\n",
       " <Bond <Atom CB [10]; In ALA 1>--<Atom HB3 [13]; In ALA 1>; type=<BondType; k=340.000, req=1.090>>,\n",
       " <Bond <Atom CB [20]; In ALA 2>--<Atom HB1 [21]; In ALA 2>; type=<BondType; k=340.000, req=1.090>>,\n",
       " <Bond <Atom CB [20]; In ALA 2>--<Atom HB2 [22]; In ALA 2>; type=<BondType; k=340.000, req=1.090>>,\n",
       " <Bond <Atom CB [20]; In ALA 2>--<Atom HB3 [23]; In ALA 2>; type=<BondType; k=340.000, req=1.090>>,\n",
       " <Bond <Atom CB [30]; In ALA 3>--<Atom HB1 [31]; In ALA 3>; type=<BondType; k=340.000, req=1.090>>]"
      ]
     },
     "execution_count": 5,
     "metadata": {},
     "output_type": "execute_result"
    }
   ],
   "source": [
    "re_bonds[:10]"
   ]
  },
  {
   "cell_type": "code",
   "execution_count": 6,
   "metadata": {
    "collapsed": false
   },
   "outputs": [
    {
     "data": {
      "text/plain": [
       "[<Bond <Atom C [0]; In ACE 0>--<Atom CH3 [2]; In ACE 0>; type=<BondType; k=317.000, req=1.522>>,\n",
       " <Bond <Atom C [0]; In ACE 0>--<Atom O [1]; In ACE 0>; type=<BondType; k=570.000, req=1.229>>,\n",
       " <Bond <Atom CH3 [2]; In ACE 0>--<Atom H1 [3]; In ACE 0>; type=<BondType; k=340.000, req=1.090>>,\n",
       " <Bond <Atom CH3 [2]; In ACE 0>--<Atom H2 [4]; In ACE 0>; type=<BondType; k=340.000, req=1.090>>,\n",
       " <Bond <Atom CH3 [2]; In ACE 0>--<Atom H3 [5]; In ACE 0>; type=<BondType; k=340.000, req=1.090>>,\n",
       " <Bond <Atom C [0]; In ACE 0>--<Atom N [6]; In ALA 1>; type=<BondType; k=490.000, req=1.335>>,\n",
       " <Bond <Atom C [14]; In ALA 1>--<Atom CA [8]; In ALA 1>; type=<BondType; k=317.000, req=1.522>>,\n",
       " <Bond <Atom C [14]; In ALA 1>--<Atom O [15]; In ALA 1>; type=<BondType; k=570.000, req=1.229>>,\n",
       " <Bond <Atom CA [8]; In ALA 1>--<Atom CB [10]; In ALA 1>; type=<BondType; k=310.000, req=1.526>>,\n",
       " <Bond <Atom CA [8]; In ALA 1>--<Atom HA [9]; In ALA 1>; type=<BondType; k=340.000, req=1.090>>]"
      ]
     },
     "execution_count": 6,
     "metadata": {},
     "output_type": "execute_result"
    }
   ],
   "source": [
    "all_bonds[:10]"
   ]
  },
  {
   "cell_type": "code",
   "execution_count": 9,
   "metadata": {
    "collapsed": false
   },
   "outputs": [],
   "source": [
    "bb_bonds_idx = [(x.atom1.idx, x.atom2.idx) for x in bb_bonds]\n",
    "re_bonds_idx = [(x.atom1.idx, x.atom2.idx) for x in re_bonds]\n",
    "np.save('bonds_bb.npy', bb_bonds_idx)\n",
    "np.save('bonds_re.npy', re_bonds_idx)"
   ]
  },
  {
   "cell_type": "markdown",
   "metadata": {},
   "source": [
    "Get the angles"
   ]
  },
  {
   "cell_type": "code",
   "execution_count": 10,
   "metadata": {
    "collapsed": false
   },
   "outputs": [
    {
     "name": "stdout",
     "output_type": "stream",
     "text": [
      "330\n",
      "138\n",
      "468\n"
     ]
    }
   ],
   "source": [
    "re_angles = [x for x in struct.view['!(@N,CA,HA,C,O)'].angles]\n",
    "all_angles = [x for x in struct.angles]\n",
    "bb_angles = list(set(all_angles).difference(set(re_angles)))\n",
    "print(len(bb_angles))\n",
    "print(len(re_angles))\n",
    "print(len(all_angles))"
   ]
  },
  {
   "cell_type": "code",
   "execution_count": 11,
   "metadata": {
    "collapsed": false
   },
   "outputs": [
    {
     "data": {
      "text/plain": [
       "[<Angle <Atom C [0]; In ACE 0>--<Atom CH3 [2]; In ACE 0>--<Atom H1 [3]; In ACE 0>; type=<AngleType; k=50.000, theteq=109.500>>,\n",
       " <Angle <Atom C [0]; In ACE 0>--<Atom CH3 [2]; In ACE 0>--<Atom H2 [4]; In ACE 0>; type=<AngleType; k=50.000, theteq=109.500>>,\n",
       " <Angle <Atom C [0]; In ACE 0>--<Atom CH3 [2]; In ACE 0>--<Atom H3 [5]; In ACE 0>; type=<AngleType; k=50.000, theteq=109.500>>,\n",
       " <Angle <Atom C [0]; In ACE 0>--<Atom N [6]; In ALA 1>--<Atom H [7]; In ALA 1>; type=<AngleType; k=50.000, theteq=120.000>>,\n",
       " <Angle <Atom C [0]; In ACE 0>--<Atom N [6]; In ALA 1>--<Atom CA [8]; In ALA 1>; type=<AngleType; k=50.000, theteq=121.900>>,\n",
       " <Angle <Atom O [1]; In ACE 0>--<Atom C [0]; In ACE 0>--<Atom CH3 [2]; In ACE 0>; type=<AngleType; k=80.000, theteq=120.400>>,\n",
       " <Angle <Atom O [1]; In ACE 0>--<Atom C [0]; In ACE 0>--<Atom N [6]; In ALA 1>; type=<AngleType; k=80.000, theteq=122.900>>,\n",
       " <Angle <Atom CH3 [2]; In ACE 0>--<Atom C [0]; In ACE 0>--<Atom N [6]; In ALA 1>; type=<AngleType; k=70.000, theteq=116.600>>,\n",
       " <Angle <Atom H1 [3]; In ACE 0>--<Atom CH3 [2]; In ACE 0>--<Atom H2 [4]; In ACE 0>; type=<AngleType; k=35.000, theteq=109.500>>,\n",
       " <Angle <Atom H1 [3]; In ACE 0>--<Atom CH3 [2]; In ACE 0>--<Atom H3 [5]; In ACE 0>; type=<AngleType; k=35.000, theteq=109.500>>]"
      ]
     },
     "execution_count": 11,
     "metadata": {},
     "output_type": "execute_result"
    }
   ],
   "source": [
    "all_angles[:10]"
   ]
  },
  {
   "cell_type": "code",
   "execution_count": 12,
   "metadata": {
    "collapsed": false
   },
   "outputs": [
    {
     "data": {
      "text/plain": [
       "[<Angle <Atom H1 [3]; In ACE 0>--<Atom CH3 [2]; In ACE 0>--<Atom H2 [4]; In ACE 0>; type=<AngleType; k=35.000, theteq=109.500>>,\n",
       " <Angle <Atom H1 [3]; In ACE 0>--<Atom CH3 [2]; In ACE 0>--<Atom H3 [5]; In ACE 0>; type=<AngleType; k=35.000, theteq=109.500>>,\n",
       " <Angle <Atom H2 [4]; In ACE 0>--<Atom CH3 [2]; In ACE 0>--<Atom H3 [5]; In ACE 0>; type=<AngleType; k=35.000, theteq=109.500>>,\n",
       " <Angle <Atom HB1 [11]; In ALA 1>--<Atom CB [10]; In ALA 1>--<Atom HB2 [12]; In ALA 1>; type=<AngleType; k=35.000, theteq=109.500>>,\n",
       " <Angle <Atom HB1 [11]; In ALA 1>--<Atom CB [10]; In ALA 1>--<Atom HB3 [13]; In ALA 1>; type=<AngleType; k=35.000, theteq=109.500>>,\n",
       " <Angle <Atom HB2 [12]; In ALA 1>--<Atom CB [10]; In ALA 1>--<Atom HB3 [13]; In ALA 1>; type=<AngleType; k=35.000, theteq=109.500>>,\n",
       " <Angle <Atom HB1 [21]; In ALA 2>--<Atom CB [20]; In ALA 2>--<Atom HB2 [22]; In ALA 2>; type=<AngleType; k=35.000, theteq=109.500>>,\n",
       " <Angle <Atom HB1 [21]; In ALA 2>--<Atom CB [20]; In ALA 2>--<Atom HB3 [23]; In ALA 2>; type=<AngleType; k=35.000, theteq=109.500>>,\n",
       " <Angle <Atom HB2 [22]; In ALA 2>--<Atom CB [20]; In ALA 2>--<Atom HB3 [23]; In ALA 2>; type=<AngleType; k=35.000, theteq=109.500>>,\n",
       " <Angle <Atom HB1 [31]; In ALA 3>--<Atom CB [30]; In ALA 3>--<Atom HB2 [32]; In ALA 3>; type=<AngleType; k=35.000, theteq=109.500>>]"
      ]
     },
     "execution_count": 12,
     "metadata": {},
     "output_type": "execute_result"
    }
   ],
   "source": [
    "re_angles[:10]"
   ]
  },
  {
   "cell_type": "code",
   "execution_count": 13,
   "metadata": {
    "collapsed": false
   },
   "outputs": [
    {
     "data": {
      "text/plain": [
       "[<Angle <Atom O [257]; In ALA 21>--<Atom C [256]; In ALA 21>--<Atom N [258]; In NME 22>; type=<AngleType; k=80.000, theteq=122.900>>,\n",
       " <Angle <Atom HA [197]; In ALA 17>--<Atom CA [196]; In ALA 17>--<Atom C [202]; In ALA 17>; type=<AngleType; k=50.000, theteq=109.500>>,\n",
       " <Angle <Atom N [6]; In ALA 1>--<Atom CA [8]; In ALA 1>--<Atom HA [9]; In ALA 1>; type=<AngleType; k=50.000, theteq=109.500>>,\n",
       " <Angle <Atom HA [197]; In ALA 17>--<Atom CA [196]; In ALA 17>--<Atom CB [198]; In ALA 17>; type=<AngleType; k=50.000, theteq=109.500>>,\n",
       " <Angle <Atom C [256]; In ALA 21>--<Atom N [258]; In NME 22>--<Atom H [259]; In NME 22>; type=<AngleType; k=50.000, theteq=120.000>>,\n",
       " <Angle <Atom CB [198]; In ALA 17>--<Atom CA [196]; In ALA 17>--<Atom C [202]; In ALA 17>; type=<AngleType; k=63.000, theteq=111.100>>,\n",
       " <Angle <Atom C [256]; In ALA 21>--<Atom N [258]; In NME 22>--<Atom C [260]; In NME 22>; type=<AngleType; k=50.000, theteq=121.900>>,\n",
       " <Angle <Atom CA [196]; In ALA 17>--<Atom CB [198]; In ALA 17>--<Atom HB3 [201]; In ALA 17>; type=<AngleType; k=50.000, theteq=109.500>>,\n",
       " <Angle <Atom CH3 [2]; In ACE 0>--<Atom C [0]; In ACE 0>--<Atom N [6]; In ALA 1>; type=<AngleType; k=70.000, theteq=116.600>>,\n",
       " <Angle <Atom CA [196]; In ALA 17>--<Atom C [202]; In ALA 17>--<Atom O [203]; In ALA 17>; type=<AngleType; k=80.000, theteq=120.400>>]"
      ]
     },
     "execution_count": 13,
     "metadata": {},
     "output_type": "execute_result"
    }
   ],
   "source": [
    "bb_angles[:10]"
   ]
  },
  {
   "cell_type": "code",
   "execution_count": 14,
   "metadata": {
    "collapsed": true
   },
   "outputs": [],
   "source": [
    "bb_angles_idx = [(x.atom1.idx, x.atom2.idx, x.atom3.idx)  for x in bb_angles]\n",
    "re_angles_idx = [(x.atom1.idx, x.atom2.idx, x.atom3.idx) for x in re_angles]\n",
    "np.save('angles_bb.npy', bb_angles_idx)\n",
    "np.save('angles_re.npy', re_angles_idx)"
   ]
  },
  {
   "cell_type": "code",
   "execution_count": 76,
   "metadata": {
    "collapsed": false
   },
   "outputs": [
    {
     "data": {
      "text/plain": [
       "[(65, 64, 66),\n",
       " (75, 74, 76),\n",
       " (216, 218, 220),\n",
       " (216, 218, 221),\n",
       " (247, 246, 248),\n",
       " (215, 214, 216),\n",
       " (76, 78, 80),\n",
       " (216, 218, 219),\n",
       " (214, 216, 218),\n",
       " (214, 216, 236)]"
      ]
     },
     "execution_count": 76,
     "metadata": {},
     "output_type": "execute_result"
    }
   ],
   "source": [
    "bb_angles_idx[:10]"
   ]
  },
  {
   "cell_type": "code",
   "execution_count": 77,
   "metadata": {
    "collapsed": false
   },
   "outputs": [
    {
     "data": {
      "text/plain": [
       "[(3, 2, 4),\n",
       " (3, 2, 5),\n",
       " (4, 2, 5),\n",
       " (11, 10, 12),\n",
       " (11, 10, 13),\n",
       " (12, 10, 13),\n",
       " (21, 20, 22),\n",
       " (21, 20, 23),\n",
       " (22, 20, 23),\n",
       " (31, 30, 32)]"
      ]
     },
     "execution_count": 77,
     "metadata": {},
     "output_type": "execute_result"
    }
   ],
   "source": [
    "re_angles_idx[:10]"
   ]
  },
  {
   "cell_type": "markdown",
   "metadata": {
    "collapsed": true
   },
   "source": [
    "Get the dihedrals"
   ]
  },
  {
   "cell_type": "code",
   "execution_count": 16,
   "metadata": {
    "collapsed": false
   },
   "outputs": [
    {
     "name": "stdout",
     "output_type": "stream",
     "text": [
      "637\n",
      "93\n",
      "730\n"
     ]
    }
   ],
   "source": [
    "re_dihed = [x for x in struct.view['!(@N,CA,HA,C,O)'].dihedrals]\n",
    "all_dihed = [x for x in struct.dihedrals]\n",
    "bb_dihed = list(set(all_dihed).difference(set(re_dihed)))\n",
    "print(len(bb_dihed))\n",
    "print(len(re_dihed))\n",
    "print(len(all_dihed))"
   ]
  },
  {
   "cell_type": "code",
   "execution_count": 17,
   "metadata": {
    "collapsed": true
   },
   "outputs": [],
   "source": [
    "bb_dihed_idx = [(x.atom1.idx, x.atom2.idx, x.atom3.idx, x.atom4.idx)  for x in bb_dihed]\n",
    "re_dihed_idx = [(x.atom1.idx, x.atom2.idx, x.atom3.idx, x.atom4.idx) for x in re_dihed]\n",
    "np.save('dihed_bb.npy', bb_dihed_idx)\n",
    "np.save('dihed_re.npy', re_dihed_idx)"
   ]
  },
  {
   "cell_type": "code",
   "execution_count": 18,
   "metadata": {
    "collapsed": true
   },
   "outputs": [],
   "source": [
    "import mdtraj as md"
   ]
  },
  {
   "cell_type": "code",
   "execution_count": 19,
   "metadata": {
    "collapsed": false
   },
   "outputs": [
    {
     "name": "stderr",
     "output_type": "stream",
     "text": [
      "/Users/robert_arbon/anaconda/envs/ml4dyn/lib/python3.5/site-packages/mdtraj/formats/pdb/pdbfile.py:196: UserWarning: Unlikely unit cell vectors detected in PDB file likely resulting from a dummy CRYST1 record. Discarding unit cell vectors.\n",
      "  warnings.warn('Unlikely unit cell vectors detected in PDB file likely '\n"
     ]
    }
   ],
   "source": [
    "traj = md.load('../Data/fs_peptide/trajectory-1.xtc', top='../Data/fs_peptide/fs-peptide.pdb')"
   ]
  },
  {
   "cell_type": "code",
   "execution_count": 26,
   "metadata": {
    "collapsed": false
   },
   "outputs": [],
   "source": [
    "phi, ang = md.compute_phi(traj)\n",
    "phi = [tuple(x) for x in phi]\n",
    "\n",
    "psi, ang = md.compute_psi(traj)\n",
    "psi = [tuple(x) for x in psi]\n",
    "\n",
    "omega, ang = md.compute_omega(traj)\n",
    "omega = [tuple(x) for x in omega]\n",
    "\n",
    "chi1, ang = md.compute_chi1(traj)\n",
    "chi1 = [tuple(x) for x in chi1]\n",
    "\n",
    "chi2, ang = md.compute_chi2(traj)\n",
    "chi2 = [tuple(x) for x in chi2]\n",
    "\n",
    "chi3, ang = md.compute_chi3(traj)\n",
    "chi3 = [tuple(x) for x in chi3]\n",
    "\n",
    "chi3, ang = md.compute_chi3(traj)\n",
    "chi3 = [tuple(x) for x in chi3]\n",
    "\n",
    "chi4, ang = md.compute_chi4(traj)\n",
    "chi4 = [tuple(x) for x in chi4]\n",
    "\n"
   ]
  },
  {
   "cell_type": "code",
   "execution_count": 41,
   "metadata": {
    "collapsed": false
   },
   "outputs": [
    {
     "name": "stdout",
     "output_type": "stream",
     "text": [
      "62\n",
      "12\n",
      "n phi:  21\n",
      "n psi:  21\n",
      "n omega:  20\n",
      "n chi1:  3\n",
      "n chi2:  3\n",
      "n chi3:  3\n",
      "n chi4:  3\n"
     ]
    }
   ],
   "source": [
    "bb_tor_idx = set(phi) | set(psi) | set(omega)\n",
    "print(len(bb_tor_idx))\n",
    "re_tor_idx = set(chi1) | set(chi2) | set(chi3) | set(chi4)\n",
    "print(len(re_tor_idx))\n",
    "print('n phi: ', len(phi))\n",
    "print('n psi: ', len(psi))\n",
    "print('n omega: ', len(omega))\n",
    "print('n chi1: ', len(chi1))\n",
    "print('n chi2: ', len(chi2))\n",
    "print('n chi3: ', len(chi3))\n",
    "print('n chi4: ', len(chi4))\n"
   ]
  },
  {
   "cell_type": "code",
   "execution_count": 36,
   "metadata": {
    "collapsed": false
   },
   "outputs": [
    {
     "name": "stdout",
     "output_type": "stream",
     "text": [
      "True\n",
      "True\n",
      "True\n",
      "\n",
      "True\n",
      "True\n",
      "False\n",
      "False\n",
      "\n",
      "False\n",
      "False\n",
      "True\n",
      "False\n"
     ]
    }
   ],
   "source": [
    "print(set(phi) < set(bb_dihed_idx))\n",
    "print(set(psi) < set(bb_dihed_idx))\n",
    "print(set(omega) < set(bb_dihed_idx))\n",
    "print()\n",
    "print(set(chi1) < set(bb_dihed_idx))\n",
    "print(set(chi2) < set(bb_dihed_idx))\n",
    "print(set(chi3) < set(bb_dihed_idx))\n",
    "print(set(chi4) < set(bb_dihed_idx))\n",
    "print()\n",
    "print(set(chi1) < set(re_dihed_idx))\n",
    "print(set(chi2) < set(re_dihed_idx))\n",
    "print(set(chi3) < set(re_dihed_idx))\n",
    "print(set(chi4) < set(re_dihed_idx))\n"
   ]
  },
  {
   "cell_type": "code",
   "execution_count": 40,
   "metadata": {
    "collapsed": false
   },
   "outputs": [
    {
     "data": {
      "text/plain": [
       "{(93, 96, 99, 101), (157, 160, 163, 165), (221, 224, 227, 229)}"
      ]
     },
     "execution_count": 40,
     "metadata": {},
     "output_type": "execute_result"
    }
   ],
   "source": [
    "set(chi4) - set(re_dihed_idx)"
   ]
  },
  {
   "cell_type": "code",
   "execution_count": 42,
   "metadata": {
    "collapsed": false
   },
   "outputs": [
    {
     "data": {
      "text/plain": [
       "set()"
      ]
     },
     "execution_count": 42,
     "metadata": {},
     "output_type": "execute_result"
    }
   ],
   "source": [
    "set(chi4) & set(re_dihed_idx)"
   ]
  },
  {
   "cell_type": "code",
   "execution_count": 66,
   "metadata": {
    "collapsed": false
   },
   "outputs": [],
   "source": [
    "heavy_atoms = [x.idx for x in struct.view['!(@H*)'].atoms]"
   ]
  },
  {
   "cell_type": "code",
   "execution_count": 72,
   "metadata": {
    "collapsed": false
   },
   "outputs": [],
   "source": [
    "all_bonds = [(x.atom1.idx, x.atom2.idx) for x in struct.view['!(@H*)'].bonds]"
   ]
  },
  {
   "cell_type": "code",
   "execution_count": 73,
   "metadata": {
    "collapsed": false
   },
   "outputs": [],
   "source": [
    "all_ordered_bonds = []\n",
    "for x in all_bonds:\n",
    "    all_ordered_bonds.append((min(x), max(x)))"
   ]
  },
  {
   "cell_type": "code",
   "execution_count": 74,
   "metadata": {
    "collapsed": false
   },
   "outputs": [],
   "source": [
    "all_pairs = []\n",
    "for idx, i in enumerate(heavy_atoms[:-1]):\n",
    "    for j in heavy_atoms[idx:]:\n",
    "        all_pairs.append((i,j))\n",
    "        "
   ]
  },
  {
   "cell_type": "code",
   "execution_count": 75,
   "metadata": {
    "collapsed": false
   },
   "outputs": [],
   "source": [
    "all_nb_pairs = list(set(all_pairs)-set(all_ordered_bonds))"
   ]
  },
  {
   "cell_type": "code",
   "execution_count": 76,
   "metadata": {
    "collapsed": false
   },
   "outputs": [
    {
     "name": "stdout",
     "output_type": "stream",
     "text": [
      "8255\n",
      "127\n",
      "8128\n"
     ]
    }
   ],
   "source": [
    "print(len(all_pairs))\n",
    "print(len(all_ordered_bonds))\n",
    "print(len(all_nb_pairs))\n"
   ]
  },
  {
   "cell_type": "code",
   "execution_count": 77,
   "metadata": {
    "collapsed": true
   },
   "outputs": [],
   "source": [
    "np.save('nb_pairs.npy', all_nb_pairs)"
   ]
  },
  {
   "cell_type": "code",
   "execution_count": 81,
   "metadata": {
    "collapsed": false
   },
   "outputs": [],
   "source": [
    "ca_idx = [x.idx for x in struct.view['@CA'].atoms]\n",
    "ca_pairs_idx = []\n",
    "for idx, i in enumerate(ca_idx[:-1]):\n",
    "    for j in ca_idx[idx:]:\n",
    "        ca_pairs_idx.append((i, j))\n",
    "        "
   ]
  },
  {
   "cell_type": "code",
   "execution_count": 83,
   "metadata": {
    "collapsed": false
   },
   "outputs": [],
   "source": [
    "np.save('ca_pairs.npy', ca_pairs_idx)"
   ]
  },
  {
   "cell_type": "code",
   "execution_count": null,
   "metadata": {
    "collapsed": true
   },
   "outputs": [],
   "source": []
  }
 ],
 "metadata": {
  "kernelspec": {
   "display_name": "Python 3",
   "language": "python",
   "name": "python3"
  },
  "language_info": {
   "codemirror_mode": {
    "name": "ipython",
    "version": 3
   },
   "file_extension": ".py",
   "mimetype": "text/x-python",
   "name": "python",
   "nbconvert_exporter": "python",
   "pygments_lexer": "ipython3",
   "version": "3.5.2"
  }
 },
 "nbformat": 4,
 "nbformat_minor": 0
}
