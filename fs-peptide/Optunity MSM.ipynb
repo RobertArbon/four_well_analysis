{
 "cells": [
  {
   "cell_type": "code",
   "execution_count": 1,
   "metadata": {
    "collapsed": true
   },
   "outputs": [],
   "source": [
    " import optunity\n",
    "import optunity.metrics\n",
    "import sklearn.svm\n",
    "import numpy as np"
   ]
  },
  {
   "cell_type": "code",
   "execution_count": 3,
   "metadata": {
    "collapsed": false
   },
   "outputs": [
    {
     "name": "stderr",
     "output_type": "stream",
     "text": [
      "/Users/robert_arbon/anaconda/envs/ml4dyn/lib/python3.5/site-packages/mdtraj/formats/pdb/pdbfile.py:196: UserWarning: Unlikely unit cell vectors detected in PDB file likely resulting from a dummy CRYST1 record. Discarding unit cell vectors.\n",
      "  warnings.warn('Unlikely unit cell vectors detected in PDB file likely '\n"
     ]
    }
   ],
   "source": [
    "from sklearn.pipeline import Pipeline\n",
    "from msmbuilder.feature_selection import FeatureSelector, VarianceThreshold\n",
    "from msmbuilder.preprocessing import RobustScaler\n",
    "from msmbuilder.decomposition import tICA\n",
    "from msmbuilder.cluster import MiniBatchKMeans\n",
    "from msmbuilder.msm import MarkovStateModel\n",
    "from msmbuilder.io import save_generic\n",
    "from features import tica_features"
   ]
  },
  {
   "cell_type": "code",
   "execution_count": 5,
   "metadata": {
    "collapsed": false
   },
   "outputs": [
    {
     "name": "stderr",
     "output_type": "stream",
     "text": [
      "/Users/robert_arbon/anaconda/envs/ml4dyn/lib/python3.5/site-packages/mdtraj/formats/pdb/pdbfile.py:196: UserWarning: Unlikely unit cell vectors detected in PDB file likely resulting from a dummy CRYST1 record. Discarding unit cell vectors.\n",
      "  warnings.warn('Unlikely unit cell vectors detected in PDB file likely '\n"
     ]
    }
   ],
   "source": [
    "import mdtraj as md\n",
    "trajs = [md.load('data/trajectory-{}.xtc'.format(i+1), top='data/fs-peptide.pdb') for i in range(28)]"
   ]
  },
  {
   "cell_type": "code",
   "execution_count": 48,
   "metadata": {
    "collapsed": true
   },
   "outputs": [],
   "source": [
    "to_ns = 0.5\n",
    "msm_lag = int(40/to_ns)\n",
    "\n",
    "pipe = Pipeline([('features', FeatureSelector(features=tica_features, which_feat=['alpha_angle'])),\n",
    "                 ('variance_cut', VarianceThreshold()),\n",
    "                 ('scaling', RobustScaler()),\n",
    "                 ('tica', tICA(kinetic_mapping=True, n_components=2, lag_time=20)),\n",
    "                 ('cluster', MiniBatchKMeans(random_state=42)),\n",
    "                 ('msm', MarkovStateModel(lag_time=msm_lag, verbose=False, n_timescales=2))])"
   ]
  },
  {
   "cell_type": "code",
   "execution_count": 49,
   "metadata": {
    "collapsed": false
   },
   "outputs": [],
   "source": [
    "features = dict(tica_features)\n",
    "pipe_novar = Pipeline([('variance_cut', VarianceThreshold()),\n",
    "                 ('scaling', RobustScaler()),\n",
    "                 ('tica', tICA(kinetic_mapping=True, n_components=2, lag_time=20)),\n",
    "                 ('cluster', MiniBatchKMeans(random_state=42)),\n",
    "                 ('msm', MarkovStateModel(lag_time=msm_lag, verbose=False, n_timescales=2))])"
   ]
  },
  {
   "cell_type": "code",
   "execution_count": 83,
   "metadata": {
    "collapsed": false
   },
   "outputs": [],
   "source": [
    "def msm(x_train, y_train, x_test, y_test, n_clusters,which_feat='alpha_angle' ):\n",
    "    # could easily make this \n",
    "    feat = features[which_feat]\n",
    "    f_train = feat.fit_transform(x_train)\n",
    "    f_test = feat.fit_transform(x_test)\n",
    "    \n",
    "    n_clusters=int(n_clusters)\n",
    "    pipe_novar.set_params(cluster__n_clusters = n_clusters)\n",
    "    \n",
    "    pipe_novar.fit(f_train)\n",
    "    score = pipe_novar.score(f_test)\n",
    "    return score\n",
    "    \n"
   ]
  },
  {
   "cell_type": "code",
   "execution_count": 51,
   "metadata": {
    "collapsed": false
   },
   "outputs": [
    {
     "data": {
      "text/plain": [
       "2.1103557595255729"
      ]
     },
     "execution_count": 51,
     "metadata": {},
     "output_type": "execute_result"
    }
   ],
   "source": [
    "msm(trajs[:14], y_train=None, x_test=trajs[14:], y_test=None, n_clusters=100.5, which_feat='alpha_angle')"
   ]
  },
  {
   "cell_type": "code",
   "execution_count": 82,
   "metadata": {
    "collapsed": true
   },
   "outputs": [],
   "source": [
    "def msm2(x_train, y_train, x_test, y_test, n_clusters,which_feat='alpha_angle' ):\n",
    "    # could easily make this    \n",
    "    n_clusters=int(n_clusters)\n",
    "    pipe.set_params(cluster__n_clusters = n_clusters)\n",
    "    \n",
    "    pipe.fit(x_train)\n",
    "    score = pipe.score(x_test)\n",
    "    return score"
   ]
  },
  {
   "cell_type": "code",
   "execution_count": 68,
   "metadata": {
    "collapsed": false
   },
   "outputs": [
    {
     "name": "stdout",
     "output_type": "stream",
     "text": [
      "2.39579820765\n"
     ]
    }
   ],
   "source": [
    "s1 = msm2(trajs[:14], y_train=None, x_test=trajs[14:], y_test=None, n_clusters=100.5, which_feat='alpha_angle')\n",
    "s2 = msm2(trajs[14:], y_train=None, x_test=trajs[:14], y_test=None, n_clusters=100.5, which_feat='alpha_angle')\n",
    "print(np.mean([s1,s2]))"
   ]
  },
  {
   "cell_type": "markdown",
   "metadata": {},
   "source": [
    "## Optimize cluster numbers"
   ]
  },
  {
   "cell_type": "code",
   "execution_count": 84,
   "metadata": {
    "collapsed": false
   },
   "outputs": [],
   "source": [
    "@optunity.cross_validated(x=trajs, num_folds=2, aggregator=optunity.cross_validation.mean) #_and_list)\n",
    "def msm(x_train, x_test, n_clusters,which_feat='alpha_angle'):\n",
    "    # could easily make this \n",
    "    feat = features[which_feat]\n",
    "    f_train = feat.fit_transform(x_train)\n",
    "    f_test = feat.fit_transform(x_test)\n",
    "    \n",
    "    n_clusters=int(n_clusters)\n",
    "    pipe_novar.set_params(cluster__n_clusters = n_clusters)\n",
    "    \n",
    "    pipe_novar.fit(f_train)\n",
    "    score = pipe_novar.score(f_test)\n",
    "    return score\n"
   ]
  },
  {
   "cell_type": "code",
   "execution_count": 85,
   "metadata": {
    "collapsed": false
   },
   "outputs": [
    {
     "data": {
      "text/plain": [
       "2.446667247780862"
      ]
     },
     "execution_count": 85,
     "metadata": {},
     "output_type": "execute_result"
    }
   ],
   "source": [
    "msm(which_feat='alpha_angle', n_clusters=100.5)"
   ]
  },
  {
   "cell_type": "code",
   "execution_count": 86,
   "metadata": {
    "collapsed": false
   },
   "outputs": [],
   "source": [
    "opt_ncluster, info, _ = optunity.maximize(msm, num_evals=10, n_clusters=[100, 200])\n"
   ]
  },
  {
   "cell_type": "code",
   "execution_count": null,
   "metadata": {
    "collapsed": true
   },
   "outputs": [],
   "source": [
    "opt_ncluster, info, _ = optunity.maximize(msm, num_evals=10, n_clusters=[100, 200], solver='bayesopt')\n"
   ]
  }
 ],
 "metadata": {
  "kernelspec": {
   "display_name": "Python 3",
   "language": "python",
   "name": "python3"
  },
  "language_info": {
   "codemirror_mode": {
    "name": "ipython",
    "version": 3
   },
   "file_extension": ".py",
   "mimetype": "text/x-python",
   "name": "python",
   "nbconvert_exporter": "python",
   "pygments_lexer": "ipython3",
   "version": "3.5.2"
  }
 },
 "nbformat": 4,
 "nbformat_minor": 2
}
