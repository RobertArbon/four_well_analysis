{
 "cells": [
  {
   "cell_type": "code",
   "execution_count": 278,
   "metadata": {
    "collapsed": true
   },
   "outputs": [],
   "source": [
    "import seaborn as sns"
   ]
  },
  {
   "cell_type": "code",
   "execution_count": 279,
   "metadata": {
    "collapsed": true
   },
   "outputs": [],
   "source": [
    "import pandas as pd\n",
    "import numpy as np\n",
    "import matplotlib.pyplot as plt\n",
    "%matplotlib inline"
   ]
  },
  {
   "cell_type": "markdown",
   "metadata": {},
   "source": [
    "## Get Trial Database"
   ]
  },
  {
   "cell_type": "code",
   "execution_count": 392,
   "metadata": {
    "collapsed": false
   },
   "outputs": [],
   "source": [
    "# config = Config('/home/robert/Research/hyperparamopt/Trial Data/DHFR/Random-GMRQ-2/alpha_angle.yaml')\n",
    "# df = config.trial_results()\n",
    "df = pd.read_pickle('/Users/robert_arbon/Google Drive/Research/Hyperparameter_Optimisation/Code/DHFR/'\n",
    "                    'Random-GMRQ-CSE/cse_trials_0-159.pickl')"
   ]
  },
  {
   "cell_type": "code",
   "execution_count": 393,
   "metadata": {
    "collapsed": false,
    "scrolled": true
   },
   "outputs": [
    {
     "name": "stdout",
     "output_type": "stream",
     "text": [
      "(160, 21)\n"
     ]
    },
    {
     "data": {
      "text/plain": [
       "Index(['completed', 'config_sha1', 'elapsed', 'host', 'id', 'mean_test_score',\n",
       "       'mean_train_score', 'n_test_samples', 'n_train_samples', 'parameters',\n",
       "       'feature', 'started', 'status', 'test_scores', 'traceback',\n",
       "       'train_scores', 'user', 'cse_test_scores', 'cse_train_gaps',\n",
       "       'cse_train_n_timescales', 'cse_train_scores'],\n",
       "      dtype='object')"
      ]
     },
     "execution_count": 393,
     "metadata": {},
     "output_type": "execute_result"
    }
   ],
   "source": [
    "print(df.shape)\n",
    "df.head()\n",
    "df.rename(columns={'project_name': 'feature'}, inplace=True)\n",
    "df.columns\n"
   ]
  },
  {
   "cell_type": "code",
   "execution_count": 394,
   "metadata": {
    "collapsed": false
   },
   "outputs": [
    {
     "data": {
      "text/html": [
       "<div>\n",
       "<style>\n",
       "    .dataframe thead tr:only-child th {\n",
       "        text-align: right;\n",
       "    }\n",
       "\n",
       "    .dataframe thead th {\n",
       "        text-align: left;\n",
       "    }\n",
       "\n",
       "    .dataframe tbody tr th {\n",
       "        vertical-align: top;\n",
       "    }\n",
       "</style>\n",
       "<table border=\"1\" class=\"dataframe\">\n",
       "  <thead>\n",
       "    <tr style=\"text-align: right;\">\n",
       "      <th></th>\n",
       "      <th>id</th>\n",
       "      <th>feature</th>\n",
       "      <th>parameters</th>\n",
       "      <th>test_scores</th>\n",
       "      <th>train_scores</th>\n",
       "      <th>cse_test_scores</th>\n",
       "      <th>cse_train_gaps</th>\n",
       "      <th>cse_train_n_timescales</th>\n",
       "      <th>cse_train_scores</th>\n",
       "    </tr>\n",
       "  </thead>\n",
       "  <tbody>\n",
       "    <tr>\n",
       "      <th>0</th>\n",
       "      <td>340</td>\n",
       "      <td>alpha_angle</td>\n",
       "      <td>{'cluster__max_no_improvement': 10, 'msm__reve...</td>\n",
       "      <td>[2.924020334874508, 2.9698606568357997, 2.9831...</td>\n",
       "      <td>[2.9965153906667426, 2.9945713180323463, 2.998...</td>\n",
       "      <td>[1.98896566959, 4.52260027142, 3.73281691888, ...</td>\n",
       "      <td>[4.94509270445, 3.970741425, 4.39236861362, 4....</td>\n",
       "      <td>[1, 4, 3, 1, 1]</td>\n",
       "      <td>[1.99958729591, 4.97167489458, 3.97432856575, ...</td>\n",
       "    </tr>\n",
       "    <tr>\n",
       "      <th>1</th>\n",
       "      <td>1513</td>\n",
       "      <td>kappa_angle</td>\n",
       "      <td>{'cluster__max_no_improvement': 10, 'msm__reve...</td>\n",
       "      <td>[2.9747090975733688, 2.956909241153384, 2.9847...</td>\n",
       "      <td>[2.9949107356491385, 2.998797693837137, 2.9991...</td>\n",
       "      <td>[4.41895822097, 1.98324126527, 1.9663170355, 1...</td>\n",
       "      <td>[4.5429873137, 2.59523900649, 8.27169428465, 5...</td>\n",
       "      <td>[4, 1, 1, 1, 4]</td>\n",
       "      <td>[4.99598169925, 1.9989900454, 1.99982494769, 1...</td>\n",
       "    </tr>\n",
       "    <tr>\n",
       "      <th>2</th>\n",
       "      <td>994</td>\n",
       "      <td>alpha_angle</td>\n",
       "      <td>{'cluster__max_no_improvement': 10, 'msm__reve...</td>\n",
       "      <td>[2.986630876845032, 2.9609057675592125, 2.9206...</td>\n",
       "      <td>[2.9924662800496753, 2.9969213988757035, 2.998...</td>\n",
       "      <td>[3.02908876125, 3.36369482721, 2.53455903658, ...</td>\n",
       "      <td>[4.34092241682, 2.73642137823, 19.7070544445, ...</td>\n",
       "      <td>[4, 3, 2, 1, 2]</td>\n",
       "      <td>[4.97542342825, 3.92931343168, 2.9970544041, 1...</td>\n",
       "    </tr>\n",
       "    <tr>\n",
       "      <th>3</th>\n",
       "      <td>1554</td>\n",
       "      <td>kappa_angle</td>\n",
       "      <td>{'cluster__max_no_improvement': 10, 'msm__reve...</td>\n",
       "      <td>[2.9632493672161226, 2.9543186829265533, 2.986...</td>\n",
       "      <td>[2.99880160038949, 2.9897071784365, 2.98437574...</td>\n",
       "      <td>[2.70068881247, 1.97125093664, 2.95310862649, ...</td>\n",
       "      <td>[3.24934697605, 6.79625135015, 20.1361241774, ...</td>\n",
       "      <td>[2, 1, 2, 1, 2]</td>\n",
       "      <td>[2.99713521934, 1.99750490984, 2.99954926239, ...</td>\n",
       "    </tr>\n",
       "    <tr>\n",
       "      <th>4</th>\n",
       "      <td>1069</td>\n",
       "      <td>alpha_angle</td>\n",
       "      <td>{'cluster__max_no_improvement': 10, 'msm__reve...</td>\n",
       "      <td>[2.951007543461104, 2.9585031051238304, 2.9578...</td>\n",
       "      <td>[2.997938376605804, 2.993601788874842, 2.99277...</td>\n",
       "      <td>[1.99052590304, 1.99600750949, 1.98926369224, ...</td>\n",
       "      <td>[6.08217110928, 34.1493087487, 16.2779303847, ...</td>\n",
       "      <td>[1, 1, 1, 3, 1]</td>\n",
       "      <td>[1.99949742554, 1.99990897442, 1.99960542692, ...</td>\n",
       "    </tr>\n",
       "  </tbody>\n",
       "</table>\n",
       "</div>"
      ],
      "text/plain": [
       "     id      feature                                         parameters  \\\n",
       "0   340  alpha_angle  {'cluster__max_no_improvement': 10, 'msm__reve...   \n",
       "1  1513  kappa_angle  {'cluster__max_no_improvement': 10, 'msm__reve...   \n",
       "2   994  alpha_angle  {'cluster__max_no_improvement': 10, 'msm__reve...   \n",
       "3  1554  kappa_angle  {'cluster__max_no_improvement': 10, 'msm__reve...   \n",
       "4  1069  alpha_angle  {'cluster__max_no_improvement': 10, 'msm__reve...   \n",
       "\n",
       "                                         test_scores  \\\n",
       "0  [2.924020334874508, 2.9698606568357997, 2.9831...   \n",
       "1  [2.9747090975733688, 2.956909241153384, 2.9847...   \n",
       "2  [2.986630876845032, 2.9609057675592125, 2.9206...   \n",
       "3  [2.9632493672161226, 2.9543186829265533, 2.986...   \n",
       "4  [2.951007543461104, 2.9585031051238304, 2.9578...   \n",
       "\n",
       "                                        train_scores  \\\n",
       "0  [2.9965153906667426, 2.9945713180323463, 2.998...   \n",
       "1  [2.9949107356491385, 2.998797693837137, 2.9991...   \n",
       "2  [2.9924662800496753, 2.9969213988757035, 2.998...   \n",
       "3  [2.99880160038949, 2.9897071784365, 2.98437574...   \n",
       "4  [2.997938376605804, 2.993601788874842, 2.99277...   \n",
       "\n",
       "                                     cse_test_scores  \\\n",
       "0  [1.98896566959, 4.52260027142, 3.73281691888, ...   \n",
       "1  [4.41895822097, 1.98324126527, 1.9663170355, 1...   \n",
       "2  [3.02908876125, 3.36369482721, 2.53455903658, ...   \n",
       "3  [2.70068881247, 1.97125093664, 2.95310862649, ...   \n",
       "4  [1.99052590304, 1.99600750949, 1.98926369224, ...   \n",
       "\n",
       "                                      cse_train_gaps cse_train_n_timescales  \\\n",
       "0  [4.94509270445, 3.970741425, 4.39236861362, 4....        [1, 4, 3, 1, 1]   \n",
       "1  [4.5429873137, 2.59523900649, 8.27169428465, 5...        [4, 1, 1, 1, 4]   \n",
       "2  [4.34092241682, 2.73642137823, 19.7070544445, ...        [4, 3, 2, 1, 2]   \n",
       "3  [3.24934697605, 6.79625135015, 20.1361241774, ...        [2, 1, 2, 1, 2]   \n",
       "4  [6.08217110928, 34.1493087487, 16.2779303847, ...        [1, 1, 1, 3, 1]   \n",
       "\n",
       "                                    cse_train_scores  \n",
       "0  [1.99958729591, 4.97167489458, 3.97432856575, ...  \n",
       "1  [4.99598169925, 1.9989900454, 1.99982494769, 1...  \n",
       "2  [4.97542342825, 3.92931343168, 2.9970544041, 1...  \n",
       "3  [2.99713521934, 1.99750490984, 2.99954926239, ...  \n",
       "4  [1.99949742554, 1.99990897442, 1.99960542692, ...  "
      ]
     },
     "execution_count": 394,
     "metadata": {},
     "output_type": "execute_result"
    }
   ],
   "source": [
    "df = df.loc[:,['id', 'feature', 'parameters', 'test_scores', 'train_scores', 'cse_test_scores', \n",
    "               'cse_train_gaps', 'cse_train_n_timescales' , 'cse_train_scores']]\n",
    "df.head()"
   ]
  },
  {
   "cell_type": "markdown",
   "metadata": {},
   "source": [
    "## Calculate mean GMRQ-2 and GMRQ-CSE\n"
   ]
  },
  {
   "cell_type": "code",
   "execution_count": 395,
   "metadata": {
    "collapsed": false
   },
   "outputs": [],
   "source": [
    "def safe_mean(x):\n",
    "    try:\n",
    "        return np.array(x).mean()\n",
    "    except TypeError:\n",
    "        return np.nan\n",
    "\n",
    "def safe_error(x):\n",
    "    try:\n",
    "        return np.array(x).std()\n",
    "    except TypeError:\n",
    "        return np.nan\n"
   ]
  },
  {
   "cell_type": "code",
   "execution_count": 396,
   "metadata": {
    "collapsed": false
   },
   "outputs": [],
   "source": [
    "# Note - this assumes that the folds are all the same size.  This is fine for DHFR as all trajectories are 1000 ns long. \n",
    "\n",
    "observables = [ 'test_scores','cse_test_scores', 'cse_train_gaps']\n",
    "\n",
    "for observable in observables:\n",
    "#         df[observable+'_error'] = df.loc[:, observable].apply(safe_error)\n",
    "        df[observable+'_mean'] = df.loc[:, observable].apply(safe_mean)"
   ]
  },
  {
   "cell_type": "markdown",
   "metadata": {},
   "source": [
    "## Remove results with errors"
   ]
  },
  {
   "cell_type": "code",
   "execution_count": 397,
   "metadata": {
    "collapsed": false
   },
   "outputs": [
    {
     "name": "stdout",
     "output_type": "stream",
     "text": [
      "(160, 12)\n",
      "(155, 12)\n"
     ]
    }
   ],
   "source": [
    "print(df.shape)\n",
    "df.dropna(axis=0, inplace=True)\n",
    "print(df.shape)"
   ]
  },
  {
   "cell_type": "markdown",
   "metadata": {},
   "source": [
    "## Generate ranks"
   ]
  },
  {
   "cell_type": "code",
   "execution_count": 398,
   "metadata": {
    "collapsed": true
   },
   "outputs": [],
   "source": [
    "df.sort_values(by='test_scores_mean', ascending=False, inplace=True)\n",
    "df['rank'] = np.arange(df.shape[0])+1\n",
    "df.sort_values(by='cse_test_scores_mean', ascending=False, inplace=True)\n",
    "df['cse_rank'] = np.arange(df.shape[0])+1\n",
    "df.sort_values(by='cse_train_gaps_mean', ascending=False, inplace=True)\n",
    "df['gaps_rank'] = np.arange(df.shape[0])+1"
   ]
  },
  {
   "cell_type": "code",
   "execution_count": 399,
   "metadata": {
    "collapsed": false
   },
   "outputs": [
    {
     "data": {
      "text/html": [
       "<div>\n",
       "<style>\n",
       "    .dataframe thead tr:only-child th {\n",
       "        text-align: right;\n",
       "    }\n",
       "\n",
       "    .dataframe thead th {\n",
       "        text-align: left;\n",
       "    }\n",
       "\n",
       "    .dataframe tbody tr th {\n",
       "        vertical-align: top;\n",
       "    }\n",
       "</style>\n",
       "<table border=\"1\" class=\"dataframe\">\n",
       "  <thead>\n",
       "    <tr style=\"text-align: right;\">\n",
       "      <th></th>\n",
       "      <th>id</th>\n",
       "      <th>feature</th>\n",
       "      <th>parameters</th>\n",
       "      <th>test_scores</th>\n",
       "      <th>train_scores</th>\n",
       "      <th>cse_test_scores</th>\n",
       "      <th>cse_train_gaps</th>\n",
       "      <th>cse_train_n_timescales</th>\n",
       "      <th>cse_train_scores</th>\n",
       "      <th>cse_train_gaps_mean</th>\n",
       "      <th>rank</th>\n",
       "      <th>cse_rank</th>\n",
       "      <th>gaps_rank</th>\n",
       "    </tr>\n",
       "  </thead>\n",
       "  <tbody>\n",
       "    <tr>\n",
       "      <th>68</th>\n",
       "      <td>66</td>\n",
       "      <td>kappa_angle</td>\n",
       "      <td>{'cluster__max_no_improvement': 10, 'msm__reve...</td>\n",
       "      <td>[2.917310017568221, 2.9799788401717495, 2.9055...</td>\n",
       "      <td>[2.96599004968879, 2.9903523239076524, 2.97516...</td>\n",
       "      <td>[1.96843664498, 1.91199910957, 1.99850745711, ...</td>\n",
       "      <td>[585.605372298, 27.6186821253, 52.5065555457, ...</td>\n",
       "      <td>[1, 1, 1, 1, 1]</td>\n",
       "      <td>[1.99993873959, 1.99888037923, 1.99969364538, ...</td>\n",
       "      <td>144.346631</td>\n",
       "      <td>65</td>\n",
       "      <td>149</td>\n",
       "      <td>1</td>\n",
       "    </tr>\n",
       "    <tr>\n",
       "      <th>99</th>\n",
       "      <td>111</td>\n",
       "      <td>psi-o_tor</td>\n",
       "      <td>{'cluster__max_no_improvement': 10, 'msm__reve...</td>\n",
       "      <td>[2.8497701072992423, 2.876886939080779, 2.9214...</td>\n",
       "      <td>[2.9635899505216052, 2.9534762664985035, 2.942...</td>\n",
       "      <td>[3.64178590836, 3.32344074089, 1.95736905695, ...</td>\n",
       "      <td>[5.29236519879, 2.9357993761, 104.771271594, 3...</td>\n",
       "      <td>[3, 3, 1, 1, 1]</td>\n",
       "      <td>[3.99033524105, 3.91690707104, 1.9998197383, 1...</td>\n",
       "      <td>111.223211</td>\n",
       "      <td>95</td>\n",
       "      <td>94</td>\n",
       "      <td>2</td>\n",
       "    </tr>\n",
       "    <tr>\n",
       "      <th>84</th>\n",
       "      <td>1381</td>\n",
       "      <td>kappa_angle</td>\n",
       "      <td>{'cluster__max_no_improvement': 10, 'msm__reve...</td>\n",
       "      <td>[2.9272046491397203, 2.8921377734015916, 2.904...</td>\n",
       "      <td>[2.978374534207249, 2.9923008456548845, 2.9747...</td>\n",
       "      <td>[1.99514476312, 1.99272646652, 1.91544607032, ...</td>\n",
       "      <td>[46.0225973328, 13.7279285852, 138.888652539, ...</td>\n",
       "      <td>[1, 1, 1, 1, 1]</td>\n",
       "      <td>[1.99925570392, 1.99852122465, 1.99979091056, ...</td>\n",
       "      <td>94.314679</td>\n",
       "      <td>80</td>\n",
       "      <td>147</td>\n",
       "      <td>3</td>\n",
       "    </tr>\n",
       "    <tr>\n",
       "      <th>148</th>\n",
       "      <td>1548</td>\n",
       "      <td>psi-o_tor</td>\n",
       "      <td>{'cluster__max_no_improvement': 10, 'msm__reve...</td>\n",
       "      <td>[2.908194180807401, 2.973039831295191, 2.83103...</td>\n",
       "      <td>[2.9462855525219585, 2.997155463631855, 2.9914...</td>\n",
       "      <td>[1.99980886706, 1.45466015597, 1.92869187179, ...</td>\n",
       "      <td>[8.0405004019, 89.4697107788, 118.949400001, 1...</td>\n",
       "      <td>[1, 1, 1, 1, 1]</td>\n",
       "      <td>[1.99990222895, 1.99992363965, 1.99969582383, ...</td>\n",
       "      <td>47.998810</td>\n",
       "      <td>144</td>\n",
       "      <td>154</td>\n",
       "      <td>4</td>\n",
       "    </tr>\n",
       "    <tr>\n",
       "      <th>74</th>\n",
       "      <td>1531</td>\n",
       "      <td>kappa_angle</td>\n",
       "      <td>{'cluster__max_no_improvement': 10, 'msm__reve...</td>\n",
       "      <td>[2.9321853218498544, 2.965829474038287, 2.9369...</td>\n",
       "      <td>[2.9765366558424056, 2.974254485293475, 2.9706...</td>\n",
       "      <td>[1.99315016969, 1.98507409948, 1.99581359668, ...</td>\n",
       "      <td>[42.6065702572, 28.8620967844, 19.2141146258, ...</td>\n",
       "      <td>[1, 1, 1, 1, 1]</td>\n",
       "      <td>[1.99939287654, 1.99889581914, 1.99815948579, ...</td>\n",
       "      <td>47.298978</td>\n",
       "      <td>71</td>\n",
       "      <td>145</td>\n",
       "      <td>5</td>\n",
       "    </tr>\n",
       "  </tbody>\n",
       "</table>\n",
       "</div>"
      ],
      "text/plain": [
       "       id      feature                                         parameters  \\\n",
       "68     66  kappa_angle  {'cluster__max_no_improvement': 10, 'msm__reve...   \n",
       "99    111    psi-o_tor  {'cluster__max_no_improvement': 10, 'msm__reve...   \n",
       "84   1381  kappa_angle  {'cluster__max_no_improvement': 10, 'msm__reve...   \n",
       "148  1548    psi-o_tor  {'cluster__max_no_improvement': 10, 'msm__reve...   \n",
       "74   1531  kappa_angle  {'cluster__max_no_improvement': 10, 'msm__reve...   \n",
       "\n",
       "                                           test_scores  \\\n",
       "68   [2.917310017568221, 2.9799788401717495, 2.9055...   \n",
       "99   [2.8497701072992423, 2.876886939080779, 2.9214...   \n",
       "84   [2.9272046491397203, 2.8921377734015916, 2.904...   \n",
       "148  [2.908194180807401, 2.973039831295191, 2.83103...   \n",
       "74   [2.9321853218498544, 2.965829474038287, 2.9369...   \n",
       "\n",
       "                                          train_scores  \\\n",
       "68   [2.96599004968879, 2.9903523239076524, 2.97516...   \n",
       "99   [2.9635899505216052, 2.9534762664985035, 2.942...   \n",
       "84   [2.978374534207249, 2.9923008456548845, 2.9747...   \n",
       "148  [2.9462855525219585, 2.997155463631855, 2.9914...   \n",
       "74   [2.9765366558424056, 2.974254485293475, 2.9706...   \n",
       "\n",
       "                                       cse_test_scores  \\\n",
       "68   [1.96843664498, 1.91199910957, 1.99850745711, ...   \n",
       "99   [3.64178590836, 3.32344074089, 1.95736905695, ...   \n",
       "84   [1.99514476312, 1.99272646652, 1.91544607032, ...   \n",
       "148  [1.99980886706, 1.45466015597, 1.92869187179, ...   \n",
       "74   [1.99315016969, 1.98507409948, 1.99581359668, ...   \n",
       "\n",
       "                                        cse_train_gaps cse_train_n_timescales  \\\n",
       "68   [585.605372298, 27.6186821253, 52.5065555457, ...        [1, 1, 1, 1, 1]   \n",
       "99   [5.29236519879, 2.9357993761, 104.771271594, 3...        [3, 3, 1, 1, 1]   \n",
       "84   [46.0225973328, 13.7279285852, 138.888652539, ...        [1, 1, 1, 1, 1]   \n",
       "148  [8.0405004019, 89.4697107788, 118.949400001, 1...        [1, 1, 1, 1, 1]   \n",
       "74   [42.6065702572, 28.8620967844, 19.2141146258, ...        [1, 1, 1, 1, 1]   \n",
       "\n",
       "                                      cse_train_scores  cse_train_gaps_mean  \\\n",
       "68   [1.99993873959, 1.99888037923, 1.99969364538, ...           144.346631   \n",
       "99   [3.99033524105, 3.91690707104, 1.9998197383, 1...           111.223211   \n",
       "84   [1.99925570392, 1.99852122465, 1.99979091056, ...            94.314679   \n",
       "148  [1.99990222895, 1.99992363965, 1.99969582383, ...            47.998810   \n",
       "74   [1.99939287654, 1.99889581914, 1.99815948579, ...            47.298978   \n",
       "\n",
       "     rank  cse_rank  gaps_rank  \n",
       "68     65       149          1  \n",
       "99     95        94          2  \n",
       "84     80       147          3  \n",
       "148   144       154          4  \n",
       "74     71       145          5  "
      ]
     },
     "execution_count": 399,
     "metadata": {},
     "output_type": "execute_result"
    }
   ],
   "source": [
    "df.drop(labels=['test_scores_mean', 'cse_test_scores_mean'], inplace=True, axis=1)\n",
    "from copy import copy\n",
    "original=copy(df)\n",
    "df.head()\n"
   ]
  },
  {
   "cell_type": "markdown",
   "metadata": {},
   "source": [
    "## Extract parameters"
   ]
  },
  {
   "cell_type": "code",
   "execution_count": 400,
   "metadata": {
    "collapsed": true
   },
   "outputs": [],
   "source": [
    "params = ['cluster__n_clusters', 'tica__n_components', 'tica__lag_time']\n",
    "for param in params:\n",
    "    df[param] = df.loc[:, 'parameters'].apply(lambda x: x[param])"
   ]
  },
  {
   "cell_type": "code",
   "execution_count": 401,
   "metadata": {
    "collapsed": false
   },
   "outputs": [],
   "source": [
    "df.drop(labels='parameters', axis=1, inplace=True)\n",
    "df.sort_values(inplace=True, by='id', axis=0)\n"
   ]
  },
  {
   "cell_type": "markdown",
   "metadata": {},
   "source": [
    "## Expand the trial results so Seaborn can make interesting plots"
   ]
  },
  {
   "cell_type": "code",
   "execution_count": 402,
   "metadata": {
    "collapsed": true
   },
   "outputs": [],
   "source": [
    "to_expand = ['test_scores', 'train_scores', 'cse_test_scores','cse_train_gaps', 'cse_train_n_timescales', \n",
    "            'cse_train_scores'] "
   ]
  },
  {
   "cell_type": "code",
   "execution_count": 403,
   "metadata": {
    "collapsed": false
   },
   "outputs": [],
   "source": [
    "df_expanded = []\n",
    "for col in to_expand:    \n",
    "    s = df.apply(lambda x: pd.Series(x[col]),axis=1).stack().reset_index(level=1, drop=True)\n",
    "    s.name=col\n",
    "    df_expanded.append(pd.DataFrame(s))\n",
    "    df.drop(labels=col, axis=1, inplace=True)\n",
    "    \n",
    "    "
   ]
  },
  {
   "cell_type": "code",
   "execution_count": 404,
   "metadata": {
    "collapsed": false
   },
   "outputs": [
    {
     "data": {
      "text/html": [
       "<div>\n",
       "<style>\n",
       "    .dataframe thead tr:only-child th {\n",
       "        text-align: right;\n",
       "    }\n",
       "\n",
       "    .dataframe thead th {\n",
       "        text-align: left;\n",
       "    }\n",
       "\n",
       "    .dataframe tbody tr th {\n",
       "        vertical-align: top;\n",
       "    }\n",
       "</style>\n",
       "<table border=\"1\" class=\"dataframe\">\n",
       "  <thead>\n",
       "    <tr style=\"text-align: right;\">\n",
       "      <th></th>\n",
       "      <th>id</th>\n",
       "      <th>feature</th>\n",
       "      <th>cse_train_gaps_mean</th>\n",
       "      <th>rank</th>\n",
       "      <th>cse_rank</th>\n",
       "      <th>gaps_rank</th>\n",
       "      <th>cluster__n_clusters</th>\n",
       "      <th>tica__n_components</th>\n",
       "      <th>tica__lag_time</th>\n",
       "      <th>test_scores</th>\n",
       "      <th>train_scores</th>\n",
       "      <th>cse_test_scores</th>\n",
       "      <th>cse_train_gaps</th>\n",
       "      <th>cse_train_n_timescales</th>\n",
       "      <th>cse_train_scores</th>\n",
       "    </tr>\n",
       "  </thead>\n",
       "  <tbody>\n",
       "    <tr>\n",
       "      <th>0</th>\n",
       "      <td>340</td>\n",
       "      <td>alpha_angle</td>\n",
       "      <td>4.366137</td>\n",
       "      <td>1</td>\n",
       "      <td>74</td>\n",
       "      <td>139</td>\n",
       "      <td>415</td>\n",
       "      <td>3</td>\n",
       "      <td>35</td>\n",
       "      <td>2.924020</td>\n",
       "      <td>2.996515</td>\n",
       "      <td>1.988966</td>\n",
       "      <td>4.945093</td>\n",
       "      <td>1</td>\n",
       "      <td>1.999587</td>\n",
       "    </tr>\n",
       "    <tr>\n",
       "      <th>0</th>\n",
       "      <td>340</td>\n",
       "      <td>alpha_angle</td>\n",
       "      <td>4.366137</td>\n",
       "      <td>1</td>\n",
       "      <td>74</td>\n",
       "      <td>139</td>\n",
       "      <td>415</td>\n",
       "      <td>3</td>\n",
       "      <td>35</td>\n",
       "      <td>2.969861</td>\n",
       "      <td>2.994571</td>\n",
       "      <td>4.522600</td>\n",
       "      <td>3.970741</td>\n",
       "      <td>4</td>\n",
       "      <td>4.971675</td>\n",
       "    </tr>\n",
       "    <tr>\n",
       "      <th>0</th>\n",
       "      <td>340</td>\n",
       "      <td>alpha_angle</td>\n",
       "      <td>4.366137</td>\n",
       "      <td>1</td>\n",
       "      <td>74</td>\n",
       "      <td>139</td>\n",
       "      <td>415</td>\n",
       "      <td>3</td>\n",
       "      <td>35</td>\n",
       "      <td>2.983123</td>\n",
       "      <td>2.998468</td>\n",
       "      <td>3.732817</td>\n",
       "      <td>4.392369</td>\n",
       "      <td>3</td>\n",
       "      <td>3.974329</td>\n",
       "    </tr>\n",
       "    <tr>\n",
       "      <th>0</th>\n",
       "      <td>340</td>\n",
       "      <td>alpha_angle</td>\n",
       "      <td>4.366137</td>\n",
       "      <td>1</td>\n",
       "      <td>74</td>\n",
       "      <td>139</td>\n",
       "      <td>415</td>\n",
       "      <td>3</td>\n",
       "      <td>35</td>\n",
       "      <td>2.986086</td>\n",
       "      <td>2.999264</td>\n",
       "      <td>1.992578</td>\n",
       "      <td>4.377805</td>\n",
       "      <td>1</td>\n",
       "      <td>1.999112</td>\n",
       "    </tr>\n",
       "    <tr>\n",
       "      <th>0</th>\n",
       "      <td>340</td>\n",
       "      <td>alpha_angle</td>\n",
       "      <td>4.366137</td>\n",
       "      <td>1</td>\n",
       "      <td>74</td>\n",
       "      <td>139</td>\n",
       "      <td>415</td>\n",
       "      <td>3</td>\n",
       "      <td>35</td>\n",
       "      <td>2.982809</td>\n",
       "      <td>2.998268</td>\n",
       "      <td>1.989154</td>\n",
       "      <td>4.144677</td>\n",
       "      <td>1</td>\n",
       "      <td>1.999495</td>\n",
       "    </tr>\n",
       "  </tbody>\n",
       "</table>\n",
       "</div>"
      ],
      "text/plain": [
       "    id      feature  cse_train_gaps_mean  rank  cse_rank  gaps_rank  \\\n",
       "0  340  alpha_angle             4.366137     1        74        139   \n",
       "0  340  alpha_angle             4.366137     1        74        139   \n",
       "0  340  alpha_angle             4.366137     1        74        139   \n",
       "0  340  alpha_angle             4.366137     1        74        139   \n",
       "0  340  alpha_angle             4.366137     1        74        139   \n",
       "\n",
       "   cluster__n_clusters  tica__n_components  tica__lag_time  test_scores  \\\n",
       "0                  415                   3              35     2.924020   \n",
       "0                  415                   3              35     2.969861   \n",
       "0                  415                   3              35     2.983123   \n",
       "0                  415                   3              35     2.986086   \n",
       "0                  415                   3              35     2.982809   \n",
       "\n",
       "   train_scores  cse_test_scores  cse_train_gaps  cse_train_n_timescales  \\\n",
       "0      2.996515         1.988966        4.945093                       1   \n",
       "0      2.994571         4.522600        3.970741                       4   \n",
       "0      2.998468         3.732817        4.392369                       3   \n",
       "0      2.999264         1.992578        4.377805                       1   \n",
       "0      2.998268         1.989154        4.144677                       1   \n",
       "\n",
       "   cse_train_scores  \n",
       "0          1.999587  \n",
       "0          4.971675  \n",
       "0          3.974329  \n",
       "0          1.999112  \n",
       "0          1.999495  "
      ]
     },
     "execution_count": 404,
     "metadata": {},
     "output_type": "execute_result"
    }
   ],
   "source": [
    "df_expanded = pd.concat(df_expanded, axis=1)\n",
    "trials = df.join(df_expanded)\n",
    "trials.head()"
   ]
  },
  {
   "cell_type": "markdown",
   "metadata": {},
   "source": [
    "## Scores. \n"
   ]
  },
  {
   "cell_type": "code",
   "execution_count": 405,
   "metadata": {
    "collapsed": false
   },
   "outputs": [
    {
     "data": {
      "text/plain": [
       "id                          int64\n",
       "feature                    object\n",
       "cse_train_gaps_mean       float64\n",
       "rank                        int64\n",
       "cse_rank                    int64\n",
       "gaps_rank                   int64\n",
       "cluster__n_clusters         int64\n",
       "tica__n_components          int64\n",
       "tica__lag_time              int64\n",
       "test_scores               float64\n",
       "train_scores              float64\n",
       "cse_test_scores           float64\n",
       "cse_train_gaps            float64\n",
       "cse_train_n_timescales      int64\n",
       "cse_train_scores          float64\n",
       "dtype: object"
      ]
     },
     "execution_count": 405,
     "metadata": {},
     "output_type": "execute_result"
    }
   ],
   "source": [
    "trials.dtypes"
   ]
  },
  {
   "cell_type": "code",
   "execution_count": 413,
   "metadata": {
    "collapsed": false
   },
   "outputs": [
    {
     "data": {
      "image/png": "[encoded data removed]",
      "text/plain": [
       "<matplotlib.figure.Figure at 0x124066518>"
      ]
     },
     "metadata": {},
     "output_type": "display_data"
    }
   ],
   "source": [
    "import numpy as np\n",
    "import matplotlib.ticker as ticker\n",
    "\n",
    "df2 = trials.sort_values(by='rank').iloc[:500,]\n",
    "sns.set_context('paper', font_scale=1)\n",
    "sns.set_style('white')\n",
    "sns.set_palette('colorblind')\n",
    "# fig, ax = plt.subplots(figsize=(10,10))\n",
    "\n",
    "ax = sns.pointplot(x='rank', y='test_scores', hue='feature', data=df2, errwidth=1, scale=.5, join=False)\n",
    "ax.xaxis.set_major_locator(ticker.MultipleLocator(10))\n",
    "ax.xaxis.set_major_formatter(ticker.ScalarFormatter())\n",
    "ax.set_ylabel('GMRQ(2)')\n",
    "fig = plt.gcf()\n",
    "plt.tight_layout()\n",
    "plt.savefig('score_results.pdf')"
   ]
  },
  {
   "cell_type": "code",
   "execution_count": 377,
   "metadata": {
    "collapsed": false
   },
   "outputs": [
    {
     "data": {
      "text/html": [
       "<div>\n",
       "<style>\n",
       "    .dataframe thead tr:only-child th {\n",
       "        text-align: right;\n",
       "    }\n",
       "\n",
       "    .dataframe thead th {\n",
       "        text-align: left;\n",
       "    }\n",
       "\n",
       "    .dataframe tbody tr th {\n",
       "        vertical-align: top;\n",
       "    }\n",
       "</style>\n",
       "<table border=\"1\" class=\"dataframe\">\n",
       "  <thead>\n",
       "    <tr style=\"text-align: right;\">\n",
       "      <th></th>\n",
       "      <th>id</th>\n",
       "      <th>project_name</th>\n",
       "      <th>cse_train_gaps_mean</th>\n",
       "      <th>rank</th>\n",
       "      <th>cse_rank</th>\n",
       "      <th>gaps_rank</th>\n",
       "      <th>cluster__n_clusters</th>\n",
       "      <th>tica__n_components</th>\n",
       "      <th>tica__lag_time</th>\n",
       "      <th>test_scores</th>\n",
       "      <th>train_scores</th>\n",
       "      <th>cse_test_scores</th>\n",
       "      <th>cse_train_gaps</th>\n",
       "      <th>cse_train_n_timescales</th>\n",
       "      <th>cse_train_scores</th>\n",
       "    </tr>\n",
       "  </thead>\n",
       "  <tbody>\n",
       "    <tr>\n",
       "      <th>0</th>\n",
       "      <td>340</td>\n",
       "      <td>alpha_angle</td>\n",
       "      <td>4.366137</td>\n",
       "      <td>1</td>\n",
       "      <td>74</td>\n",
       "      <td>139</td>\n",
       "      <td>415</td>\n",
       "      <td>3</td>\n",
       "      <td>35</td>\n",
       "      <td>2.924020</td>\n",
       "      <td>2.996515</td>\n",
       "      <td>1.988966</td>\n",
       "      <td>4.945093</td>\n",
       "      <td>1</td>\n",
       "      <td>1.999587</td>\n",
       "    </tr>\n",
       "    <tr>\n",
       "      <th>0</th>\n",
       "      <td>340</td>\n",
       "      <td>alpha_angle</td>\n",
       "      <td>4.366137</td>\n",
       "      <td>1</td>\n",
       "      <td>74</td>\n",
       "      <td>139</td>\n",
       "      <td>415</td>\n",
       "      <td>3</td>\n",
       "      <td>35</td>\n",
       "      <td>2.969861</td>\n",
       "      <td>2.994571</td>\n",
       "      <td>4.522600</td>\n",
       "      <td>3.970741</td>\n",
       "      <td>4</td>\n",
       "      <td>4.971675</td>\n",
       "    </tr>\n",
       "    <tr>\n",
       "      <th>0</th>\n",
       "      <td>340</td>\n",
       "      <td>alpha_angle</td>\n",
       "      <td>4.366137</td>\n",
       "      <td>1</td>\n",
       "      <td>74</td>\n",
       "      <td>139</td>\n",
       "      <td>415</td>\n",
       "      <td>3</td>\n",
       "      <td>35</td>\n",
       "      <td>2.983123</td>\n",
       "      <td>2.998468</td>\n",
       "      <td>3.732817</td>\n",
       "      <td>4.392369</td>\n",
       "      <td>3</td>\n",
       "      <td>3.974329</td>\n",
       "    </tr>\n",
       "    <tr>\n",
       "      <th>0</th>\n",
       "      <td>340</td>\n",
       "      <td>alpha_angle</td>\n",
       "      <td>4.366137</td>\n",
       "      <td>1</td>\n",
       "      <td>74</td>\n",
       "      <td>139</td>\n",
       "      <td>415</td>\n",
       "      <td>3</td>\n",
       "      <td>35</td>\n",
       "      <td>2.986086</td>\n",
       "      <td>2.999264</td>\n",
       "      <td>1.992578</td>\n",
       "      <td>4.377805</td>\n",
       "      <td>1</td>\n",
       "      <td>1.999112</td>\n",
       "    </tr>\n",
       "    <tr>\n",
       "      <th>0</th>\n",
       "      <td>340</td>\n",
       "      <td>alpha_angle</td>\n",
       "      <td>4.366137</td>\n",
       "      <td>1</td>\n",
       "      <td>74</td>\n",
       "      <td>139</td>\n",
       "      <td>415</td>\n",
       "      <td>3</td>\n",
       "      <td>35</td>\n",
       "      <td>2.982809</td>\n",
       "      <td>2.998268</td>\n",
       "      <td>1.989154</td>\n",
       "      <td>4.144677</td>\n",
       "      <td>1</td>\n",
       "      <td>1.999495</td>\n",
       "    </tr>\n",
       "  </tbody>\n",
       "</table>\n",
       "</div>"
      ],
      "text/plain": [
       "    id project_name  cse_train_gaps_mean  rank  cse_rank  gaps_rank  \\\n",
       "0  340  alpha_angle             4.366137     1        74        139   \n",
       "0  340  alpha_angle             4.366137     1        74        139   \n",
       "0  340  alpha_angle             4.366137     1        74        139   \n",
       "0  340  alpha_angle             4.366137     1        74        139   \n",
       "0  340  alpha_angle             4.366137     1        74        139   \n",
       "\n",
       "   cluster__n_clusters  tica__n_components  tica__lag_time  test_scores  \\\n",
       "0                  415                   3              35     2.924020   \n",
       "0                  415                   3              35     2.969861   \n",
       "0                  415                   3              35     2.983123   \n",
       "0                  415                   3              35     2.986086   \n",
       "0                  415                   3              35     2.982809   \n",
       "\n",
       "   train_scores  cse_test_scores  cse_train_gaps  cse_train_n_timescales  \\\n",
       "0      2.996515         1.988966        4.945093                       1   \n",
       "0      2.994571         4.522600        3.970741                       4   \n",
       "0      2.998468         3.732817        4.392369                       3   \n",
       "0      2.999264         1.992578        4.377805                       1   \n",
       "0      2.998268         1.989154        4.144677                       1   \n",
       "\n",
       "   cse_train_scores  \n",
       "0          1.999587  \n",
       "0          4.971675  \n",
       "0          3.974329  \n",
       "0          1.999112  \n",
       "0          1.999495  "
      ]
     },
     "execution_count": 377,
     "metadata": {},
     "output_type": "execute_result"
    }
   ],
   "source": [
    "df2.head()"
   ]
  },
  {
   "cell_type": "code",
   "execution_count": null,
   "metadata": {
    "collapsed": false
   },
   "outputs": [],
   "source": [
    "with sns.plotting_context('paper', font_scale=1.5):\n",
    "    fig, ax = plt.subplots(4)\n",
    "    ax[0].errorbar(x=df_ordered['rank'], y=df_ordered['test_scores_mean'], yerr=df_ordered['test_scores_error'])\n",
    "    ax[1].errorbar(x=df_ordered['rank'], y=df_ordered['cse_test_scores_mean'], yerr=df_ordered['cse_test_scores_error'])\n",
    "    ax[2].errorbar(x=df_ordered['rank'], y=df_ordered['cse_train_gaps_mean'], yerr=df_ordered['cse_train_gaps_error'])\n",
    "    ax[2].set_yscale('log')\n",
    "    ax[3].errorbar(x=df_ordered['rank'], y=df_ordered['cse_train_n_timescales_mean'], yerr=df_ordered['cse_train_n_timescales_error'])\n",
    "plt.tight_layout()"
   ]
  }
 ],
 "metadata": {
  "anaconda-cloud": {},
  "kernelspec": {
   "display_name": "Python 3",
   "language": "python",
   "name": "python3"
  },
  "language_info": {
   "codemirror_mode": {
    "name": "ipython",
    "version": 3
   },
   "file_extension": ".py",
   "mimetype": "text/x-python",
   "name": "python",
   "nbconvert_exporter": "python",
   "pygments_lexer": "ipython3",
   "version": "3.5.2"
  }
 },
 "nbformat": 4,
 "nbformat_minor": 1
}
