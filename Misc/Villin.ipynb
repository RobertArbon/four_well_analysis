{
 "cells": [
  {
   "cell_type": "markdown",
   "metadata": {},
   "source": [
    "# Choose the MSM lag-time\n",
    "quick MSM to check what a sensible lag-time would be\n"
   ]
  },
  {
   "cell_type": "code",
   "execution_count": 1,
   "metadata": {
    "collapsed": false
   },
   "outputs": [
    {
     "name": "stderr",
     "output_type": "stream",
     "text": [
      "/Users/robert_arbon/anaconda/envs/ml4dyn/lib/python3.5/site-packages/sklearn/cross_validation.py:44: DeprecationWarning: This module was deprecated in version 0.18 in favor of the model_selection module into which all the refactored classes and functions are moved. Also note that the interface of the new CV iterators are different from that of this module. This module will be removed in 0.20.\n",
      "  \"This module will be removed in 0.20.\", DeprecationWarning)\n",
      "/Users/robert_arbon/anaconda/envs/ml4dyn/lib/python3.5/site-packages/sklearn/grid_search.py:43: DeprecationWarning: This module was deprecated in version 0.18 in favor of the model_selection module into which all the refactored classes and functions are moved. This module will be removed in 0.20.\n",
      "  DeprecationWarning)\n",
      "/Users/robert_arbon/anaconda/envs/ml4dyn/lib/python3.5/site-packages/statsmodels/compat/pandas.py:56: FutureWarning: The pandas.core.datetools module is deprecated and will be removed in a future version. Please use the pandas.tseries module instead.\n",
      "  from pandas.core import datetools\n"
     ]
    }
   ],
   "source": [
    "from msmbuilder.feature_extraction import AlphaAngleFeaturizer\n",
    "from msmbuilder.feature_selection import VarianceThreshold\n",
    "from msmbuilder.preprocessing import RobustScaler\n",
    "from msmbuilder.decomposition import tICA\n",
    "from msmbuilder.cluster import MiniBatchKMedoids\n",
    "from msmbuilder.msm import MarkovStateModel\n",
    "from msmbuilder.io import load_meta, preload_tops\n",
    "from mdtraj import load"
   ]
  },
  {
   "cell_type": "code",
   "execution_count": 2,
   "metadata": {
    "collapsed": false
   },
   "outputs": [],
   "source": [
    "from glob import glob\n",
    "\n",
    "top = '/Users/robert_arbon/Google Drive/Research/Hyperparameter_Optimisation/Code/Data/Villin/top_prot.pdb'\n",
    "traj_paths = glob('/Users/robert_arbon/Google Drive/Research/Hyperparameter_Optimisation/Code/Data/Villin/*.xtc')\n",
    "\n",
    "trajs = [load(traj, top=top) for traj in traj_paths]"
   ]
  },
  {
   "cell_type": "code",
   "execution_count": 3,
   "metadata": {
    "collapsed": false
   },
   "outputs": [
    {
     "name": "stdout",
     "output_type": "stream",
     "text": [
      "(1241, 64)\n"
     ]
    }
   ],
   "source": [
    "ftrajs = AlphaAngleFeaturizer().fit_transform(trajs)\n",
    "print(ftrajs[0].shape)"
   ]
  },
  {
   "cell_type": "code",
   "execution_count": 4,
   "metadata": {
    "collapsed": false
   },
   "outputs": [],
   "source": [
    "ftrajs = VarianceThreshold().fit_transform(ftrajs)\n",
    "ftrajs = RobustScaler().fit_transform(ftrajs)"
   ]
  },
  {
   "cell_type": "code",
   "execution_count": 5,
   "metadata": {
    "collapsed": true
   },
   "outputs": [],
   "source": [
    "ttrajs = tICA(n_components=9, lag_time=44, kinetic_mapping=True).fit_transform(ftrajs)"
   ]
  },
  {
   "cell_type": "code",
   "execution_count": 6,
   "metadata": {
    "collapsed": false
   },
   "outputs": [],
   "source": [
    "import numpy as np\n",
    "ctrajs = MiniBatchKMedoids(n_clusters=654, random_state=42).fit_transform(ttrajs)"
   ]
  },
  {
   "cell_type": "code",
   "execution_count": 7,
   "metadata": {
    "collapsed": false,
    "scrolled": false
   },
   "outputs": [
    {
     "name": "stdout",
     "output_type": "stream",
     "text": [
      "50, MSM contains 1 strongly connected component above weight=0.01. Component 0 selected, with population 100.000000%\n",
      "60, MSM contains 1 strongly connected component above weight=0.01. Component 0 selected, with population 100.000000%\n",
      "70, MSM contains 1 strongly connected component above weight=0.01. Component 0 selected, with population 100.000000%\n",
      "80, MSM contains 1 strongly connected component above weight=0.01. Component 0 selected, with population 100.000000%\n",
      "90, MSM contains 1 strongly connected component above weight=0.01. Component 0 selected, with population 100.000000%\n",
      "100, MSM contains 1 strongly connected component above weight=0.01. Component 0 selected, with population 100.000000%\n"
     ]
    }
   ],
   "source": [
    "quantiles = np.arange(50, 101, 10)\n",
    "timescales = np.zeros((quantiles.shape[0], 5))\n",
    "N = len(ctrajs)\n",
    "for idx, quant in enumerate(quantiles):\n",
    "    print(quant, end=', ')\n",
    "    msm = MarkovStateModel(n_timescales=5, lag_time=100, verbose=True)\n",
    "    q = int(N/100*quant)\n",
    "    msm.fit(ctrajs[:q])\n",
    "    timescales[idx] = msm.timescales_[:5]\n",
    "    "
   ]
  },
  {
   "cell_type": "code",
   "execution_count": 9,
   "metadata": {
    "collapsed": false
   },
   "outputs": [
    {
     "data": {
      "text/plain": [
       "<matplotlib.text.Text at 0x13aac10b8>"
      ]
     },
     "execution_count": 9,
     "metadata": {},
     "output_type": "execute_result"
    },
    {
     "data": {
      "image/png": "[encoded data removed]",
      "text/plain": [
       "<matplotlib.figure.Figure at 0x13a8aa2b0>"
      ]
     },
     "metadata": {},
     "output_type": "display_data"
    }
   ],
   "source": [
    "%matplotlib inline\n",
    "import seaborn as sns\n",
    "import matplotlib.pyplot as plt\n",
    "for i in range(5):\n",
    "    plt.plot(quantiles, timescales.T[i]*0.5/1000)\n",
    "    \n",
    "plt.yscale('log')\n",
    "plt.ylabel('Implied Timescales (us)')\n",
    "plt.xlabel('Amount of data (%-total)')\n"
   ]
  },
  {
   "cell_type": "code",
   "execution_count": null,
   "metadata": {
    "collapsed": false
   },
   "outputs": [],
   "source": [
    "timescales"
   ]
  },
  {
   "cell_type": "code",
   "execution_count": null,
   "metadata": {
    "collapsed": true
   },
   "outputs": [],
   "source": []
  }
 ],
 "metadata": {
  "kernelspec": {
   "display_name": "Python 3",
   "language": "python",
   "name": "python3"
  },
  "language_info": {
   "codemirror_mode": {
    "name": "ipython",
    "version": 3
   },
   "file_extension": ".py",
   "mimetype": "text/x-python",
   "name": "python",
   "nbconvert_exporter": "python",
   "pygments_lexer": "ipython3",
   "version": "3.5.2"
  }
 },
 "nbformat": 4,
 "nbformat_minor": 0
}
