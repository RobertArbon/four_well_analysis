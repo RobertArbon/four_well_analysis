{
 "cells": [
  {
   "cell_type": "code",
   "execution_count": 2,
   "metadata": {},
   "outputs": [
    {
     "name": "stderr",
     "output_type": "stream",
     "text": [
      "/Users/robert_arbon/anaconda/envs/sonification/lib/python3.5/site-packages/sklearn/cross_validation.py:41: DeprecationWarning: This module was deprecated in version 0.18 in favor of the model_selection module into which all the refactored classes and functions are moved. Also note that the interface of the new CV iterators are different from that of this module. This module will be removed in 0.20.\n",
      "  \"This module will be removed in 0.20.\", DeprecationWarning)\n",
      "/Users/robert_arbon/anaconda/envs/sonification/lib/python3.5/site-packages/sklearn/grid_search.py:42: DeprecationWarning: This module was deprecated in version 0.18 in favor of the model_selection module into which all the refactored classes and functions are moved. This module will be removed in 0.20.\n",
      "  DeprecationWarning)\n",
      "/Users/robert_arbon/anaconda/envs/sonification/lib/python3.5/site-packages/statsmodels/compat/pandas.py:56: FutureWarning: The pandas.core.datetools module is deprecated and will be removed in a future version. Please use the pandas.tseries module instead.\n",
      "  from pandas.core import datetools\n"
     ]
    }
   ],
   "source": [
    "from pyemma.msm import MaximumLikelihoodMSM, BayesianMSM, MaximumLikelihoodHMSM, its\n",
    "from bhmm import lag_observations\n",
    "import pyemma.plots as mplt\n",
    "import pyemma.coordinates as coor\n",
    "from msmbuilder.cluster import NDGrid\n",
    "from sklearn.pipeline import Pipeline\n",
    "import pickle\n",
    "from glob import glob\n",
    "import numpy as np\n",
    "import matplotlib.pyplot as plt\n",
    "import seaborn as sns\n",
    "%matplotlib inline\n",
    "from scipy.stats import entropy\n",
    "import pandas as pd"
   ]
  },
  {
   "cell_type": "code",
   "execution_count": 3,
   "metadata": {},
   "outputs": [],
   "source": [
    "def bic(hmm):\n",
    "    p = dof(hmm)\n",
    "    ndata = n_obs(hmm)\n",
    "    loglike = hmm.likelihood # log likelihood\n",
    "    return np.log(ndata)*p - 2*loglike\n",
    "\n",
    "def icl(hmm):\n",
    "    return 2*class_entropy(hmm) + bic(hmm)\n",
    "\n",
    "def class_entropy(hmm):\n",
    "    h_probs = hmm.hidden_state_probabilities\n",
    "    ent = np.sum([np.sum(entropy(x.T)) for x in h_probs])\n",
    "    return ent\n",
    "\n",
    "def aic(hmm):\n",
    "    p = dof(hmm)\n",
    "    loglike = hmm.likelihood # log likelihood    \n",
    "    return 2*p - 2*loglike\n",
    "\n",
    "def n_obs(hmm):\n",
    "    nobs = np.sum([x.shape[0] for x in hmm.dtrajs_obs])\n",
    "    return nobs\n",
    "    \n",
    "def dof(hmm):\n",
    "    N = hmm.metastable_distributions.shape[0] # Num hidden states\n",
    "    M = hmm.metastable_distributions.shape[1] # Num observed states\n",
    "    \n",
    "    # Shouldn't be needed - need to check. \n",
    "#     assert hmm.count_matrix.shape[0] == N, \"\"\n",
    "    \n",
    "    dof = N*(M-1) # Emission probabilities add to one.\n",
    "    if hmm.reversible:\n",
    "        dof += (1/2)*N*(N-1) + N - 1\n",
    "    else:\n",
    "        dof += N*(N-1)\n",
    "\n",
    "    dof = int(dof)\n",
    "\n",
    "#     or hmm.observe_nonempty  - don't need this (I think)\n",
    "\n",
    "    if (hmm.separate is not None) or (hmm.connectivity is None) or \\\n",
    "        hmm.connectivity=='all':\n",
    "        print(hmm.separate)\n",
    "        print(hmm.connectivity)\n",
    "        print(\"BIC/AIC not available for these constraints\")\n",
    "        return None\n",
    "    else:\n",
    "        return dof\n",
    "    "
   ]
  },
  {
   "cell_type": "code",
   "execution_count": 5,
   "metadata": {},
   "outputs": [],
   "source": []
  },
  {
   "cell_type": "markdown",
   "metadata": {},
   "source": [
    "## Load data and cluster"
   ]
  },
  {
   "cell_type": "code",
   "execution_count": 6,
   "metadata": {},
   "outputs": [],
   "source": [
    "data_name = 'four-well'\n",
    "X = [np.load(x) for x in glob('data/'+data_name+'/*npy')]\n",
    "# X = [y for x in X for y in np.array_split(x,8)]\n",
    "xmin = np.min(np.concatenate(X))\n",
    "xmax = np.max(np.concatenate(X))"
   ]
  },
  {
   "cell_type": "code",
   "execution_count": 18,
   "metadata": {},
   "outputs": [
    {
     "name": "stdout",
     "output_type": "stream",
     "text": [
      "200\n",
      "-1.09739722622 1.09641038755\n"
     ]
    }
   ],
   "source": [
    "m_opt = min(200,int(np.sqrt(len(X)*X[0].shape[0])))\n",
    "print(m_opt)\n",
    "# cluster = coor.cluster_kmeans(data=X, k=m_opt, max_iter=20)\n",
    "print(xmin, xmax)\n",
    "cluster = NDGrid(min=xmin, max=xmax, n_bins_per_feature=m_opt)\n",
    "dtrajs = cluster.fit_transform(X)\n",
    "# dtrajs = cluster.dtrajs"
   ]
  },
  {
   "cell_type": "markdown",
   "metadata": {},
   "source": [
    "## MSM"
   ]
  },
  {
   "cell_type": "code",
   "execution_count": 19,
   "metadata": {},
   "outputs": [],
   "source": [
    "m = MaximumLikelihoodMSM(lag=5)\n",
    "m.fit(dtrajs)\n",
    "ts = m.timescales(k=9)"
   ]
  },
  {
   "cell_type": "code",
   "execution_count": 20,
   "metadata": {},
   "outputs": [
    {
     "data": {
      "text/plain": [
       "array([ 844.43487944,  125.53250276,   64.27758341,   11.87013711,\n",
       "         10.2959915 ,    7.30592912,    6.68324501,    4.42840621,\n",
       "          4.1497171 ])"
      ]
     },
     "execution_count": 20,
     "metadata": {},
     "output_type": "execute_result"
    }
   ],
   "source": [
    "ts = np.load('timescales.npy')\n",
    "ts"
   ]
  },
  {
   "cell_type": "code",
   "execution_count": 13,
   "metadata": {},
   "outputs": [
    {
     "data": {
      "text/plain": [
       "[844, 125, 64, 11, 6, 4]"
      ]
     },
     "execution_count": 13,
     "metadata": {},
     "output_type": "execute_result"
    }
   ],
   "source": [
    "# group timescales that differ by less than one: \n",
    "grouped_ts = []\n",
    "i = 0\n",
    "\n",
    "while i < len(ts)-1:\n",
    "    if np.abs(ts[i+1]-ts[i]) < 2:\n",
    "        grouped_ts.append(int(np.mean(ts[i:i+2])))\n",
    "        i +=2\n",
    "    else:\n",
    "        grouped_ts.append(int(ts[i]))\n",
    "        i += 1\n",
    "grouped_ts"
   ]
  },
  {
   "cell_type": "code",
   "execution_count": 14,
   "metadata": {},
   "outputs": [
    {
     "data": {
      "text/plain": [
       "[484, 94, 37, 8, 5]"
      ]
     },
     "execution_count": 14,
     "metadata": {},
     "output_type": "execute_result"
    }
   ],
   "source": [
    "taus = [int((grouped_ts[i]+grouped_ts[i+1])/2) for i in range(len(grouped_ts)-1)]\n",
    "taus"
   ]
  },
  {
   "cell_type": "code",
   "execution_count": 15,
   "metadata": {},
   "outputs": [
    {
     "data": {
      "application/vnd.jupyter.widget-view+json": {
       "model_id": "21473fdaea0a4e9eb3ee36e3725dd10e",
       "version_major": 2,
       "version_minor": 0
      },
      "text/plain": [
       "A Jupyter Widget"
      ]
     },
     "metadata": {},
     "output_type": "display_data"
    },
    {
     "name": "stdout",
     "output_type": "stream",
     "text": [
      "30-03-18 19:49:58 pyemma.msm.estimators.implied_timescales.ImpliedTimescales[1] WARNING  Some timescales could not be computed. Timescales array is smaller than expected or contains NaNs\n"
     ]
    },
    {
     "data": {
      "text/plain": [
       "<matplotlib.axes._subplots.AxesSubplot at 0x11f9bcc18>"
      ]
     },
     "execution_count": 15,
     "metadata": {},
     "output_type": "execute_result"
    },
    {
     "name": "stderr",
     "output_type": "stream",
     "text": [
      "/Users/robert_arbon/anaconda/envs/sonification/lib/python3.5/site-packages/matplotlib/scale.py:111: RuntimeWarning: invalid value encountered in less_equal\n",
      "  out[a <= 0] = -1000\n"
     ]
    },
    {
     "data": {
      "image/png": "[encoded data removed]",
      "text/plain": [
       "<matplotlib.figure.Figure at 0x11f7beeb8>"
      ]
     },
     "metadata": {},
     "output_type": "display_data"
    }
   ],
   "source": [
    "mplt.plot_implied_timescales(its(dtrajs, lags=taus, errors='bayes') )"
   ]
  },
  {
   "cell_type": "code",
   "execution_count": 23,
   "metadata": {},
   "outputs": [
    {
     "data": {
      "text/plain": [
       "MaximumLikelihoodHMSM(accuracy=0.001, connectivity='largest',\n",
       "           dt_traj='1 step', lag=8, maxit=1000, mincount_connectivity=0.25,\n",
       "           msm_init=MaximumLikelihoodMSM(connectivity='largest', count_mode='sliding',\n",
       "           dt_traj='1 step', lag=94, maxerr=1e-08, maxiter=1000000,\n",
       "           mincount_connectivity='1/n', reversible=True, score_k=10,\n",
       "           score_method='VAMP2', sparse=False, statdist_constraint=None),\n",
       "           nstates=4, observe_nonempty=True, reversible=True,\n",
       "           separate=None, stationary=False, stride=1)"
      ]
     },
     "execution_count": 23,
     "metadata": {},
     "output_type": "execute_result"
    }
   ],
   "source": [
    "m = MaximumLikelihoodMSM(lag=taus[1], connectivity='largest', reversible=True )\n",
    "m.fit(dtrajs)\n",
    "hmm = MaximumLikelihoodHMSM(nstates=int(4), lag=tau, stationary=False, reversible=True, connectivity='largest', \n",
    "                           msm_init=m)\n",
    "hmm.fit(dtrajs)"
   ]
  },
  {
   "cell_type": "code",
   "execution_count": 24,
   "metadata": {},
   "outputs": [
    {
     "name": "stdout",
     "output_type": "stream",
     "text": [
      "1.0\n",
      "0.99\n"
     ]
    }
   ],
   "source": [
    "print(m.active_count_fraction)\n",
    "print(m.active_state_fraction)"
   ]
  },
  {
   "cell_type": "code",
   "execution_count": 25,
   "metadata": {},
   "outputs": [
    {
     "data": {
      "text/plain": [
       "84500"
      ]
     },
     "execution_count": 25,
     "metadata": {},
     "output_type": "execute_result"
    }
   ],
   "source": [
    "n_obs(hmm)"
   ]
  },
  {
   "cell_type": "code",
   "execution_count": null,
   "metadata": {},
   "outputs": [],
   "source": [
    "np.sum(hmm.count_matrix)"
   ]
  },
  {
   "cell_type": "code",
   "execution_count": null,
   "metadata": {},
   "outputs": [],
   "source": [
    "np.sum(hmm.count_matrix) + tau*len(dtrajs)"
   ]
  },
  {
   "cell_type": "markdown",
   "metadata": {},
   "source": [
    "## Hidden state selection:"
   ]
  },
  {
   "cell_type": "code",
   "execution_count": 26,
   "metadata": {},
   "outputs": [
    {
     "name": "stdout",
     "output_type": "stream",
     "text": [
      "94\n",
      "2\n",
      "3\n",
      "4\n",
      "5\n",
      "6\n",
      "7\n",
      "37\n",
      "2\n",
      "3\n",
      "4\n",
      "5\n",
      "6\n",
      "7\n",
      "8\n",
      "2\n",
      "3\n",
      "4\n",
      "5\n",
      "6\n",
      "7\n",
      "5\n",
      "2\n",
      "3\n",
      "4\n",
      "5\n",
      "6\n",
      "7\n"
     ]
    }
   ],
   "source": [
    "ks = np.arange(2,8)\n",
    "results = {'tau': [], 'k': [], 'bic': [], 'aic': [], 'icl': [], 'entropy': [], 'n_obs': [], 'dofs': []}\n",
    "for tau in taus[1:]:\n",
    "    \n",
    "    print(tau)\n",
    "    \n",
    "    for k in ks:\n",
    "        \n",
    "        print(k)\n",
    "        \n",
    "        m = MaximumLikelihoodMSM(lag=tau, connectivity='largest', reversible=True )\n",
    "        m.fit(dtrajs)\n",
    "        \n",
    "        assert m.active_count_fraction == 1.0, 'Active count fraction not 1.0'\n",
    "        \n",
    "        hmm = MaximumLikelihoodHMSM(nstates=int(k), lag=tau, stationary=False, reversible=True, connectivity='largest',\n",
    "                                   msm_init=m)\n",
    "        hmm.fit(dtrajs)\n",
    "        results['k'].append(k)\n",
    "        results['tau'].append(tau)\n",
    "        results['bic'].append(bic(hmm))\n",
    "        results['aic'].append(aic(hmm))\n",
    "        results['icl'].append(icl(hmm))\n",
    "        results['entropy'].append(class_entropy(hmm))\n",
    "        results['dofs'].append(dof(hmm))\n",
    "        results['n_obs'].append(n_obs(hmm))\n",
    "\n",
    "\n",
    "\n",
    "\n"
   ]
  },
  {
   "cell_type": "code",
   "execution_count": 28,
   "metadata": {},
   "outputs": [],
   "source": [
    "import pickle\n",
    "pickle.dump(results, open('h_state_selection.p', 'wb'))"
   ]
  },
  {
   "cell_type": "code",
   "execution_count": null,
   "metadata": {},
   "outputs": [],
   "source": [
    "# results\n",
    "\n",
    "df = pd.DataFrame(results)\n",
    "df = pd.melt(frame=df, id_vars='k', value_name='score', var_name='criterion')\n",
    "\n"
   ]
  },
  {
   "cell_type": "code",
   "execution_count": null,
   "metadata": {},
   "outputs": [],
   "source": [
    "min_scores = df.groupby('criterion')['score'].transform('min')\n",
    "idx = df['score'] == min_scores\n",
    "best = df.loc[idx, :]"
   ]
  },
  {
   "cell_type": "code",
   "execution_count": null,
   "metadata": {},
   "outputs": [],
   "source": [
    "criteria = df['criterion'].unique()"
   ]
  },
  {
   "cell_type": "code",
   "execution_count": null,
   "metadata": {},
   "outputs": [],
   "source": [
    "with sns.plotting_context('paper', font_scale=1.5):\n",
    "    sns.set_style('whitegrid')\n",
    "    g = sns.FacetGrid(data=df, col='criterion', col_order=criteria)\n",
    "    g.map(plt.scatter, 'k', 'score')\n",
    "    for i, ax in enumerate(g.axes.flatten()):\n",
    "        idx = best['criterion']==criteria[i]\n",
    "        ax.scatter(best.loc[idx, 'k'],best.loc[idx, 'score'] , marker='o',s=50, color='k')\n",
    "    # g.set(yscale='log')"
   ]
  },
  {
   "cell_type": "code",
   "execution_count": null,
   "metadata": {},
   "outputs": [],
   "source": [
    "m = MaximumLikelihoodMSM(lag=tau, connectivity='largest', reversible=True )\n",
    "m.fit(dtrajs)\n",
    "hmm = MaximumLikelihoodHMSM(nstates=int(6), lag=tau, stationary=False, reversible=True, connectivity='largest', \n",
    "                           msm_init=m)\n",
    "hmm.fit(dtrajs)"
   ]
  },
  {
   "cell_type": "code",
   "execution_count": null,
   "metadata": {
    "scrolled": true
   },
   "outputs": [],
   "source": [
    "with sns.plotting_context('paper', font_scale=1):\n",
    "    fig, axes = plt.subplots(6, sharex=True)\n",
    "    for i, ax in enumerate(axes):\n",
    "        ax.plot(hmm.metastable_distributions[ i,:]*25)\n",
    "        ax.plot(hmm.stationary_distribution_obs*100)\n",
    "        ax.set_ylabel('State {}'.format(i+1))"
   ]
  },
  {
   "cell_type": "code",
   "execution_count": null,
   "metadata": {},
   "outputs": [],
   "source": [
    "with sns.plotting_context('paper', font_scale=1):\n",
    "    fig, axes = plt.subplots(6, sharex=True, sharey=True, figsize=(6,8))\n",
    "    for i, ax in enumerate(axes):\n",
    "        ax.plot(m.eigenvectors_right()[:,i+1])\n",
    "        ax.plot(m.pi*100)\n",
    "        ax.set_ylabel('State {}'.format(i+1))"
   ]
  },
  {
   "cell_type": "code",
   "execution_count": null,
   "metadata": {},
   "outputs": [],
   "source": [
    "hmm.lifetimes"
   ]
  },
  {
   "cell_type": "code",
   "execution_count": null,
   "metadata": {},
   "outputs": [],
   "source": [
    "mplt.plot_markov_model(P=hmm.P)"
   ]
  },
  {
   "cell_type": "markdown",
   "metadata": {},
   "source": [
    "## Coarse graining - fixed n_sets"
   ]
  },
  {
   "cell_type": "code",
   "execution_count": null,
   "metadata": {},
   "outputs": [],
   "source": [
    "# n=4\n",
    "hmm = msm.coarse_grain(ncoarse=n)"
   ]
  },
  {
   "cell_type": "code",
   "execution_count": null,
   "metadata": {},
   "outputs": [],
   "source": [
    "print(np.array2string(hmm.P*100, formatter={'float_kind':lambda x: \"%.2f\" % x}))"
   ]
  },
  {
   "cell_type": "code",
   "execution_count": null,
   "metadata": {
    "scrolled": false
   },
   "outputs": [],
   "source": [
    "ck = hmm.cktest(err_est=False, mlags=10, show_progress=False)\n",
    "_ = mplt.plot_cktest(ck, diag=True, figsize=(7,7), layout=(2,2), padding_top=0.1, y01=False, padding_between=0.3)\n",
    "\n"
   ]
  },
  {
   "cell_type": "code",
   "execution_count": null,
   "metadata": {},
   "outputs": [],
   "source": [
    "with sns.plotting_context('paper', font_scale=1):\n",
    "    fig, axes = plt.subplots(n, sharex=True)\n",
    "    for i, ax in enumerate(axes):\n",
    "        ax.plot(hmm.metastable_memberships[:, i])\n",
    "        ax.plot(hmm.stationary_distribution_obs*100)\n",
    "        ax.set_ylabel('State {}'.format(i+1))"
   ]
  },
  {
   "cell_type": "code",
   "execution_count": null,
   "metadata": {},
   "outputs": [],
   "source": [
    "def forward(A, pobs, pi, T=None, alpha_out=None, dtype=np.float32):\n",
    "    \"\"\"Compute P( obs | A, B, pi ) and all forward coefficients.\n",
    "\n",
    "    Parameters\n",
    "    ----------\n",
    "    A : ndarray((N,N), dtype = float)\n",
    "        transition matrix of the hidden states\n",
    "    pobs : ndarray((T,N), dtype = float)\n",
    "        pobs[t,i] is the observation probability for observation at time t given hidden state i\n",
    "    pi : ndarray((N), dtype = float)\n",
    "        initial distribution of hidden states\n",
    "    T : int, optional, default = None\n",
    "        trajectory length. If not given, T = pobs.shape[0] will be used.\n",
    "    alpha_out : ndarray((T,N), dtype = float), optional, default = None\n",
    "        container for the alpha result variables. If None, a new container will be created.\n",
    "    dtype : type, optional, default = np.float32\n",
    "        data type of the result.\n",
    "\n",
    "    Returns\n",
    "    -------\n",
    "    logprob : float\n",
    "        The probability to observe the sequence `ob` with the model given\n",
    "        by `A`, `B` and `pi`.\n",
    "    alpha : ndarray((T,N), dtype = float), optional, default = None\n",
    "        alpha[t,i] is the ith forward coefficient of time t. These can be\n",
    "        used in many different algorithms related to HMMs.\n",
    "\n",
    "    \"\"\"\n",
    "#     from decimal import Decimal as dec\n",
    "    \n",
    "    # set T\n",
    "    if T is None:\n",
    "        T = pobs.shape[0]  # if not set, use the length of pobs as trajectory length\n",
    "    elif T > pobs.shape[0]:\n",
    "        raise ValueError('T must be at most the length of pobs.')\n",
    "    # set N\n",
    "    N = A.shape[0]\n",
    "    # initialize output if necessary\n",
    "    if alpha_out is None:\n",
    "        alpha_out = np.zeros((T, N), dtype=dtype)\n",
    "    elif T > alpha_out.shape[0]:\n",
    "        raise ValueError('alpha_out must at least have length T in order to fit trajectory.')\n",
    "    # log-likelihood\n",
    "#     logprob = dec(0.0)\n",
    "    logprob = 0.0\n",
    "\n",
    "    # initial values\n",
    "    # alpha_i(0) = pi_i * B_i,ob[0]\n",
    "    np.multiply(pi, pobs[0, :], out=alpha_out[0])\n",
    "\n",
    "    # scaling factor\n",
    "    scale = np.sum(alpha_out[0, :])\n",
    "    # scale\n",
    "    alpha_out[0, :] /= scale\n",
    "#     logprob += dec(float(np.log(scale)))\n",
    "    logprob += np.log(scale)\n",
    "    \n",
    "    # induction\n",
    "    for t in range(T-1):\n",
    "        # alpha_j(t+1) = sum_i alpha_i(t) * A_i,j * B_j,ob(t+1)\n",
    "        np.multiply(np.dot(alpha_out[t, :], A), pobs[t+1, :], out=alpha_out[t+1])\n",
    "        # scaling factor\n",
    "        scale = np.sum(alpha_out[t+1, :])\n",
    "        # scale\n",
    "        alpha_out[t+1, :] /= scale\n",
    "\n",
    "        # update logprob\n",
    "#         logprob += dec(float(np.log(scale)))\n",
    "        logprob += np.log(scale)\n",
    "\n",
    "\n",
    "    return logprob, alpha_out"
   ]
  },
  {
   "cell_type": "code",
   "execution_count": null,
   "metadata": {},
   "outputs": [],
   "source": [
    "from sklearn.model_selection import ShuffleSplit\n",
    "cv = ShuffleSplit(n_splits=10)"
   ]
  },
  {
   "cell_type": "code",
   "execution_count": null,
   "metadata": {},
   "outputs": [],
   "source": [
    "ks = np.arange(4,6)"
   ]
  },
  {
   "cell_type": "code",
   "execution_count": null,
   "metadata": {},
   "outputs": [],
   "source": [
    "results = {'k': [], 'll': [], 'fold': []}"
   ]
  },
  {
   "cell_type": "code",
   "execution_count": null,
   "metadata": {
    "scrolled": false
   },
   "outputs": [],
   "source": [
    "for kdx, k in enumerate(ks):\n",
    "    print(k)\n",
    "    for idx, (train_idx, test_idx) in enumerate(cv.split(dtrajs)):\n",
    "        train = [dtrajs[i] for i in train_idx]\n",
    "        test = [dtrajs[i] for i in test_idx]\n",
    "        print('\\t', idx)\n",
    "        # initialize MInit\n",
    "        Minit = MaximumLikelihoodMSM(lag=tau)\n",
    "        Minit.fit(train)\n",
    "\n",
    "        # Map new trajectories\n",
    "        ttrain = Minit.dtrajs_active\n",
    "        ttest = []\n",
    "        for x in test:\n",
    "            try:\n",
    "                ttest.append(Minit._full2active[x])\n",
    "            except:\n",
    "                pass\n",
    "        ttest_lagged = lag_observations(ttest, lag=tau, stride=10)\n",
    "        print(len(ttest_lagged))\n",
    "        \n",
    "        # Fit HMM\n",
    "        M = MaximumLikelihoodHMSM(lag=tau, nstates=k, msm_init=Minit)\n",
    "        M.fit(train)\n",
    "        \n",
    "        # get parameters\n",
    "        obs_prob = M.observation_probabilities\n",
    "        T = M.transition_matrix\n",
    "        p0 = M.initial_distribution\n",
    "\n",
    "        # Get log likelihood \n",
    "        loglik = 0\n",
    "        for obs in ttest_lagged:\n",
    "            p_obs = obs_prob[:, obs].T\n",
    "            loglik += forward(T, p_obs, p0, dtype=np.longdouble)[0]\n",
    "        results['ll'].append(loglik)\n",
    "        results['k'].append(k)\n",
    "        results['fold'].append(idx)"
   ]
  },
  {
   "cell_type": "code",
   "execution_count": null,
   "metadata": {},
   "outputs": [],
   "source": [
    "# results = {'k': [], 'll': [], 'fold': []}\n",
    "# ks = np.arange(2,5)\n",
    "\n",
    "\n",
    "# for kdx, k in enumerate(ks):\n",
    "#     print(k)\n",
    "#     for idx, (train_idx, test_idx) in enumerate(cv.split(dtrajs)):\n",
    "#         train = [dtrajs[i] for i in train_idx]\n",
    "#         test = [dtrajs[i] for i in test_idx]\n",
    "#         print('\\t', idx)\n",
    "\n",
    "#         # Fit HMM\n",
    "#         M = MaximumLikelihoodHMSM(lag=tau, nstates=k)\n",
    "#         M.fit(train)\n",
    "        \n",
    "#         # Map new trajectories\n",
    "#         ttest = []\n",
    "#         for x in test:\n",
    "#             try:\n",
    "#                 ttest.append(M._full2active[x])\n",
    "#             except:\n",
    "#                 pass\n",
    "#         ttest_lagged = lag_observations(ttest, lag=tau)\n",
    "    \n",
    "        \n",
    "#         # get parameters\n",
    "#         obs_prob = M.observation_probabilities\n",
    "#         T = M.transition_matrix\n",
    "#         p0 = M.initial_distribution\n",
    "\n",
    "#         # Get log likelihood \n",
    "#         loglik = 0\n",
    "#         for obs in ttest_lagged:\n",
    "#             p_obs = obs_prob[:, obs].T\n",
    "#             loglik += forward(T, p_obs, p0, dtype=np.longdouble)[0]\n",
    "#         results['ll'].append(loglik)\n",
    "#         results['k'].append(k)\n",
    "#         results['fold'].append(idx)"
   ]
  },
  {
   "cell_type": "code",
   "execution_count": null,
   "metadata": {},
   "outputs": [],
   "source": [
    "import pandas as pd\n",
    "df = pd.DataFrame(results)"
   ]
  },
  {
   "cell_type": "code",
   "execution_count": null,
   "metadata": {},
   "outputs": [],
   "source": [
    "df.tail(10)"
   ]
  },
  {
   "cell_type": "code",
   "execution_count": null,
   "metadata": {},
   "outputs": [],
   "source": [
    "sns.boxplot(x='k', y='ll', data=df)"
   ]
  },
  {
   "cell_type": "code",
   "execution_count": null,
   "metadata": {},
   "outputs": [],
   "source": [
    "plt.bar(ks, -df.groupby(['k']).aggregate(np.median)['ll'], width=0.5)\n",
    "plt.yscale('log')"
   ]
  },
  {
   "cell_type": "code",
   "execution_count": null,
   "metadata": {},
   "outputs": [],
   "source": [
    "g = sns.FacetGrid(data=df, hue='k')\n",
    "g.map(sns.distplot, 'll', rug=True, hist=False).add_legend()"
   ]
  },
  {
   "cell_type": "code",
   "execution_count": null,
   "metadata": {},
   "outputs": [],
   "source": []
  }
 ],
 "metadata": {
  "kernelspec": {
   "display_name": "Python 3",
   "language": "python",
   "name": "python3"
  },
  "language_info": {
   "codemirror_mode": {
    "name": "ipython",
    "version": 3
   },
   "file_extension": ".py",
   "mimetype": "text/x-python",
   "name": "python",
   "nbconvert_exporter": "python",
   "pygments_lexer": "ipython3",
   "version": "3.5.4"
  }
 },
 "nbformat": 4,
 "nbformat_minor": 1
}
