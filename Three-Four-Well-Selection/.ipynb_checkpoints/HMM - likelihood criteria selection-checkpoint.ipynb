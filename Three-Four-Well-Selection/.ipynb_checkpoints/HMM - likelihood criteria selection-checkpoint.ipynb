{
 "cells": [
  {
   "cell_type": "code",
   "execution_count": 1,
   "metadata": {},
   "outputs": [
    {
     "name": "stderr",
     "output_type": "stream",
     "text": [
      "/Users/robert_arbon/Google Drive/Research/PyEMMA/pyemma/__init__.py:111: UserWarning: You are not using the latest release of PyEMMA. Latest is 2.5.2, you have 2.4+906.gaef6a90c.dirty.\n",
      "  .format(latest=latest, current=current), category=UserWarning)\n",
      "/Users/robert_arbon/anaconda/envs/ml4dyn/lib/python3.5/site-packages/sklearn/cross_validation.py:41: DeprecationWarning: This module was deprecated in version 0.18 in favor of the model_selection module into which all the refactored classes and functions are moved. Also note that the interface of the new CV iterators are different from that of this module. This module will be removed in 0.20.\n",
      "  \"This module will be removed in 0.20.\", DeprecationWarning)\n",
      "/Users/robert_arbon/anaconda/envs/ml4dyn/lib/python3.5/site-packages/sklearn/grid_search.py:42: DeprecationWarning: This module was deprecated in version 0.18 in favor of the model_selection module into which all the refactored classes and functions are moved. This module will be removed in 0.20.\n",
      "  DeprecationWarning)\n"
     ]
    }
   ],
   "source": [
    "from pyemma.msm import MaximumLikelihoodMSM, BayesianMSM, MaximumLikelihoodHMSM, its\n",
    "from bhmm import lag_observations\n",
    "import pyemma.plots as mplt\n",
    "import pyemma.coordinates as coor\n",
    "from msmbuilder.cluster import NDGrid\n",
    "from sklearn.pipeline import Pipeline\n",
    "import pickle\n",
    "from glob import glob\n",
    "import numpy as np\n",
    "import matplotlib.pyplot as plt\n",
    "import seaborn as sns\n",
    "%matplotlib inline\n",
    "from scipy.stats import entropy\n",
    "import pandas as pd"
   ]
  },
  {
   "cell_type": "code",
   "execution_count": 2,
   "metadata": {},
   "outputs": [],
   "source": [
    "def bic(hmm):\n",
    "    p = dof(hmm)\n",
    "    ndata = n_obs(hmm)\n",
    "    loglike = hmm.likelihood # log likelihood\n",
    "    return np.log(ndata)*p - 2*loglike\n",
    "\n",
    "def icl(hmm):\n",
    "    return 2*class_entropy(hmm) + bic(hmm)\n",
    "\n",
    "def class_entropy(hmm):\n",
    "    h_probs = hmm.hidden_state_probabilities\n",
    "    ent = np.sum([np.sum(entropy(x.T)) for x in h_probs])\n",
    "    return ent\n",
    "\n",
    "def aic(hmm):\n",
    "    p = dof(hmm)\n",
    "    loglike = hmm.likelihood # log likelihood    \n",
    "    return 2*p - 2*loglike\n",
    "\n",
    "def n_obs(hmm):\n",
    "    nobs = np.sum([x.shape[0] for x in hmm.dtrajs_obs])\n",
    "    return nobs\n",
    "    \n",
    "def dof(hmm):\n",
    "    N = hmm.metastable_distributions.shape[0] # Num hidden states\n",
    "    M = hmm.metastable_distributions.shape[1] # Num observed states\n",
    "    \n",
    "    # Shouldn't be needed - need to check. \n",
    "#     assert hmm.count_matrix.shape[0] == N, \"\"\n",
    "    \n",
    "    dof = N*(M-1) # Emission probabilities add to one.\n",
    "    if hmm.reversible:\n",
    "        dof += (1/2)*N*(N-1) + N - 1\n",
    "    else:\n",
    "        dof += N*(N-1)\n",
    "\n",
    "    dof = int(dof)\n",
    "\n",
    "#     or hmm.observe_nonempty  - don't need this (I think)\n",
    "\n",
    "    if (hmm.separate is not None) or (hmm.connectivity is None) or \\\n",
    "        hmm.connectivity=='all':\n",
    "        print(hmm.separate)\n",
    "        print(hmm.connectivity)\n",
    "        print(\"BIC/AIC not available for these constraints\")\n",
    "        return None\n",
    "    else:\n",
    "        return dof\n",
    "    "
   ]
  },
  {
   "cell_type": "markdown",
   "metadata": {},
   "source": [
    "## Load data and cluster"
   ]
  },
  {
   "cell_type": "code",
   "execution_count": 3,
   "metadata": {},
   "outputs": [],
   "source": [
    "data_name = 'four-well'\n",
    "X = [np.load(x) for x in glob('data/'+data_name+'/*npy')]\n",
    "# X = [y for x in X for y in np.array_split(x,8)]\n",
    "xmin = np.min(np.concatenate(X))\n",
    "xmax = np.max(np.concatenate(X))"
   ]
  },
  {
   "cell_type": "code",
   "execution_count": 4,
   "metadata": {},
   "outputs": [
    {
     "name": "stdout",
     "output_type": "stream",
     "text": [
      "-1.0973972262237235 1.0964103875457858\n",
      "200\n"
     ]
    }
   ],
   "source": [
    "m_opt = 200 #(200,int(np.sqrt(len(X)*X[0].shape[0])))\n",
    "# numFrames = np.sum([x.shape[0] for x in X])\n",
    "# m_opt = int(max(np.round(0.6 * np.log10(numFrames / 1000) * 1000 + 50), 100)) \n",
    "print(xmin, xmax)\n",
    "print(m_opt)\n",
    "cluster = NDGrid(min=xmin, max=xmax, n_bins_per_feature=m_opt)\n",
    "dtrajs = cluster.fit_transform(X)\n",
    "# dtrajs = cluster.dtrajs"
   ]
  },
  {
   "cell_type": "markdown",
   "metadata": {},
   "source": [
    "## Choose taus"
   ]
  },
  {
   "cell_type": "code",
   "execution_count": 5,
   "metadata": {},
   "outputs": [],
   "source": [
    "ts = np.load('timescales.npy')"
   ]
  },
  {
   "cell_type": "code",
   "execution_count": 6,
   "metadata": {},
   "outputs": [
    {
     "data": {
      "text/plain": [
       "[844, 125, 64, 11, 6, 4]"
      ]
     },
     "execution_count": 6,
     "metadata": {},
     "output_type": "execute_result"
    }
   ],
   "source": [
    "# group timescales that differ by less than one: \n",
    "grouped_ts = []\n",
    "i = 0\n",
    "\n",
    "while i < len(ts)-1:\n",
    "    if np.abs(ts[i+1]-ts[i]) < 2:\n",
    "        grouped_ts.append(int(np.mean(ts[i:i+2])))\n",
    "        i +=2\n",
    "    else:\n",
    "        grouped_ts.append(int(ts[i]))\n",
    "        i += 1\n",
    "grouped_ts"
   ]
  },
  {
   "cell_type": "code",
   "execution_count": 7,
   "metadata": {},
   "outputs": [
    {
     "data": {
      "text/plain": [
       "[484, 94, 37, 8, 5]"
      ]
     },
     "execution_count": 7,
     "metadata": {},
     "output_type": "execute_result"
    }
   ],
   "source": [
    "taus = [int((grouped_ts[i]+grouped_ts[i+1])/2) for i in range(len(grouped_ts)-1)]\n",
    "taus"
   ]
  },
  {
   "cell_type": "markdown",
   "metadata": {},
   "source": [
    "## Get ergodic set "
   ]
  },
  {
   "cell_type": "code",
   "execution_count": 8,
   "metadata": {},
   "outputs": [
    {
     "name": "stdout",
     "output_type": "stream",
     "text": [
      "484\n",
      "0.9998816568047337\n",
      "0.965\n"
     ]
    }
   ],
   "source": [
    "print(taus[0])\n",
    "m = MaximumLikelihoodMSM(lag=taus[0], connectivity='largest', reversible=True )\n",
    "m.fit(dtrajs)\n",
    "print(m.active_count_fraction)\n",
    "print(m.active_state_fraction)"
   ]
  },
  {
   "cell_type": "code",
   "execution_count": 9,
   "metadata": {},
   "outputs": [
    {
     "data": {
      "text/plain": [
       "92"
      ]
     },
     "execution_count": 9,
     "metadata": {},
     "output_type": "execute_result"
    }
   ],
   "source": [
    "erg_dtrajs = [x for x in m.dtrajs_active if not -1 in x]\n",
    "len(erg_dtrajs)"
   ]
  },
  {
   "cell_type": "code",
   "execution_count": 10,
   "metadata": {},
   "outputs": [
    {
     "name": "stdout",
     "output_type": "stream",
     "text": [
      "0.9999228196552611\n",
      "0.9844559585492227\n"
     ]
    }
   ],
   "source": [
    "m = MaximumLikelihoodMSM(lag=taus[0], connectivity='largest', reversible=True )\n",
    "m.fit(erg_dtrajs)\n",
    "print(m.active_count_fraction)\n",
    "print(m.active_state_fraction)"
   ]
  },
  {
   "cell_type": "markdown",
   "metadata": {},
   "source": [
    "## Hidden state selection:"
   ]
  },
  {
   "cell_type": "code",
   "execution_count": 11,
   "metadata": {},
   "outputs": [
    {
     "name": "stdout",
     "output_type": "stream",
     "text": [
      "8\n",
      "2\n",
      "Fitting HMM\n",
      "BIC/AIC not available for these constraints\n",
      "3\n",
      "Fitting HMM\n",
      "BIC/AIC not available for these constraints\n",
      "4\n",
      "Fitting HMM\n",
      "BIC/AIC not available for these constraints\n",
      "5\n",
      "Fitting HMM\n",
      "BIC/AIC not available for these constraints\n",
      "6\n",
      "Fitting HMM\n",
      "BIC/AIC not available for these constraints\n"
     ]
    }
   ],
   "source": [
    "ks = np.arange(2,7)\n",
    "results = {'tau': [], 'k': [], 'bic': [], 'aic': [], 'icl': [], 'entropy': [], 'n_obs': [], 'dofs': []}\n",
    "for tau in [8]:\n",
    "    \n",
    "    print(tau)\n",
    "    \n",
    "    for k in ks:\n",
    "        \n",
    "        print(k)\n",
    "        \n",
    "        m = MaximumLikelihoodMSM(lag=tau, connectivity='largest', reversible=True )\n",
    "        m.fit(erg_dtrajs)\n",
    "        \n",
    "        assert m.active_count_fraction == 1.0, 'Active count fraction not 1.0'\n",
    "        print('Fitting HMM')\n",
    "        hmm = MaximumLikelihoodHMSM(nstates=int(k), lag=tau, stationary=False, reversible=True, connectivity='largest',\n",
    "                                   msm_init=m)\n",
    "        hmm.fit(erg_dtrajs)\n",
    "        results['k'].append(k)\n",
    "        results['tau'].append(tau)\n",
    "        results['bic'].append(bic(hmm))\n",
    "        results['aic'].append(aic(hmm))\n",
    "        results['icl'].append(icl(hmm))\n",
    "        results['entropy'].append(class_entropy(hmm))\n",
    "        results['dofs'].append(dof(hmm))\n",
    "        results['n_obs'].append(n_obs(hmm))\n",
    "\n",
    "\n",
    "\n",
    "\n"
   ]
  },
  {
   "cell_type": "code",
   "execution_count": 12,
   "metadata": {},
   "outputs": [
    {
     "data": {
      "text/html": [
       "<div>\n",
       "<table border=\"1\" class=\"dataframe\">\n",
       "  <thead>\n",
       "    <tr style=\"text-align: right;\">\n",
       "      <th></th>\n",
       "      <th>aic</th>\n",
       "      <th>bic</th>\n",
       "      <th>dofs</th>\n",
       "      <th>entropy</th>\n",
       "      <th>icl</th>\n",
       "      <th>k</th>\n",
       "      <th>n_obs</th>\n",
       "      <th>tau</th>\n",
       "    </tr>\n",
       "  </thead>\n",
       "  <tbody>\n",
       "    <tr>\n",
       "      <th>0</th>\n",
       "      <td>681682.260111</td>\n",
       "      <td>685257.054440</td>\n",
       "      <td>386</td>\n",
       "      <td>121.394771</td>\n",
       "      <td>685499.843983</td>\n",
       "      <td>2</td>\n",
       "      <td>77740</td>\n",
       "      <td>8</td>\n",
       "    </tr>\n",
       "    <tr>\n",
       "      <th>1</th>\n",
       "      <td>645454.893551</td>\n",
       "      <td>650835.607295</td>\n",
       "      <td>581</td>\n",
       "      <td>828.206680</td>\n",
       "      <td>652492.020655</td>\n",
       "      <td>3</td>\n",
       "      <td>77740</td>\n",
       "      <td>8</td>\n",
       "    </tr>\n",
       "    <tr>\n",
       "      <th>2</th>\n",
       "      <td>610262.149579</td>\n",
       "      <td>617458.043863</td>\n",
       "      <td>777</td>\n",
       "      <td>2751.278382</td>\n",
       "      <td>622960.600627</td>\n",
       "      <td>4</td>\n",
       "      <td>77740</td>\n",
       "      <td>8</td>\n",
       "    </tr>\n",
       "    <tr>\n",
       "      <th>3</th>\n",
       "      <td>601989.594379</td>\n",
       "      <td>611009.930328</td>\n",
       "      <td>974</td>\n",
       "      <td>6209.457990</td>\n",
       "      <td>623428.846308</td>\n",
       "      <td>5</td>\n",
       "      <td>77740</td>\n",
       "      <td>8</td>\n",
       "    </tr>\n",
       "    <tr>\n",
       "      <th>4</th>\n",
       "      <td>596582.910873</td>\n",
       "      <td>607436.949612</td>\n",
       "      <td>1172</td>\n",
       "      <td>8408.207633</td>\n",
       "      <td>624253.364879</td>\n",
       "      <td>6</td>\n",
       "      <td>77740</td>\n",
       "      <td>8</td>\n",
       "    </tr>\n",
       "  </tbody>\n",
       "</table>\n",
       "</div>"
      ],
      "text/plain": [
       "             aic            bic  dofs      entropy            icl  k  n_obs  \\\n",
       "0  681682.260111  685257.054440   386   121.394771  685499.843983  2  77740   \n",
       "1  645454.893551  650835.607295   581   828.206680  652492.020655  3  77740   \n",
       "2  610262.149579  617458.043863   777  2751.278382  622960.600627  4  77740   \n",
       "3  601989.594379  611009.930328   974  6209.457990  623428.846308  5  77740   \n",
       "4  596582.910873  607436.949612  1172  8408.207633  624253.364879  6  77740   \n",
       "\n",
       "   tau  \n",
       "0    8  \n",
       "1    8  \n",
       "2    8  \n",
       "3    8  \n",
       "4    8  "
      ]
     },
     "execution_count": 12,
     "metadata": {},
     "output_type": "execute_result"
    }
   ],
   "source": [
    "df = pd.DataFrame(results)\n",
    "df"
   ]
  },
  {
   "cell_type": "code",
   "execution_count": 28,
   "metadata": {},
   "outputs": [],
   "source": [
    "import pickle\n",
    "# pickle.dump(results, open('h_state_selection.p', 'wb'))"
   ]
  },
  {
   "cell_type": "code",
   "execution_count": 13,
   "metadata": {},
   "outputs": [],
   "source": [
    "# results\n",
    "\n",
    "df = pd.DataFrame(results)\n",
    "df = pd.melt(frame=df, id_vars='k', value_name='score', var_name='criterion')\n",
    "\n"
   ]
  },
  {
   "cell_type": "code",
   "execution_count": 14,
   "metadata": {},
   "outputs": [],
   "source": [
    "min_scores = df.groupby('criterion')['score'].transform('min')\n",
    "idx = df['score'] == min_scores\n",
    "best = df.loc[idx, :]"
   ]
  },
  {
   "cell_type": "code",
   "execution_count": 51,
   "metadata": {},
   "outputs": [],
   "source": [
    "criteria = df['criterion'].unique()\n",
    "sample = df.loc[df['criterion'].isin(['aic', 'bic', 'icl']),:]"
   ]
  },
  {
   "cell_type": "code",
   "execution_count": 54,
   "metadata": {},
   "outputs": [],
   "source": [
    "df.loc[df['criterion'].isin(['aic', 'bic', 'icl']), 'score'] *= (-0.5)"
   ]
  },
  {
   "cell_type": "code",
   "execution_count": 55,
   "metadata": {},
   "outputs": [
    {
     "data": {
      "image/png": "[encoded data removed]",
      "text/plain": [
       "<matplotlib.figure.Figure at 0x11f33c048>"
      ]
     },
     "metadata": {},
     "output_type": "display_data"
    }
   ],
   "source": [
    "with sns.plotting_context('talk', font_scale=1):\n",
    "    sns.set_style('whitegrid')\n",
    "    g = sns.FacetGrid(data=df.loc[df['criterion'].isin(['aic', 'bic', 'icl']),:], col='criterion', col_order=['aic', 'bic', 'icl'])\n",
    "    g.map(plt.scatter, 'k', 'score')\n",
    "plt.savefig('/Users/robert_arbon/Google Drive/Presentations/2018-04-20/results-tau{}.png'.format(tau),dpi=300, transparent=True)\n",
    "#     for i, ax in enumerate(g.axes.flatten()):\n",
    "#         idx = best['criterion']==criteria[i]\n",
    "#         ax.scatter(best.loc[idx, 'k'],best.loc[idx, 'score'] , marker='o',s=50, color='k')\n",
    "    # g.set(yscale='log')"
   ]
  },
  {
   "cell_type": "code",
   "execution_count": null,
   "metadata": {},
   "outputs": [],
   "source": [
    "m = MaximumLikelihoodMSM(lag=tau, connectivity='largest', reversible=True )\n",
    "m.fit(dtrajs)\n",
    "hmm = MaximumLikelihoodHMSM(nstates=int(6), lag=tau, stationary=False, reversible=True, connectivity='largest', \n",
    "                           msm_init=m)\n",
    "hmm.fit(dtrajs)"
   ]
  },
  {
   "cell_type": "code",
   "execution_count": null,
   "metadata": {
    "scrolled": true
   },
   "outputs": [],
   "source": [
    "with sns.plotting_context('paper', font_scale=1):\n",
    "    fig, axes = plt.subplots(6, sharex=True)\n",
    "    for i, ax in enumerate(axes):\n",
    "        ax.plot(hmm.metastable_distributions[ i,:]*25)\n",
    "        ax.plot(hmm.stationary_distribution_obs*100)\n",
    "        ax.set_ylabel('State {}'.format(i+1))"
   ]
  },
  {
   "cell_type": "code",
   "execution_count": null,
   "metadata": {},
   "outputs": [],
   "source": [
    "with sns.plotting_context('paper', font_scale=1):\n",
    "    fig, axes = plt.subplots(6, sharex=True, sharey=True, figsize=(6,8))\n",
    "    for i, ax in enumerate(axes):\n",
    "        ax.plot(m.eigenvectors_right()[:,i+1])\n",
    "        ax.plot(m.pi*100)\n",
    "        ax.set_ylabel('State {}'.format(i+1))"
   ]
  },
  {
   "cell_type": "code",
   "execution_count": null,
   "metadata": {},
   "outputs": [],
   "source": [
    "hmm.lifetimes"
   ]
  },
  {
   "cell_type": "code",
   "execution_count": null,
   "metadata": {},
   "outputs": [],
   "source": [
    "mplt.plot_markov_model(P=hmm.P)"
   ]
  },
  {
   "cell_type": "markdown",
   "metadata": {},
   "source": [
    "## Coarse graining - fixed n_sets"
   ]
  },
  {
   "cell_type": "code",
   "execution_count": null,
   "metadata": {},
   "outputs": [],
   "source": [
    "# n=4\n",
    "hmm = msm.coarse_grain(ncoarse=n)"
   ]
  },
  {
   "cell_type": "code",
   "execution_count": null,
   "metadata": {},
   "outputs": [],
   "source": [
    "print(np.array2string(hmm.P*100, formatter={'float_kind':lambda x: \"%.2f\" % x}))"
   ]
  },
  {
   "cell_type": "code",
   "execution_count": null,
   "metadata": {
    "scrolled": false
   },
   "outputs": [],
   "source": [
    "ck = hmm.cktest(err_est=False, mlags=10, show_progress=False)\n",
    "_ = mplt.plot_cktest(ck, diag=True, figsize=(7,7), layout=(2,2), padding_top=0.1, y01=False, padding_between=0.3)\n",
    "\n"
   ]
  },
  {
   "cell_type": "code",
   "execution_count": null,
   "metadata": {},
   "outputs": [],
   "source": [
    "with sns.plotting_context('paper', font_scale=1):\n",
    "    fig, axes = plt.subplots(n, sharex=True)\n",
    "    for i, ax in enumerate(axes):\n",
    "        ax.plot(hmm.metastable_memberships[:, i])\n",
    "        ax.plot(hmm.stationary_distribution_obs*100)\n",
    "        ax.set_ylabel('State {}'.format(i+1))"
   ]
  },
  {
   "cell_type": "code",
   "execution_count": null,
   "metadata": {},
   "outputs": [],
   "source": [
    "def forward(A, pobs, pi, T=None, alpha_out=None, dtype=np.float32):\n",
    "    \"\"\"Compute P( obs | A, B, pi ) and all forward coefficients.\n",
    "\n",
    "    Parameters\n",
    "    ----------\n",
    "    A : ndarray((N,N), dtype = float)\n",
    "        transition matrix of the hidden states\n",
    "    pobs : ndarray((T,N), dtype = float)\n",
    "        pobs[t,i] is the observation probability for observation at time t given hidden state i\n",
    "    pi : ndarray((N), dtype = float)\n",
    "        initial distribution of hidden states\n",
    "    T : int, optional, default = None\n",
    "        trajectory length. If not given, T = pobs.shape[0] will be used.\n",
    "    alpha_out : ndarray((T,N), dtype = float), optional, default = None\n",
    "        container for the alpha result variables. If None, a new container will be created.\n",
    "    dtype : type, optional, default = np.float32\n",
    "        data type of the result.\n",
    "\n",
    "    Returns\n",
    "    -------\n",
    "    logprob : float\n",
    "        The probability to observe the sequence `ob` with the model given\n",
    "        by `A`, `B` and `pi`.\n",
    "    alpha : ndarray((T,N), dtype = float), optional, default = None\n",
    "        alpha[t,i] is the ith forward coefficient of time t. These can be\n",
    "        used in many different algorithms related to HMMs.\n",
    "\n",
    "    \"\"\"\n",
    "#     from decimal import Decimal as dec\n",
    "    \n",
    "    # set T\n",
    "    if T is None:\n",
    "        T = pobs.shape[0]  # if not set, use the length of pobs as trajectory length\n",
    "    elif T > pobs.shape[0]:\n",
    "        raise ValueError('T must be at most the length of pobs.')\n",
    "    # set N\n",
    "    N = A.shape[0]\n",
    "    # initialize output if necessary\n",
    "    if alpha_out is None:\n",
    "        alpha_out = np.zeros((T, N), dtype=dtype)\n",
    "    elif T > alpha_out.shape[0]:\n",
    "        raise ValueError('alpha_out must at least have length T in order to fit trajectory.')\n",
    "    # log-likelihood\n",
    "#     logprob = dec(0.0)\n",
    "    logprob = 0.0\n",
    "\n",
    "    # initial values\n",
    "    # alpha_i(0) = pi_i * B_i,ob[0]\n",
    "    np.multiply(pi, pobs[0, :], out=alpha_out[0])\n",
    "\n",
    "    # scaling factor\n",
    "    scale = np.sum(alpha_out[0, :])\n",
    "    # scale\n",
    "    alpha_out[0, :] /= scale\n",
    "#     logprob += dec(float(np.log(scale)))\n",
    "    logprob += np.log(scale)\n",
    "    \n",
    "    # induction\n",
    "    for t in range(T-1):\n",
    "        # alpha_j(t+1) = sum_i alpha_i(t) * A_i,j * B_j,ob(t+1)\n",
    "        np.multiply(np.dot(alpha_out[t, :], A), pobs[t+1, :], out=alpha_out[t+1])\n",
    "        # scaling factor\n",
    "        scale = np.sum(alpha_out[t+1, :])\n",
    "        # scale\n",
    "        alpha_out[t+1, :] /= scale\n",
    "\n",
    "        # update logprob\n",
    "#         logprob += dec(float(np.log(scale)))\n",
    "        logprob += np.log(scale)\n",
    "\n",
    "\n",
    "    return logprob, alpha_out"
   ]
  },
  {
   "cell_type": "code",
   "execution_count": null,
   "metadata": {},
   "outputs": [],
   "source": [
    "from sklearn.model_selection import ShuffleSplit\n",
    "cv = ShuffleSplit(n_splits=10)"
   ]
  },
  {
   "cell_type": "code",
   "execution_count": null,
   "metadata": {},
   "outputs": [],
   "source": [
    "ks = np.arange(4,6)"
   ]
  },
  {
   "cell_type": "code",
   "execution_count": null,
   "metadata": {},
   "outputs": [],
   "source": [
    "results = {'k': [], 'll': [], 'fold': []}"
   ]
  },
  {
   "cell_type": "code",
   "execution_count": null,
   "metadata": {
    "scrolled": false
   },
   "outputs": [],
   "source": [
    "for kdx, k in enumerate(ks):\n",
    "    print(k)\n",
    "    for idx, (train_idx, test_idx) in enumerate(cv.split(dtrajs)):\n",
    "        train = [dtrajs[i] for i in train_idx]\n",
    "        test = [dtrajs[i] for i in test_idx]\n",
    "        print('\\t', idx)\n",
    "        # initialize MInit\n",
    "        Minit = MaximumLikelihoodMSM(lag=tau)\n",
    "        Minit.fit(train)\n",
    "\n",
    "        # Map new trajectories\n",
    "        ttrain = Minit.dtrajs_active\n",
    "        ttest = []\n",
    "        for x in test:\n",
    "            try:\n",
    "                ttest.append(Minit._full2active[x])\n",
    "            except:\n",
    "                pass\n",
    "        ttest_lagged = lag_observations(ttest, lag=tau, stride=10)\n",
    "        print(len(ttest_lagged))\n",
    "        \n",
    "        # Fit HMM\n",
    "        M = MaximumLikelihoodHMSM(lag=tau, nstates=k, msm_init=Minit)\n",
    "        M.fit(train)\n",
    "        \n",
    "        # get parameters\n",
    "        obs_prob = M.observation_probabilities\n",
    "        T = M.transition_matrix\n",
    "        p0 = M.initial_distribution\n",
    "\n",
    "        # Get log likelihood \n",
    "        loglik = 0\n",
    "        for obs in ttest_lagged:\n",
    "            p_obs = obs_prob[:, obs].T\n",
    "            loglik += forward(T, p_obs, p0, dtype=np.longdouble)[0]\n",
    "        results['ll'].append(loglik)\n",
    "        results['k'].append(k)\n",
    "        results['fold'].append(idx)"
   ]
  },
  {
   "cell_type": "code",
   "execution_count": null,
   "metadata": {},
   "outputs": [],
   "source": [
    "# results = {'k': [], 'll': [], 'fold': []}\n",
    "# ks = np.arange(2,5)\n",
    "\n",
    "\n",
    "# for kdx, k in enumerate(ks):\n",
    "#     print(k)\n",
    "#     for idx, (train_idx, test_idx) in enumerate(cv.split(dtrajs)):\n",
    "#         train = [dtrajs[i] for i in train_idx]\n",
    "#         test = [dtrajs[i] for i in test_idx]\n",
    "#         print('\\t', idx)\n",
    "\n",
    "#         # Fit HMM\n",
    "#         M = MaximumLikelihoodHMSM(lag=tau, nstates=k)\n",
    "#         M.fit(train)\n",
    "        \n",
    "#         # Map new trajectories\n",
    "#         ttest = []\n",
    "#         for x in test:\n",
    "#             try:\n",
    "#                 ttest.append(M._full2active[x])\n",
    "#             except:\n",
    "#                 pass\n",
    "#         ttest_lagged = lag_observations(ttest, lag=tau)\n",
    "    \n",
    "        \n",
    "#         # get parameters\n",
    "#         obs_prob = M.observation_probabilities\n",
    "#         T = M.transition_matrix\n",
    "#         p0 = M.initial_distribution\n",
    "\n",
    "#         # Get log likelihood \n",
    "#         loglik = 0\n",
    "#         for obs in ttest_lagged:\n",
    "#             p_obs = obs_prob[:, obs].T\n",
    "#             loglik += forward(T, p_obs, p0, dtype=np.longdouble)[0]\n",
    "#         results['ll'].append(loglik)\n",
    "#         results['k'].append(k)\n",
    "#         results['fold'].append(idx)"
   ]
  },
  {
   "cell_type": "code",
   "execution_count": null,
   "metadata": {},
   "outputs": [],
   "source": [
    "import pandas as pd\n",
    "df = pd.DataFrame(results)"
   ]
  },
  {
   "cell_type": "code",
   "execution_count": null,
   "metadata": {},
   "outputs": [],
   "source": [
    "df.tail(10)"
   ]
  },
  {
   "cell_type": "code",
   "execution_count": null,
   "metadata": {},
   "outputs": [],
   "source": [
    "sns.boxplot(x='k', y='ll', data=df)"
   ]
  },
  {
   "cell_type": "code",
   "execution_count": null,
   "metadata": {},
   "outputs": [],
   "source": [
    "plt.bar(ks, -df.groupby(['k']).aggregate(np.median)['ll'], width=0.5)\n",
    "plt.yscale('log')"
   ]
  },
  {
   "cell_type": "code",
   "execution_count": null,
   "metadata": {},
   "outputs": [],
   "source": [
    "g = sns.FacetGrid(data=df, hue='k')\n",
    "g.map(sns.distplot, 'll', rug=True, hist=False).add_legend()"
   ]
  },
  {
   "cell_type": "code",
   "execution_count": null,
   "metadata": {},
   "outputs": [],
   "source": []
  }
 ],
 "metadata": {
  "kernelspec": {
   "display_name": "Python 3",
   "language": "python",
   "name": "python3"
  },
  "language_info": {
   "codemirror_mode": {
    "name": "ipython",
    "version": 3
   },
   "file_extension": ".py",
   "mimetype": "text/x-python",
   "name": "python",
   "nbconvert_exporter": "python",
   "pygments_lexer": "ipython3",
   "version": "3.5.2"
  }
 },
 "nbformat": 4,
 "nbformat_minor": 1
}
