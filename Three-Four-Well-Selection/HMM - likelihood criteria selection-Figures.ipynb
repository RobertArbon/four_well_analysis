{
 "cells": [
  {
   "cell_type": "code",
   "execution_count": 1,
   "metadata": {},
   "outputs": [
    {
     "name": "stderr",
     "output_type": "stream",
     "text": [
      "/Users/robert_arbon/anaconda/envs/sonification/lib/python3.5/site-packages/sklearn/cross_validation.py:41: DeprecationWarning: This module was deprecated in version 0.18 in favor of the model_selection module into which all the refactored classes and functions are moved. Also note that the interface of the new CV iterators are different from that of this module. This module will be removed in 0.20.\n",
      "  \"This module will be removed in 0.20.\", DeprecationWarning)\n",
      "/Users/robert_arbon/anaconda/envs/sonification/lib/python3.5/site-packages/sklearn/grid_search.py:42: DeprecationWarning: This module was deprecated in version 0.18 in favor of the model_selection module into which all the refactored classes and functions are moved. This module will be removed in 0.20.\n",
      "  DeprecationWarning)\n",
      "/Users/robert_arbon/anaconda/envs/sonification/lib/python3.5/site-packages/statsmodels/compat/pandas.py:56: FutureWarning: The pandas.core.datetools module is deprecated and will be removed in a future version. Please use the pandas.tseries module instead.\n",
      "  from pandas.core import datetools\n"
     ]
    }
   ],
   "source": [
    "from pyemma.msm import MaximumLikelihoodMSM, BayesianMSM, MaximumLikelihoodHMSM, its\n",
    "from bhmm import lag_observations\n",
    "import pyemma.plots as mplt\n",
    "import pyemma.coordinates as coor\n",
    "from msmbuilder.cluster import NDGrid\n",
    "from sklearn.pipeline import Pipeline\n",
    "import pickle\n",
    "from glob import glob\n",
    "import numpy as np\n",
    "import matplotlib.pyplot as plt\n",
    "import seaborn as sns\n",
    "%matplotlib inline\n",
    "from scipy.stats import entropy\n",
    "import pandas as pd"
   ]
  },
  {
   "cell_type": "code",
   "execution_count": 2,
   "metadata": {},
   "outputs": [],
   "source": [
    "results = pickle.load(open('h_state_selection.p', 'rb'))"
   ]
  },
  {
   "cell_type": "code",
   "execution_count": 3,
   "metadata": {},
   "outputs": [],
   "source": [
    "df = pd.DataFrame(results)"
   ]
  },
  {
   "cell_type": "code",
   "execution_count": 4,
   "metadata": {},
   "outputs": [
    {
     "data": {
      "text/html": [
       "<div>\n",
       "<style scoped>\n",
       "    .dataframe tbody tr th:only-of-type {\n",
       "        vertical-align: middle;\n",
       "    }\n",
       "\n",
       "    .dataframe tbody tr th {\n",
       "        vertical-align: top;\n",
       "    }\n",
       "\n",
       "    .dataframe thead th {\n",
       "        text-align: right;\n",
       "    }\n",
       "</style>\n",
       "<table border=\"1\" class=\"dataframe\">\n",
       "  <thead>\n",
       "    <tr style=\"text-align: right;\">\n",
       "      <th></th>\n",
       "      <th>aic</th>\n",
       "      <th>bic</th>\n",
       "      <th>dofs</th>\n",
       "      <th>entropy</th>\n",
       "      <th>icl</th>\n",
       "      <th>k</th>\n",
       "      <th>n_obs</th>\n",
       "      <th>tau</th>\n",
       "    </tr>\n",
       "  </thead>\n",
       "  <tbody>\n",
       "    <tr>\n",
       "      <th>0</th>\n",
       "      <td>780111.451608</td>\n",
       "      <td>783811.876306</td>\n",
       "      <td>396</td>\n",
       "      <td>994.063572</td>\n",
       "      <td>785800.003449</td>\n",
       "      <td>2</td>\n",
       "      <td>84500</td>\n",
       "      <td>94</td>\n",
       "    </tr>\n",
       "    <tr>\n",
       "      <th>1</th>\n",
       "      <td>772364.754379</td>\n",
       "      <td>777934.080440</td>\n",
       "      <td>596</td>\n",
       "      <td>3460.459248</td>\n",
       "      <td>784854.998936</td>\n",
       "      <td>3</td>\n",
       "      <td>84500</td>\n",
       "      <td>94</td>\n",
       "    </tr>\n",
       "    <tr>\n",
       "      <th>2</th>\n",
       "      <td>769791.382984</td>\n",
       "      <td>777238.954915</td>\n",
       "      <td>797</td>\n",
       "      <td>12359.388510</td>\n",
       "      <td>801957.731934</td>\n",
       "      <td>4</td>\n",
       "      <td>84500</td>\n",
       "      <td>94</td>\n",
       "    </tr>\n",
       "    <tr>\n",
       "      <th>3</th>\n",
       "      <td>769855.506225</td>\n",
       "      <td>779190.668531</td>\n",
       "      <td>999</td>\n",
       "      <td>23058.148140</td>\n",
       "      <td>825306.964811</td>\n",
       "      <td>5</td>\n",
       "      <td>84500</td>\n",
       "      <td>94</td>\n",
       "    </tr>\n",
       "    <tr>\n",
       "      <th>4</th>\n",
       "      <td>769498.386385</td>\n",
       "      <td>778833.548692</td>\n",
       "      <td>999</td>\n",
       "      <td>22631.817189</td>\n",
       "      <td>824097.183069</td>\n",
       "      <td>6</td>\n",
       "      <td>84500</td>\n",
       "      <td>94</td>\n",
       "    </tr>\n",
       "  </tbody>\n",
       "</table>\n",
       "</div>"
      ],
      "text/plain": [
       "             aic            bic  dofs       entropy            icl  k  n_obs  \\\n",
       "0  780111.451608  783811.876306   396    994.063572  785800.003449  2  84500   \n",
       "1  772364.754379  777934.080440   596   3460.459248  784854.998936  3  84500   \n",
       "2  769791.382984  777238.954915   797  12359.388510  801957.731934  4  84500   \n",
       "3  769855.506225  779190.668531   999  23058.148140  825306.964811  5  84500   \n",
       "4  769498.386385  778833.548692   999  22631.817189  824097.183069  6  84500   \n",
       "\n",
       "   tau  \n",
       "0   94  \n",
       "1   94  \n",
       "2   94  \n",
       "3   94  \n",
       "4   94  "
      ]
     },
     "execution_count": 4,
     "metadata": {},
     "output_type": "execute_result"
    }
   ],
   "source": [
    "df.head()"
   ]
  },
  {
   "cell_type": "code",
   "execution_count": 7,
   "metadata": {},
   "outputs": [],
   "source": [
    "crit = df.loc[:, ['aic', 'bic', 'icl', 'k', 'tau']]"
   ]
  },
  {
   "cell_type": "code",
   "execution_count": 10,
   "metadata": {},
   "outputs": [],
   "source": [
    "crit_melt = pd.melt(frame=crit, id_vars=['k', 'tau'], value_name='score', var_name='criterion')\n"
   ]
  },
  {
   "cell_type": "code",
   "execution_count": 14,
   "metadata": {},
   "outputs": [
    {
     "data": {
      "text/html": [
       "<div>\n",
       "<style scoped>\n",
       "    .dataframe tbody tr th:only-of-type {\n",
       "        vertical-align: middle;\n",
       "    }\n",
       "\n",
       "    .dataframe tbody tr th {\n",
       "        vertical-align: top;\n",
       "    }\n",
       "\n",
       "    .dataframe thead th {\n",
       "        text-align: right;\n",
       "    }\n",
       "</style>\n",
       "<table border=\"1\" class=\"dataframe\">\n",
       "  <thead>\n",
       "    <tr style=\"text-align: right;\">\n",
       "      <th></th>\n",
       "      <th>k</th>\n",
       "      <th>tau</th>\n",
       "      <th>criterion</th>\n",
       "      <th>score</th>\n",
       "    </tr>\n",
       "  </thead>\n",
       "  <tbody>\n",
       "    <tr>\n",
       "      <th>4</th>\n",
       "      <td>6</td>\n",
       "      <td>94</td>\n",
       "      <td>aic</td>\n",
       "      <td>769498.386385</td>\n",
       "    </tr>\n",
       "    <tr>\n",
       "      <th>11</th>\n",
       "      <td>7</td>\n",
       "      <td>37</td>\n",
       "      <td>aic</td>\n",
       "      <td>718217.280218</td>\n",
       "    </tr>\n",
       "    <tr>\n",
       "      <th>17</th>\n",
       "      <td>7</td>\n",
       "      <td>8</td>\n",
       "      <td>aic</td>\n",
       "      <td>643950.494145</td>\n",
       "    </tr>\n",
       "    <tr>\n",
       "      <th>23</th>\n",
       "      <td>7</td>\n",
       "      <td>5</td>\n",
       "      <td>aic</td>\n",
       "      <td>626166.037947</td>\n",
       "    </tr>\n",
       "    <tr>\n",
       "      <th>26</th>\n",
       "      <td>4</td>\n",
       "      <td>94</td>\n",
       "      <td>bic</td>\n",
       "      <td>777238.954915</td>\n",
       "    </tr>\n",
       "    <tr>\n",
       "      <th>32</th>\n",
       "      <td>4</td>\n",
       "      <td>37</td>\n",
       "      <td>bic</td>\n",
       "      <td>728611.684235</td>\n",
       "    </tr>\n",
       "    <tr>\n",
       "      <th>41</th>\n",
       "      <td>7</td>\n",
       "      <td>8</td>\n",
       "      <td>bic</td>\n",
       "      <td>657088.870724</td>\n",
       "    </tr>\n",
       "    <tr>\n",
       "      <th>47</th>\n",
       "      <td>7</td>\n",
       "      <td>5</td>\n",
       "      <td>bic</td>\n",
       "      <td>639304.414527</td>\n",
       "    </tr>\n",
       "    <tr>\n",
       "      <th>49</th>\n",
       "      <td>3</td>\n",
       "      <td>94</td>\n",
       "      <td>icl</td>\n",
       "      <td>784854.998936</td>\n",
       "    </tr>\n",
       "    <tr>\n",
       "      <th>56</th>\n",
       "      <td>4</td>\n",
       "      <td>37</td>\n",
       "      <td>icl</td>\n",
       "      <td>742423.064462</td>\n",
       "    </tr>\n",
       "    <tr>\n",
       "      <th>62</th>\n",
       "      <td>4</td>\n",
       "      <td>8</td>\n",
       "      <td>icl</td>\n",
       "      <td>677190.711522</td>\n",
       "    </tr>\n",
       "    <tr>\n",
       "      <th>70</th>\n",
       "      <td>6</td>\n",
       "      <td>5</td>\n",
       "      <td>icl</td>\n",
       "      <td>661275.431855</td>\n",
       "    </tr>\n",
       "  </tbody>\n",
       "</table>\n",
       "</div>"
      ],
      "text/plain": [
       "    k  tau criterion          score\n",
       "4   6   94       aic  769498.386385\n",
       "11  7   37       aic  718217.280218\n",
       "17  7    8       aic  643950.494145\n",
       "23  7    5       aic  626166.037947\n",
       "26  4   94       bic  777238.954915\n",
       "32  4   37       bic  728611.684235\n",
       "41  7    8       bic  657088.870724\n",
       "47  7    5       bic  639304.414527\n",
       "49  3   94       icl  784854.998936\n",
       "56  4   37       icl  742423.064462\n",
       "62  4    8       icl  677190.711522\n",
       "70  6    5       icl  661275.431855"
      ]
     },
     "execution_count": 14,
     "metadata": {},
     "output_type": "execute_result"
    }
   ],
   "source": [
    "min_scores = crit_melt.groupby(['tau', 'criterion'])['score'].transform('min')\n",
    "idx = crit_melt['score'] == min_scores\n",
    "best = crit_melt.loc[idx, :]\n",
    "best"
   ]
  },
  {
   "cell_type": "code",
   "execution_count": 21,
   "metadata": {},
   "outputs": [],
   "source": [
    "criteria = crit_melt['criterion'].unique()\n",
    "taus = crit_melt['tau'].unique()"
   ]
  },
  {
   "cell_type": "code",
   "execution_count": 36,
   "metadata": {},
   "outputs": [
    {
     "data": {
      "image/png": "[encoded data removed]",
      "text/plain": [
       "<matplotlib.figure.Figure at 0x117d846d8>"
      ]
     },
     "metadata": {},
     "output_type": "display_data"
    }
   ],
   "source": [
    "with sns.plotting_context('paper', font_scale=1.5):\n",
    "    sns.set_style('whitegrid')\n",
    "    g = sns.FacetGrid(data=crit_melt, col='criterion',row='tau', col_order=criteria, row_order=taus, sharey=True)\n",
    "    g.map(plt.scatter, 'k', 'score')\n",
    "    for i, ax in enumerate(g.axes.flatten()):\n",
    "        idx = (best['criterion']==criteria[i % len(criteria)]) & (best['tau'] == taus[int(i/len(criteria))])\n",
    "        ax.scatter(best.loc[idx, 'k'],best.loc[idx, 'score'] , marker='o',s=50, color='k')\n",
    "    # g.set(yscale='log')"
   ]
  },
  {
   "cell_type": "code",
   "execution_count": null,
   "metadata": {},
   "outputs": [],
   "source": []
  }
 ],
 "metadata": {
  "kernelspec": {
   "display_name": "Python 3",
   "language": "python",
   "name": "python3"
  },
  "language_info": {
   "codemirror_mode": {
    "name": "ipython",
    "version": 3
   },
   "file_extension": ".py",
   "mimetype": "text/x-python",
   "name": "python",
   "nbconvert_exporter": "python",
   "pygments_lexer": "ipython3",
   "version": "3.5.4"
  }
 },
 "nbformat": 4,
 "nbformat_minor": 1
}
