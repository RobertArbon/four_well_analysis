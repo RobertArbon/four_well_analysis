{
 "cells": [
  {
   "cell_type": "code",
   "execution_count": 2,
   "metadata": {
    "collapsed": true
   },
   "outputs": [],
   "source": [
    "import GPy\n",
    "import pandas as pd\n",
    "import numpy as np\n",
    "from sklearn.utils import resample\n",
    "from sklearn.preprocessing import MinMaxScaler \n",
    "import seaborn as sns\n",
    "import matplotlib.pyplot as plt\n",
    "%matplotlib inline\n",
    "from osprey.config import Config\n",
    "from os.path import sys\n",
    "\n"
   ]
  },
  {
   "cell_type": "code",
   "execution_count": 20,
   "metadata": {
    "collapsed": false
   },
   "outputs": [
    {
     "name": "stdout",
     "output_type": "stream",
     "text": [
      "Loading config file:     alpha_angle.yaml...\n",
      "Loading trials database: sqlite:///osprey-trails.db...\n"
     ]
    }
   ],
   "source": [
    "# import database\n",
    "\n",
    "all_dfs = []\n",
    "strategies = ['Random', 'Sobol']\n",
    "for strategy in strategies:\n",
    "    df = p\n",
    "# Load (arbirtrary) Configuation File\n",
    "\n",
    "\n",
    "# Retrieve Trial Results\n",
    "df = config.trial_results()\n"
   ]
  },
  {
   "cell_type": "code",
   "execution_count": 21,
   "metadata": {
    "collapsed": false
   },
   "outputs": [],
   "source": [
    "df = df.loc[df['status']=='SUCCEEDED', ['parameters', 'mean_test_score', 'project_name']]"
   ]
  },
  {
   "cell_type": "markdown",
   "metadata": {},
   "source": [
    "# Variable Importance\n",
    "\n",
    "This workbook im"
   ]
  },
  {
   "cell_type": "code",
   "execution_count": 22,
   "metadata": {
    "collapsed": false
   },
   "outputs": [],
   "source": [
    "variables = ['tica__lag_time', 'tica__n_components', 'cluster__n_clusters']\n",
    "for variable in variables: \n",
    "    df[variable] = df['parameters'].apply(lambda x: x[variable])\n",
    "del df['parameters']"
   ]
  },
  {
   "cell_type": "code",
   "execution_count": 23,
   "metadata": {
    "collapsed": false
   },
   "outputs": [
    {
     "data": {
      "text/html": [
       "<div>\n",
       "<style>\n",
       "    .dataframe thead tr:only-child th {\n",
       "        text-align: right;\n",
       "    }\n",
       "\n",
       "    .dataframe thead th {\n",
       "        text-align: left;\n",
       "    }\n",
       "\n",
       "    .dataframe tbody tr th {\n",
       "        vertical-align: top;\n",
       "    }\n",
       "</style>\n",
       "<table border=\"1\" class=\"dataframe\">\n",
       "  <thead>\n",
       "    <tr style=\"text-align: right;\">\n",
       "      <th></th>\n",
       "      <th>mean_test_score</th>\n",
       "      <th>project_name</th>\n",
       "      <th>tica__lag_time</th>\n",
       "      <th>tica__n_components</th>\n",
       "      <th>cluster__n_clusters</th>\n",
       "    </tr>\n",
       "  </thead>\n",
       "  <tbody>\n",
       "    <tr>\n",
       "      <th>0</th>\n",
       "      <td>2.001252</td>\n",
       "      <td>alpha_angle</td>\n",
       "      <td>228</td>\n",
       "      <td>10</td>\n",
       "      <td>990</td>\n",
       "    </tr>\n",
       "    <tr>\n",
       "      <th>1</th>\n",
       "      <td>2.303891</td>\n",
       "      <td>alpha_angle</td>\n",
       "      <td>247</td>\n",
       "      <td>5</td>\n",
       "      <td>547</td>\n",
       "    </tr>\n",
       "    <tr>\n",
       "      <th>2</th>\n",
       "      <td>2.815396</td>\n",
       "      <td>b-cont_ca</td>\n",
       "      <td>134</td>\n",
       "      <td>2</td>\n",
       "      <td>371</td>\n",
       "    </tr>\n",
       "    <tr>\n",
       "      <th>3</th>\n",
       "      <td>2.294570</td>\n",
       "      <td>alpha_angle</td>\n",
       "      <td>196</td>\n",
       "      <td>5</td>\n",
       "      <td>371</td>\n",
       "    </tr>\n",
       "    <tr>\n",
       "      <th>4</th>\n",
       "      <td>30.575240</td>\n",
       "      <td>all_tor</td>\n",
       "      <td>176</td>\n",
       "      <td>10</td>\n",
       "      <td>206</td>\n",
       "    </tr>\n",
       "  </tbody>\n",
       "</table>\n",
       "</div>"
      ],
      "text/plain": [
       "   mean_test_score project_name  tica__lag_time  tica__n_components  \\\n",
       "0         2.001252  alpha_angle             228                  10   \n",
       "1         2.303891  alpha_angle             247                   5   \n",
       "2         2.815396    b-cont_ca             134                   2   \n",
       "3         2.294570  alpha_angle             196                   5   \n",
       "4        30.575240      all_tor             176                  10   \n",
       "\n",
       "   cluster__n_clusters  \n",
       "0                  990  \n",
       "1                  547  \n",
       "2                  371  \n",
       "3                  371  \n",
       "4                  206  "
      ]
     },
     "execution_count": 23,
     "metadata": {},
     "output_type": "execute_result"
    }
   ],
   "source": [
    "df.head()"
   ]
  },
  {
   "cell_type": "code",
   "execution_count": 41,
   "metadata": {
    "collapsed": true
   },
   "outputs": [],
   "source": [
    "X = df.loc[df['project_name']=='alpha_angle', variables].values\n",
    "Y = df.loc[df['project_name']=='alpha_angle', 'mean_test_score'].values[:, np.newaxis]"
   ]
  },
  {
   "cell_type": "code",
   "execution_count": 91,
   "metadata": {
    "collapsed": false
   },
   "outputs": [
    {
     "name": "stdout",
     "output_type": "stream",
     "text": [
      "(207, 3)\n",
      "(207, 1)\n"
     ]
    }
   ],
   "source": [
    "print(X.shape)\n",
    "print(Y.shape)"
   ]
  },
  {
   "cell_type": "code",
   "execution_count": 98,
   "metadata": {
    "collapsed": false
   },
   "outputs": [
    {
     "data": {
      "text/html": [
       "<style type=\"text/css\">\n",
       ".tg  {font-family:\"Courier New\", Courier, monospace !important;padding:2px 3px;word-break:normal;border-collapse:collapse;border-spacing:0;border-color:#DCDCDC;margin:0px auto;width:100%;}\n",
       ".tg td{font-family:\"Courier New\", Courier, monospace !important;font-weight:bold;color:#444;background-color:#F7FDFA;border-style:solid;border-width:1px;overflow:hidden;word-break:normal;border-color:#DCDCDC;}\n",
       ".tg th{font-family:\"Courier New\", Courier, monospace !important;font-weight:normal;color:#fff;background-color:#26ADE4;border-style:solid;border-width:1px;overflow:hidden;word-break:normal;border-color:#DCDCDC;}\n",
       ".tg .tg-left{font-family:\"Courier New\", Courier, monospace !important;font-weight:normal;text-align:left;}\n",
       ".tg .tg-center{font-family:\"Courier New\", Courier, monospace !important;font-weight:normal;text-align:center;}\n",
       ".tg .tg-right{font-family:\"Courier New\", Courier, monospace !important;font-weight:normal;text-align:right;}\n",
       "</style>\n",
       "<table class=\"tg\"><tr><th><b>  rbf.       </b></th><th><b>value</b></th><th><b>constraints</b></th><th><b>priors</b></th></tr>\n",
       "<tr><td class=tg-left>  variance   </td><td class=tg-right>  1.0</td><td class=tg-center>    +ve    </td><td class=tg-center>      </td></tr>\n",
       "<tr><td class=tg-left>  lengthscale</td><td class=tg-right> (3,)</td><td class=tg-center>    +ve    </td><td class=tg-center>      </td></tr>\n",
       "</table>"
      ],
      "text/plain": [
       "<GPy.kern.src.rbf.RBF at 0x112d3e278>"
      ]
     },
     "execution_count": 98,
     "metadata": {},
     "output_type": "execute_result"
    }
   ],
   "source": [
    "kernel= GPy.kern.RBF(input_dim=3, ARD=True, lengthscale=[1,.2,.3])\n",
    "kernel"
   ]
  },
  {
   "cell_type": "code",
   "execution_count": 99,
   "metadata": {
    "collapsed": false
   },
   "outputs": [
    {
     "data": {
      "text/html": [
       "<style type=\"text/css\">\n",
       ".tg  {padding:2px 3px;word-break:normal;border-collapse:collapse;border-spacing:0;border-color:#DCDCDC;margin:0px auto;width:100%;}\n",
       ".tg td{font-family:\"Courier New\", Courier, monospace !important;font-weight:bold;color:#444;background-color:#F7FDFA;border-style:solid;border-width:1px;overflow:hidden;word-break:normal;border-color:#DCDCDC;}\n",
       ".tg th{font-family:\"Courier New\", Courier, monospace !important;font-weight:normal;color:#fff;background-color:#26ADE4;border-style:solid;border-width:1px;overflow:hidden;word-break:normal;border-color:#DCDCDC;}\n",
       ".tg .tg-left{font-family:\"Courier New\", Courier, monospace !important;font-weight:normal;text-align:left;}\n",
       ".tg .tg-right{font-family:\"Courier New\", Courier, monospace !important;font-weight:normal;text-align:right;}\n",
       "</style>\n",
       "<table class=\"tg\">\n",
       "\n",
       "<tr>\n",
       "  <th><b>index</b></th>\n",
       "  <th><b>GP_regression.rbf.lengthscale</b></th>\n",
       "  <th><b>constraints</b></th><th><b>priors</b></th>\n",
       "</tr>\n",
       "<tr><td class=tg-left>  [0]  </td><td class=tg-right>                   1.00000000</td><td class=tg-left>    +ve    </td><td class=tg-left>      </td></tr>\n",
       "<tr><td class=tg-left>  [1]  </td><td class=tg-right>                   0.20000000</td><td class=tg-left>    +ve    </td><td class=tg-left>      </td></tr>\n",
       "<tr><td class=tg-left>  [2]  </td><td class=tg-right>                   0.30000000</td><td class=tg-left>    +ve    </td><td class=tg-left>      </td></tr>"
      ],
      "text/plain": [
       "\u001b[1mGP_regression.rbf.lengthscale\u001b[0;0m:\n",
       "Param([ 1. ,  0.2,  0.3])"
      ]
     },
     "execution_count": 99,
     "metadata": {},
     "output_type": "execute_result"
    }
   ],
   "source": [
    "m = GPy.models.GPRegression(X,Y,kernel)\n",
    "kernel.lengthscale"
   ]
  },
  {
   "cell_type": "code",
   "execution_count": 100,
   "metadata": {
    "collapsed": false
   },
   "outputs": [],
   "source": [
    "m.optimize()"
   ]
  },
  {
   "cell_type": "code",
   "execution_count": 101,
   "metadata": {
    "collapsed": false
   },
   "outputs": [],
   "source": [
    "lens = np.array([x for x in kernel.lengthscale])\n",
    "relevance = 1/lens"
   ]
  },
  {
   "cell_type": "code",
   "execution_count": 178,
   "metadata": {
    "collapsed": false
   },
   "outputs": [
    {
     "name": "stderr",
     "output_type": "stream",
     "text": [
      " /Users/robert_arbon/anaconda/envs/ml4dyn/lib/python3.5/site-packages/sklearn/utils/validation.py:429: DataConversionWarning:Data with input dtype int64 was converted to float64 by MinMaxScaler.\n"
     ]
    }
   ],
   "source": [
    "scaler = MinMaxScaler()\n",
    "scaler.fit(X)\n",
    "Xs = scaler.transform(X)"
   ]
  },
  {
   "cell_type": "code",
   "execution_count": 200,
   "metadata": {
    "collapsed": false,
    "scrolled": true
   },
   "outputs": [
    {
     "name": "stderr",
     "output_type": "stream",
     "text": [
      " /Users/robert_arbon/anaconda/envs/ml4dyn/lib/python3.5/site-packages/paramz-0.7.4-py3.5.egg/paramz/transformations.py:106: RuntimeWarning:invalid value encountered in greater\n",
      " /Users/robert_arbon/anaconda/envs/ml4dyn/lib/python3.5/site-packages/paramz-0.7.4-py3.5.egg/paramz/transformations.py:111: RuntimeWarning:invalid value encountered in greater\n"
     ]
    }
   ],
   "source": [
    "from sklearn.utils import resample\n",
    "num_bs = 100\n",
    "relevance = np.zeros((num_bs, X.shape[1]))\n",
    "\n",
    "for i in range(num_bs):\n",
    "    # Bootstrap\n",
    "    x, y = resample(Xs,Y, random_state=int(i), n_samples=int(Y.shape[0]*0.8))\n",
    "#     kerns = [GPy.kern.Matern52(1, lengthscale=np.random.uniform(low=0.1, high=10.0, size=1), active_dims=[i]) \n",
    "#             for i in range(3)]\n",
    "#     kernel=np.sum(kerns)\n",
    "    kernel = GPy.kern.RBF(3, ARD=True, lengthscale=np.random.uniform(low=1, high=10.0, size=3))\n",
    "    m = GPy.models.GPRegression(x,y,kernel)\n",
    "    m.optimize()\n",
    "    lens = np.array([x for x in kernel.lengthscale])\n",
    "    relevance[i] = 1./lens  \n",
    "    \n"
   ]
  },
  {
   "cell_type": "code",
   "execution_count": 201,
   "metadata": {
    "collapsed": false
   },
   "outputs": [
    {
     "data": {
      "text/html": [
       "<div>\n",
       "<style>\n",
       "    .dataframe thead tr:only-child th {\n",
       "        text-align: right;\n",
       "    }\n",
       "\n",
       "    .dataframe thead th {\n",
       "        text-align: left;\n",
       "    }\n",
       "\n",
       "    .dataframe tbody tr th {\n",
       "        vertical-align: top;\n",
       "    }\n",
       "</style>\n",
       "<table border=\"1\" class=\"dataframe\">\n",
       "  <thead>\n",
       "    <tr style=\"text-align: right;\">\n",
       "      <th></th>\n",
       "      <th>tica__lag_time</th>\n",
       "      <th>tica__n_components</th>\n",
       "      <th>cluster__n_clusters</th>\n",
       "    </tr>\n",
       "  </thead>\n",
       "  <tbody>\n",
       "    <tr>\n",
       "      <th>0</th>\n",
       "      <td>0.105876</td>\n",
       "      <td>0.549834</td>\n",
       "      <td>0.026100</td>\n",
       "    </tr>\n",
       "    <tr>\n",
       "      <th>1</th>\n",
       "      <td>0.101922</td>\n",
       "      <td>0.843204</td>\n",
       "      <td>0.032468</td>\n",
       "    </tr>\n",
       "    <tr>\n",
       "      <th>2</th>\n",
       "      <td>0.218427</td>\n",
       "      <td>0.933881</td>\n",
       "      <td>0.064363</td>\n",
       "    </tr>\n",
       "    <tr>\n",
       "      <th>3</th>\n",
       "      <td>0.165393</td>\n",
       "      <td>0.714842</td>\n",
       "      <td>0.036652</td>\n",
       "    </tr>\n",
       "    <tr>\n",
       "      <th>4</th>\n",
       "      <td>0.071547</td>\n",
       "      <td>0.464386</td>\n",
       "      <td>0.034650</td>\n",
       "    </tr>\n",
       "  </tbody>\n",
       "</table>\n",
       "</div>"
      ],
      "text/plain": [
       "   tica__lag_time  tica__n_components  cluster__n_clusters\n",
       "0        0.105876            0.549834             0.026100\n",
       "1        0.101922            0.843204             0.032468\n",
       "2        0.218427            0.933881             0.064363\n",
       "3        0.165393            0.714842             0.036652\n",
       "4        0.071547            0.464386             0.034650"
      ]
     },
     "execution_count": 201,
     "metadata": {},
     "output_type": "execute_result"
    }
   ],
   "source": [
    "relevance = pd.DataFrame(relevance, columns=variables)\n",
    "relevance.head()"
   ]
  },
  {
   "cell_type": "code",
   "execution_count": 202,
   "metadata": {
    "collapsed": false
   },
   "outputs": [
    {
     "data": {
      "text/html": [
       "<div>\n",
       "<style>\n",
       "    .dataframe thead tr:only-child th {\n",
       "        text-align: right;\n",
       "    }\n",
       "\n",
       "    .dataframe thead th {\n",
       "        text-align: left;\n",
       "    }\n",
       "\n",
       "    .dataframe tbody tr th {\n",
       "        vertical-align: top;\n",
       "    }\n",
       "</style>\n",
       "<table border=\"1\" class=\"dataframe\">\n",
       "  <thead>\n",
       "    <tr style=\"text-align: right;\">\n",
       "      <th></th>\n",
       "      <th>variable</th>\n",
       "      <th>value</th>\n",
       "    </tr>\n",
       "  </thead>\n",
       "  <tbody>\n",
       "    <tr>\n",
       "      <th>0</th>\n",
       "      <td>tica__lag_time</td>\n",
       "      <td>0.105876</td>\n",
       "    </tr>\n",
       "    <tr>\n",
       "      <th>1</th>\n",
       "      <td>tica__lag_time</td>\n",
       "      <td>0.101922</td>\n",
       "    </tr>\n",
       "    <tr>\n",
       "      <th>2</th>\n",
       "      <td>tica__lag_time</td>\n",
       "      <td>0.218427</td>\n",
       "    </tr>\n",
       "    <tr>\n",
       "      <th>3</th>\n",
       "      <td>tica__lag_time</td>\n",
       "      <td>0.165393</td>\n",
       "    </tr>\n",
       "    <tr>\n",
       "      <th>4</th>\n",
       "      <td>tica__lag_time</td>\n",
       "      <td>0.071547</td>\n",
       "    </tr>\n",
       "  </tbody>\n",
       "</table>\n",
       "</div>"
      ],
      "text/plain": [
       "         variable     value\n",
       "0  tica__lag_time  0.105876\n",
       "1  tica__lag_time  0.101922\n",
       "2  tica__lag_time  0.218427\n",
       "3  tica__lag_time  0.165393\n",
       "4  tica__lag_time  0.071547"
      ]
     },
     "execution_count": 202,
     "metadata": {},
     "output_type": "execute_result"
    }
   ],
   "source": [
    "melt_relevance = pd.melt(relevance)\n",
    "melt_relevance.head()"
   ]
  },
  {
   "cell_type": "code",
   "execution_count": 203,
   "metadata": {
    "collapsed": true
   },
   "outputs": [],
   "source": []
  },
  {
   "cell_type": "code",
   "execution_count": 204,
   "metadata": {
    "collapsed": false
   },
   "outputs": [
    {
     "data": {
      "image/png": "[encoded data removed]",
      "text/plain": [
       "<matplotlib.figure.Figure at 0x11386f0b8>"
      ]
     },
     "metadata": {},
     "output_type": "display_data"
    }
   ],
   "source": [
    "ax = sns.boxplot(x='variable', y='value', data=melt_relevance)\n",
    "# ax.set_((0,0.1))\n",
    "ax.set_yscale('log')"
   ]
  },
  {
   "cell_type": "code",
   "execution_count": 192,
   "metadata": {
    "collapsed": false
   },
   "outputs": [
    {
     "name": "stdout",
     "output_type": "stream",
     "text": [
      "[[ 0.20080321  0.          0.16804979]\n",
      " [ 0.53815261  0.55555556  0.94502075]\n",
      " [ 0.88353414  0.88888889  0.76244813]\n",
      " [ 0.46987952  0.11111111  0.38070539]\n",
      " [ 0.18473896  0.88888889  0.69605809]]\n",
      "\n",
      "[[ 0.73895582  0.11111111  0.03008299]\n",
      " [ 0.36947791  0.66666667  0.45643154]\n",
      " [ 0.          0.44444444  0.8246888 ]\n",
      " [ 1.          0.55555556  0.90560166]\n",
      " [ 0.96787149  0.33333333  0.32676349]]\n",
      "\n",
      "[[ 0.38554217  0.66666667  0.70850622]\n",
      " [ 0.53815261  0.33333333  0.06742739]\n",
      " [ 0.          0.44444444  0.8246888 ]\n",
      " [ 0.85140562  0.22222222  0.59854772]\n",
      " [ 0.70281124  0.55555556  0.4346473 ]]\n",
      "\n",
      "[[ 0.94779116  0.22222222  0.97095436]\n",
      " [ 0.79919679  0.44444444  0.99377593]\n",
      " [ 0.92369478  0.11111111  0.04460581]\n",
      " [ 0.81927711  0.          0.07780083]\n",
      " [ 0.5502008   0.88888889  0.01244813]]\n",
      "\n",
      "[[ 0.02008032  0.66666667  0.47821577]\n",
      " [ 0.86746988  0.55555556  0.84543568]\n",
      " [ 0.7751004   0.55555556  0.77178423]\n",
      " [ 0.59437751  0.66666667  0.35580913]\n",
      " [ 0.90361446  0.66666667  0.56120332]]\n",
      "\n",
      "[[ 0.37349398  0.33333333  0.72614108]\n",
      " [ 0.10040161  0.44444444  0.49481328]\n",
      " [ 0.15261044  0.66666667  0.09439834]\n",
      " [ 0.57028112  0.22222222  0.81224066]\n",
      " [ 0.08032129  0.44444444  0.29253112]]\n",
      "\n",
      "[[ 0.95582329  0.          0.88900415]\n",
      " [ 0.52610442  0.88888889  0.23236515]\n",
      " [ 0.94779116  0.22222222  0.97095436]\n",
      " [ 0.97991968  0.55555556  0.98755187]\n",
      " [ 0.67068273  0.          0.68775934]]\n",
      "\n",
      "[[ 0.90763052  0.22222222  0.04253112]\n",
      " [ 0.56626506  0.77777778  0.47925311]\n",
      " [ 0.69477912  0.88888889  0.39834025]\n",
      " [ 0.18473896  0.88888889  0.69605809]\n",
      " [ 0.78714859  0.66666667  0.45643154]]\n",
      "\n",
      "[[ 0.75100402  0.88888889  0.23340249]\n",
      " [ 0.97188755  0.77777778  0.23651452]\n",
      " [ 0.96787149  1.          0.71887967]\n",
      " [ 0.06425703  1.          0.66078838]\n",
      " [ 0.57429719  0.88888889  0.20228216]]\n",
      "\n",
      "[[ 0.41767068  1.          0.28630705]\n",
      " [ 0.13253012  0.55555556  0.35580913]\n",
      " [ 0.41767068  1.          0.28630705]\n",
      " [ 0.8875502   1.          0.16286307]\n",
      " [ 0.25702811  0.          0.67116183]]\n",
      "\n"
     ]
    }
   ],
   "source": [
    "for i in range(10):\n",
    "    x, y = resample(Xs,Y, random_state=i, n_samples=5)\n",
    "    print(x)\n",
    "    print()"
   ]
  },
  {
   "cell_type": "code",
   "execution_count": null,
   "metadata": {
    "collapsed": true
   },
   "outputs": [],
   "source": []
  }
 ],
 "metadata": {
  "kernelspec": {
   "display_name": "Python 3",
   "language": "python",
   "name": "python3"
  },
  "language_info": {
   "codemirror_mode": {
    "name": "ipython",
    "version": 3
   },
   "file_extension": ".py",
   "mimetype": "text/x-python",
   "name": "python",
   "nbconvert_exporter": "python",
   "pygments_lexer": "ipython3",
   "version": "3.5.2"
  }
 },
 "nbformat": 4,
 "nbformat_minor": 2
}
